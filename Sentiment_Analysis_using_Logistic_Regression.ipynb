{
  "nbformat": 4,
  "nbformat_minor": 0,
  "metadata": {
    "colab": {
      "name": "Sentiment Analysis using Logistic Regression.ipynb",
      "provenance": [],
      "collapsed_sections": []
    },
    "kernelspec": {
      "display_name": "Python 3",
      "language": "python",
      "name": "python3"
    },
    "language_info": {
      "codemirror_mode": {
        "name": "ipython",
        "version": 3
      },
      "file_extension": ".py",
      "mimetype": "text/x-python",
      "name": "python",
      "nbconvert_exporter": "python",
      "pygments_lexer": "ipython3",
      "version": "3.7.6"
    }
  },
  "cells": [
    {
      "cell_type": "code",
      "metadata": {
        "id": "tShtMqvfU-LP"
      },
      "source": [
        "import pandas as pd\n",
        "import string\n",
        "import re"
      ],
      "execution_count": null,
      "outputs": []
    },
    {
      "cell_type": "code",
      "metadata": {
        "colab": {
          "resources": {
            "http://localhost:8080/nbextensions/google.colab/files.js": {
              "data": "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",
              "ok": true,
              "headers": [
                [
                  "content-type",
                  "application/javascript"
                ]
              ],
              "status": 200,
              "status_text": ""
            }
          },
          "base_uri": "https://localhost:8080/",
          "height": 72
        },
        "id": "WwOiWI8nK_g7",
        "outputId": "1e78fa31-9949-47cf-9f69-ba0c17248391"
      },
      "source": [
        "from google.colab import files\n",
        "uploaded = files.upload()"
      ],
      "execution_count": null,
      "outputs": [
        {
          "output_type": "display_data",
          "data": {
            "text/html": [
              "\n",
              "     <input type=\"file\" id=\"files-8296642b-123e-444a-9ef1-6a9632b6a3ac\" name=\"files[]\" multiple disabled\n",
              "        style=\"border:none\" />\n",
              "     <output id=\"result-8296642b-123e-444a-9ef1-6a9632b6a3ac\">\n",
              "      Upload widget is only available when the cell has been executed in the\n",
              "      current browser session. Please rerun this cell to enable.\n",
              "      </output>\n",
              "      <script src=\"/nbextensions/google.colab/files.js\"></script> "
            ],
            "text/plain": [
              "<IPython.core.display.HTML object>"
            ]
          },
          "metadata": {
            "tags": []
          }
        },
        {
          "output_type": "stream",
          "text": [
            "Saving UpdatedMinor.xlsx to UpdatedMinor.xlsx\n"
          ],
          "name": "stdout"
        }
      ]
    },
    {
      "cell_type": "code",
      "metadata": {
        "colab": {
          "base_uri": "https://localhost:8080/",
          "height": 419
        },
        "id": "Pq_Zc3tZVFRA",
        "scrolled": false,
        "outputId": "5606c29a-70ac-46b8-83af-9a85488fe3a1"
      },
      "source": [
        "\n",
        "df = pd.read_excel(\"UpdatedMinor.xlsx\")\n",
        "df"
      ],
      "execution_count": null,
      "outputs": [
        {
          "output_type": "execute_result",
          "data": {
            "text/html": [
              "<div>\n",
              "<style scoped>\n",
              "    .dataframe tbody tr th:only-of-type {\n",
              "        vertical-align: middle;\n",
              "    }\n",
              "\n",
              "    .dataframe tbody tr th {\n",
              "        vertical-align: top;\n",
              "    }\n",
              "\n",
              "    .dataframe thead th {\n",
              "        text-align: right;\n",
              "    }\n",
              "</style>\n",
              "<table border=\"1\" class=\"dataframe\">\n",
              "  <thead>\n",
              "    <tr style=\"text-align: right;\">\n",
              "      <th></th>\n",
              "      <th>Timestamp</th>\n",
              "      <th>Label</th>\n",
              "      <th>TWEET</th>\n",
              "    </tr>\n",
              "  </thead>\n",
              "  <tbody>\n",
              "    <tr>\n",
              "      <th>0</th>\n",
              "      <td>2021-04-23 00:51:34.298000</td>\n",
              "      <td>1</td>\n",
              "      <td>The prizes will surely go up. Halving rocks!!!...</td>\n",
              "    </tr>\n",
              "    <tr>\n",
              "      <th>1</th>\n",
              "      <td>2021-04-23 00:53:51.922000</td>\n",
              "      <td>1</td>\n",
              "      <td>#Bitcoin price increase after each halving! Ha...</td>\n",
              "    </tr>\n",
              "    <tr>\n",
              "      <th>2</th>\n",
              "      <td>2021-04-23 00:54:21.060000</td>\n",
              "      <td>1</td>\n",
              "      <td>the value used to trade in the Bitcoin ecosyst...</td>\n",
              "    </tr>\n",
              "    <tr>\n",
              "      <th>3</th>\n",
              "      <td>2021-04-23 00:54:23.527000</td>\n",
              "      <td>1</td>\n",
              "      <td>Bitcoin is designed to become more expensive -...</td>\n",
              "    </tr>\n",
              "    <tr>\n",
              "      <th>4</th>\n",
              "      <td>2021-04-23 00:57:44.899000</td>\n",
              "      <td>1</td>\n",
              "      <td>Bitcoin is in the stealth phase of its bull ru...</td>\n",
              "    </tr>\n",
              "    <tr>\n",
              "      <th>...</th>\n",
              "      <td>...</td>\n",
              "      <td>...</td>\n",
              "      <td>...</td>\n",
              "    </tr>\n",
              "    <tr>\n",
              "      <th>100</th>\n",
              "      <td>2021/04/25 1:32:51 PM GMT+5:30</td>\n",
              "      <td>1</td>\n",
              "      <td>$60,000.price rising , great news for bitcoin ...</td>\n",
              "    </tr>\n",
              "    <tr>\n",
              "      <th>101</th>\n",
              "      <td>2021/04/25 1:33:37 PM GMT+5:30</td>\n",
              "      <td>1</td>\n",
              "      <td>About $10B of #Bitcoin withdrawn from exchange...</td>\n",
              "    </tr>\n",
              "    <tr>\n",
              "      <th>102</th>\n",
              "      <td>2021/04/25 1:36:36 PM GMT+5:30</td>\n",
              "      <td>1</td>\n",
              "      <td>The decision to own #bitcoin is binary, but th...</td>\n",
              "    </tr>\n",
              "    <tr>\n",
              "      <th>103</th>\n",
              "      <td>2021/04/25 1:37:34 PM GMT+5:30</td>\n",
              "      <td>1</td>\n",
              "      <td>The Nation State Case for #Bitcoin with \\n@bal...</td>\n",
              "    </tr>\n",
              "    <tr>\n",
              "      <th>104</th>\n",
              "      <td>2021/04/25 1:38:23 PM GMT+5:30</td>\n",
              "      <td>1</td>\n",
              "      <td>gold is to #bitcoin like the horse and buggy i...</td>\n",
              "    </tr>\n",
              "  </tbody>\n",
              "</table>\n",
              "<p>105 rows × 3 columns</p>\n",
              "</div>"
            ],
            "text/plain": [
              "                          Timestamp  ...                                              TWEET\n",
              "0        2021-04-23 00:51:34.298000  ...  The prizes will surely go up. Halving rocks!!!...\n",
              "1        2021-04-23 00:53:51.922000  ...  #Bitcoin price increase after each halving! Ha...\n",
              "2        2021-04-23 00:54:21.060000  ...  the value used to trade in the Bitcoin ecosyst...\n",
              "3        2021-04-23 00:54:23.527000  ...  Bitcoin is designed to become more expensive -...\n",
              "4        2021-04-23 00:57:44.899000  ...  Bitcoin is in the stealth phase of its bull ru...\n",
              "..                              ...  ...                                                ...\n",
              "100  2021/04/25 1:32:51 PM GMT+5:30  ...  $60,000.price rising , great news for bitcoin ...\n",
              "101  2021/04/25 1:33:37 PM GMT+5:30  ...  About $10B of #Bitcoin withdrawn from exchange...\n",
              "102  2021/04/25 1:36:36 PM GMT+5:30  ...  The decision to own #bitcoin is binary, but th...\n",
              "103  2021/04/25 1:37:34 PM GMT+5:30  ...  The Nation State Case for #Bitcoin with \\n@bal...\n",
              "104  2021/04/25 1:38:23 PM GMT+5:30  ...  gold is to #bitcoin like the horse and buggy i...\n",
              "\n",
              "[105 rows x 3 columns]"
            ]
          },
          "metadata": {
            "tags": []
          },
          "execution_count": 3
        }
      ]
    },
    {
      "cell_type": "code",
      "metadata": {
        "colab": {
          "base_uri": "https://localhost:8080/",
          "height": 419
        },
        "id": "cWvWX-ryWnE3",
        "outputId": "972e0b28-8ef2-4a49-af9c-843cc48b1419"
      },
      "source": [
        "data= ['TWEET','Label']\n",
        "df = df[data]\n",
        "df"
      ],
      "execution_count": null,
      "outputs": [
        {
          "output_type": "execute_result",
          "data": {
            "text/html": [
              "<div>\n",
              "<style scoped>\n",
              "    .dataframe tbody tr th:only-of-type {\n",
              "        vertical-align: middle;\n",
              "    }\n",
              "\n",
              "    .dataframe tbody tr th {\n",
              "        vertical-align: top;\n",
              "    }\n",
              "\n",
              "    .dataframe thead th {\n",
              "        text-align: right;\n",
              "    }\n",
              "</style>\n",
              "<table border=\"1\" class=\"dataframe\">\n",
              "  <thead>\n",
              "    <tr style=\"text-align: right;\">\n",
              "      <th></th>\n",
              "      <th>TWEET</th>\n",
              "      <th>Label</th>\n",
              "    </tr>\n",
              "  </thead>\n",
              "  <tbody>\n",
              "    <tr>\n",
              "      <th>0</th>\n",
              "      <td>The prizes will surely go up. Halving rocks!!!...</td>\n",
              "      <td>1</td>\n",
              "    </tr>\n",
              "    <tr>\n",
              "      <th>1</th>\n",
              "      <td>#Bitcoin price increase after each halving! Ha...</td>\n",
              "      <td>1</td>\n",
              "    </tr>\n",
              "    <tr>\n",
              "      <th>2</th>\n",
              "      <td>the value used to trade in the Bitcoin ecosyst...</td>\n",
              "      <td>1</td>\n",
              "    </tr>\n",
              "    <tr>\n",
              "      <th>3</th>\n",
              "      <td>Bitcoin is designed to become more expensive -...</td>\n",
              "      <td>1</td>\n",
              "    </tr>\n",
              "    <tr>\n",
              "      <th>4</th>\n",
              "      <td>Bitcoin is in the stealth phase of its bull ru...</td>\n",
              "      <td>1</td>\n",
              "    </tr>\n",
              "    <tr>\n",
              "      <th>...</th>\n",
              "      <td>...</td>\n",
              "      <td>...</td>\n",
              "    </tr>\n",
              "    <tr>\n",
              "      <th>100</th>\n",
              "      <td>$60,000.price rising , great news for bitcoin ...</td>\n",
              "      <td>1</td>\n",
              "    </tr>\n",
              "    <tr>\n",
              "      <th>101</th>\n",
              "      <td>About $10B of #Bitcoin withdrawn from exchange...</td>\n",
              "      <td>1</td>\n",
              "    </tr>\n",
              "    <tr>\n",
              "      <th>102</th>\n",
              "      <td>The decision to own #bitcoin is binary, but th...</td>\n",
              "      <td>1</td>\n",
              "    </tr>\n",
              "    <tr>\n",
              "      <th>103</th>\n",
              "      <td>The Nation State Case for #Bitcoin with \\n@bal...</td>\n",
              "      <td>1</td>\n",
              "    </tr>\n",
              "    <tr>\n",
              "      <th>104</th>\n",
              "      <td>gold is to #bitcoin like the horse and buggy i...</td>\n",
              "      <td>1</td>\n",
              "    </tr>\n",
              "  </tbody>\n",
              "</table>\n",
              "<p>105 rows × 2 columns</p>\n",
              "</div>"
            ],
            "text/plain": [
              "                                                 TWEET  Label\n",
              "0    The prizes will surely go up. Halving rocks!!!...      1\n",
              "1    #Bitcoin price increase after each halving! Ha...      1\n",
              "2    the value used to trade in the Bitcoin ecosyst...      1\n",
              "3    Bitcoin is designed to become more expensive -...      1\n",
              "4    Bitcoin is in the stealth phase of its bull ru...      1\n",
              "..                                                 ...    ...\n",
              "100  $60,000.price rising , great news for bitcoin ...      1\n",
              "101  About $10B of #Bitcoin withdrawn from exchange...      1\n",
              "102  The decision to own #bitcoin is binary, but th...      1\n",
              "103  The Nation State Case for #Bitcoin with \\n@bal...      1\n",
              "104  gold is to #bitcoin like the horse and buggy i...      1\n",
              "\n",
              "[105 rows x 2 columns]"
            ]
          },
          "metadata": {
            "tags": []
          },
          "execution_count": 4
        }
      ]
    },
    {
      "cell_type": "code",
      "metadata": {
        "colab": {
          "resources": {
            "http://localhost:8080/nbextensions/google.colab/files.js": {
              "data": "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",
              "ok": true,
              "headers": [
                [
                  "content-type",
                  "application/javascript"
                ]
              ],
              "status": 200,
              "status_text": ""
            }
          },
          "base_uri": "https://localhost:8080/",
          "height": 72
        },
        "id": "BejQ8Kim_LhC",
        "outputId": "78cde176-60bf-4138-f4bf-5ca79abcb413"
      },
      "source": [
        "from google.colab import files\n",
        "uploaded = files.upload()"
      ],
      "execution_count": null,
      "outputs": [
        {
          "output_type": "display_data",
          "data": {
            "text/html": [
              "\n",
              "     <input type=\"file\" id=\"files-347cebfd-6f9f-4c2f-b6aa-147442ccd664\" name=\"files[]\" multiple disabled\n",
              "        style=\"border:none\" />\n",
              "     <output id=\"result-347cebfd-6f9f-4c2f-b6aa-147442ccd664\">\n",
              "      Upload widget is only available when the cell has been executed in the\n",
              "      current browser session. Please rerun this cell to enable.\n",
              "      </output>\n",
              "      <script src=\"/nbextensions/google.colab/files.js\"></script> "
            ],
            "text/plain": [
              "<IPython.core.display.HTML object>"
            ]
          },
          "metadata": {
            "tags": []
          }
        },
        {
          "output_type": "stream",
          "text": [
            "Saving Positive (1).xlsx to Positive (1).xlsx\n"
          ],
          "name": "stdout"
        }
      ]
    },
    {
      "cell_type": "code",
      "metadata": {
        "id": "Bl-tZiEe_LdQ",
        "colab": {
          "base_uri": "https://localhost:8080/",
          "height": 419
        },
        "outputId": "3f0ebf46-937b-40ff-9196-2d07082581c3"
      },
      "source": [
        "pos=pd.read_excel('Positive (1).xlsx')\n",
        "pos.columns= ['date','Label','TWEET']\n",
        "pos"
      ],
      "execution_count": null,
      "outputs": [
        {
          "output_type": "execute_result",
          "data": {
            "text/html": [
              "<div>\n",
              "<style scoped>\n",
              "    .dataframe tbody tr th:only-of-type {\n",
              "        vertical-align: middle;\n",
              "    }\n",
              "\n",
              "    .dataframe tbody tr th {\n",
              "        vertical-align: top;\n",
              "    }\n",
              "\n",
              "    .dataframe thead th {\n",
              "        text-align: right;\n",
              "    }\n",
              "</style>\n",
              "<table border=\"1\" class=\"dataframe\">\n",
              "  <thead>\n",
              "    <tr style=\"text-align: right;\">\n",
              "      <th></th>\n",
              "      <th>date</th>\n",
              "      <th>Label</th>\n",
              "      <th>TWEET</th>\n",
              "    </tr>\n",
              "  </thead>\n",
              "  <tbody>\n",
              "    <tr>\n",
              "      <th>0</th>\n",
              "      <td>2021-04-23 00:51:34.298000</td>\n",
              "      <td>1</td>\n",
              "      <td>The prizes will surely go up. Halving rocks!!!...</td>\n",
              "    </tr>\n",
              "    <tr>\n",
              "      <th>1</th>\n",
              "      <td>2021-04-23 00:53:51.922000</td>\n",
              "      <td>1</td>\n",
              "      <td>#Bitcoin price increase after each halving! Ha...</td>\n",
              "    </tr>\n",
              "    <tr>\n",
              "      <th>2</th>\n",
              "      <td>2021-04-23 00:54:21.060000</td>\n",
              "      <td>1</td>\n",
              "      <td>the value used to trade in the Bitcoin ecosyst...</td>\n",
              "    </tr>\n",
              "    <tr>\n",
              "      <th>3</th>\n",
              "      <td>2021-04-23 00:54:23.527000</td>\n",
              "      <td>1</td>\n",
              "      <td>Bitcoin is designed to become more expensive -...</td>\n",
              "    </tr>\n",
              "    <tr>\n",
              "      <th>4</th>\n",
              "      <td>2021-04-23 00:57:44.899000</td>\n",
              "      <td>1</td>\n",
              "      <td>Bitcoin is in the stealth phase of its bull ru...</td>\n",
              "    </tr>\n",
              "    <tr>\n",
              "      <th>...</th>\n",
              "      <td>...</td>\n",
              "      <td>...</td>\n",
              "      <td>...</td>\n",
              "    </tr>\n",
              "    <tr>\n",
              "      <th>65</th>\n",
              "      <td>2021/04/25 1:32:51 PM GMT+5:30</td>\n",
              "      <td>1</td>\n",
              "      <td>$60,000.price rising , great news for bitcoin ...</td>\n",
              "    </tr>\n",
              "    <tr>\n",
              "      <th>66</th>\n",
              "      <td>2021/04/25 1:33:37 PM GMT+5:30</td>\n",
              "      <td>1</td>\n",
              "      <td>About $10B of #Bitcoin withdrawn from exchange...</td>\n",
              "    </tr>\n",
              "    <tr>\n",
              "      <th>67</th>\n",
              "      <td>2021/04/25 1:36:36 PM GMT+5:30</td>\n",
              "      <td>1</td>\n",
              "      <td>The decision to own #bitcoin is binary, but th...</td>\n",
              "    </tr>\n",
              "    <tr>\n",
              "      <th>68</th>\n",
              "      <td>2021/04/25 1:37:34 PM GMT+5:30</td>\n",
              "      <td>1</td>\n",
              "      <td>The Nation State Case for #Bitcoin with \\n@bal...</td>\n",
              "    </tr>\n",
              "    <tr>\n",
              "      <th>69</th>\n",
              "      <td>2021/04/25 1:38:23 PM GMT+5:30</td>\n",
              "      <td>1</td>\n",
              "      <td>gold is to #bitcoin like the horse and buggy i...</td>\n",
              "    </tr>\n",
              "  </tbody>\n",
              "</table>\n",
              "<p>70 rows × 3 columns</p>\n",
              "</div>"
            ],
            "text/plain": [
              "                              date  ...                                              TWEET\n",
              "0       2021-04-23 00:51:34.298000  ...  The prizes will surely go up. Halving rocks!!!...\n",
              "1       2021-04-23 00:53:51.922000  ...  #Bitcoin price increase after each halving! Ha...\n",
              "2       2021-04-23 00:54:21.060000  ...  the value used to trade in the Bitcoin ecosyst...\n",
              "3       2021-04-23 00:54:23.527000  ...  Bitcoin is designed to become more expensive -...\n",
              "4       2021-04-23 00:57:44.899000  ...  Bitcoin is in the stealth phase of its bull ru...\n",
              "..                             ...  ...                                                ...\n",
              "65  2021/04/25 1:32:51 PM GMT+5:30  ...  $60,000.price rising , great news for bitcoin ...\n",
              "66  2021/04/25 1:33:37 PM GMT+5:30  ...  About $10B of #Bitcoin withdrawn from exchange...\n",
              "67  2021/04/25 1:36:36 PM GMT+5:30  ...  The decision to own #bitcoin is binary, but th...\n",
              "68  2021/04/25 1:37:34 PM GMT+5:30  ...  The Nation State Case for #Bitcoin with \\n@bal...\n",
              "69  2021/04/25 1:38:23 PM GMT+5:30  ...  gold is to #bitcoin like the horse and buggy i...\n",
              "\n",
              "[70 rows x 3 columns]"
            ]
          },
          "metadata": {
            "tags": []
          },
          "execution_count": 8
        }
      ]
    },
    {
      "cell_type": "code",
      "metadata": {
        "colab": {
          "resources": {
            "http://localhost:8080/nbextensions/google.colab/files.js": {
              "data": "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",
              "ok": true,
              "headers": [
                [
                  "content-type",
                  "application/javascript"
                ]
              ],
              "status": 200,
              "status_text": ""
            }
          },
          "base_uri": "https://localhost:8080/",
          "height": 72
        },
        "id": "DZsqMLHt_LZf",
        "outputId": "8d581374-fc67-48a3-b241-e69f060ad2ae"
      },
      "source": [
        "from google.colab import files\n",
        "uploaded = files.upload()"
      ],
      "execution_count": null,
      "outputs": [
        {
          "output_type": "display_data",
          "data": {
            "text/html": [
              "\n",
              "     <input type=\"file\" id=\"files-4db14663-82e3-4626-be57-582bf0dc48d7\" name=\"files[]\" multiple disabled\n",
              "        style=\"border:none\" />\n",
              "     <output id=\"result-4db14663-82e3-4626-be57-582bf0dc48d7\">\n",
              "      Upload widget is only available when the cell has been executed in the\n",
              "      current browser session. Please rerun this cell to enable.\n",
              "      </output>\n",
              "      <script src=\"/nbextensions/google.colab/files.js\"></script> "
            ],
            "text/plain": [
              "<IPython.core.display.HTML object>"
            ]
          },
          "metadata": {
            "tags": []
          }
        },
        {
          "output_type": "stream",
          "text": [
            "Saving negative (1).xlsx to negative (1).xlsx\n"
          ],
          "name": "stdout"
        }
      ]
    },
    {
      "cell_type": "code",
      "metadata": {
        "id": "pivwvIdA_LWu",
        "colab": {
          "base_uri": "https://localhost:8080/",
          "height": 1000
        },
        "outputId": "86f86c27-32eb-45a5-a7f8-d023b6f12bc4"
      },
      "source": [
        "neg=pd.read_excel('negative (1).xlsx')\n",
        "neg.columns= ['date','Label','TWEET']\n",
        "neg"
      ],
      "execution_count": null,
      "outputs": [
        {
          "output_type": "execute_result",
          "data": {
            "text/html": [
              "<div>\n",
              "<style scoped>\n",
              "    .dataframe tbody tr th:only-of-type {\n",
              "        vertical-align: middle;\n",
              "    }\n",
              "\n",
              "    .dataframe tbody tr th {\n",
              "        vertical-align: top;\n",
              "    }\n",
              "\n",
              "    .dataframe thead th {\n",
              "        text-align: right;\n",
              "    }\n",
              "</style>\n",
              "<table border=\"1\" class=\"dataframe\">\n",
              "  <thead>\n",
              "    <tr style=\"text-align: right;\">\n",
              "      <th></th>\n",
              "      <th>date</th>\n",
              "      <th>Label</th>\n",
              "      <th>TWEET</th>\n",
              "    </tr>\n",
              "  </thead>\n",
              "  <tbody>\n",
              "    <tr>\n",
              "      <th>0</th>\n",
              "      <td>2021-04-23 00:57:56.312000</td>\n",
              "      <td>0</td>\n",
              "      <td>My advice then: forget #Crypto for now. Start ...</td>\n",
              "    </tr>\n",
              "    <tr>\n",
              "      <th>1</th>\n",
              "      <td>2021-04-23 00:59:54.767000</td>\n",
              "      <td>0</td>\n",
              "      <td>JPMorgan Sounds Urgent Alarm On Bitcoin Price ...</td>\n",
              "    </tr>\n",
              "    <tr>\n",
              "      <th>2</th>\n",
              "      <td>2021-04-23 01:01:04.049000</td>\n",
              "      <td>0</td>\n",
              "      <td>Bitcoin, after hitting a fresh all-time high l...</td>\n",
              "    </tr>\n",
              "    <tr>\n",
              "      <th>3</th>\n",
              "      <td>2021-04-23 01:02:01.737000</td>\n",
              "      <td>0</td>\n",
              "      <td>The cryptocurrency market plunged early Sunday...</td>\n",
              "    </tr>\n",
              "    <tr>\n",
              "      <th>4</th>\n",
              "      <td>2021-04-23 01:02:07.445000</td>\n",
              "      <td>0</td>\n",
              "      <td>Now, with a sudden weekend sell-off leaving bi...</td>\n",
              "    </tr>\n",
              "    <tr>\n",
              "      <th>5</th>\n",
              "      <td>2021-04-23 01:02:29.534000</td>\n",
              "      <td>0</td>\n",
              "      <td>after a high rise, bitcoin sees its first fall...</td>\n",
              "    </tr>\n",
              "    <tr>\n",
              "      <th>6</th>\n",
              "      <td>2021-04-23 01:02:45.371000</td>\n",
              "      <td>0</td>\n",
              "      <td>You can't adopt a position where political or ...</td>\n",
              "    </tr>\n",
              "    <tr>\n",
              "      <th>7</th>\n",
              "      <td>2021-04-23 01:03:17.720000</td>\n",
              "      <td>0</td>\n",
              "      <td>From what I read the price drop in #BTC was ca...</td>\n",
              "    </tr>\n",
              "    <tr>\n",
              "      <th>8</th>\n",
              "      <td>2021-04-23 01:03:21.788000</td>\n",
              "      <td>0</td>\n",
              "      <td>The relatively high funding rates for longing ...</td>\n",
              "    </tr>\n",
              "    <tr>\n",
              "      <th>9</th>\n",
              "      <td>2021-04-23 01:03:46.954000</td>\n",
              "      <td>0</td>\n",
              "      <td>The bitcoin price has soared by around 400% si...</td>\n",
              "    </tr>\n",
              "    <tr>\n",
              "      <th>10</th>\n",
              "      <td>2021-04-23 01:06:31.914000</td>\n",
              "      <td>0</td>\n",
              "      <td>Bitcoin Fall After Stock Market Rally Rebound...</td>\n",
              "    </tr>\n",
              "    <tr>\n",
              "      <th>11</th>\n",
              "      <td>2021-04-23 01:06:43.747000</td>\n",
              "      <td>0</td>\n",
              "      <td>Bitcoin Price Drops After Turkey Bans Cryptocu...</td>\n",
              "    </tr>\n",
              "    <tr>\n",
              "      <th>12</th>\n",
              "      <td>2021-04-23 01:08:20.295000</td>\n",
              "      <td>0</td>\n",
              "      <td>JPMorgan warns of bitcoin weakness as futures ...</td>\n",
              "    </tr>\n",
              "    <tr>\n",
              "      <th>13</th>\n",
              "      <td>2021-04-23 01:10:16.719000</td>\n",
              "      <td>0</td>\n",
              "      <td>one can’t ignore the unpredictability of the c...</td>\n",
              "    </tr>\n",
              "    <tr>\n",
              "      <th>14</th>\n",
              "      <td>2021-04-23 01:10:51.911000</td>\n",
              "      <td>0</td>\n",
              "      <td>Warren Buffett Against Bitcoin #Bitcoin #Bitco...</td>\n",
              "    </tr>\n",
              "    <tr>\n",
              "      <th>15</th>\n",
              "      <td>2021-04-23 01:11:11.443000</td>\n",
              "      <td>0</td>\n",
              "      <td>bitcoin exhibits  utility problem</td>\n",
              "    </tr>\n",
              "    <tr>\n",
              "      <th>16</th>\n",
              "      <td>2021-04-23 01:11:11.590000</td>\n",
              "      <td>0</td>\n",
              "      <td>Cryptocurrencies, one of the most popular topi...</td>\n",
              "    </tr>\n",
              "    <tr>\n",
              "      <th>17</th>\n",
              "      <td>2021-04-23 01:12:17.322000</td>\n",
              "      <td>0</td>\n",
              "      <td>The tax situation is a nightmare, bitcoin may ...</td>\n",
              "    </tr>\n",
              "    <tr>\n",
              "      <th>18</th>\n",
              "      <td>2021-04-23 01:12:59.583000</td>\n",
              "      <td>0</td>\n",
              "      <td>All bubbles eventually burst, bitcoin gonna si...</td>\n",
              "    </tr>\n",
              "    <tr>\n",
              "      <th>19</th>\n",
              "      <td>2021-04-23 01:14:48.480000</td>\n",
              "      <td>0</td>\n",
              "      <td>Trader in Chicago Firm Stole Million BTC and F...</td>\n",
              "    </tr>\n",
              "    <tr>\n",
              "      <th>20</th>\n",
              "      <td>2021-04-23 01:15:24.785000</td>\n",
              "      <td>0</td>\n",
              "      <td>Scammers Are Ruining Crypto Twitter and Twitte...</td>\n",
              "    </tr>\n",
              "    <tr>\n",
              "      <th>21</th>\n",
              "      <td>2021-04-23 01:16:33.320000</td>\n",
              "      <td>0</td>\n",
              "      <td>The Indian government may soon come with a law...</td>\n",
              "    </tr>\n",
              "    <tr>\n",
              "      <th>22</th>\n",
              "      <td>2021-04-23 01:16:34.034000</td>\n",
              "      <td>0</td>\n",
              "      <td>Bitcoin's share of the overall market capitali...</td>\n",
              "    </tr>\n",
              "    <tr>\n",
              "      <th>23</th>\n",
              "      <td>2021-04-23 01:20:09.819000</td>\n",
              "      <td>0</td>\n",
              "      <td>There Are More Than 1000 Different Cryptocurre...</td>\n",
              "    </tr>\n",
              "    <tr>\n",
              "      <th>24</th>\n",
              "      <td>2021-04-23 01:20:14.160000</td>\n",
              "      <td>0</td>\n",
              "      <td>Another good news is, since Jan to March 2021,...</td>\n",
              "    </tr>\n",
              "    <tr>\n",
              "      <th>25</th>\n",
              "      <td>2021/04/25 11:31:37 AM GMT+5:30</td>\n",
              "      <td>0</td>\n",
              "      <td>Bitcoin slumps below $50,000, downgrowth for t...</td>\n",
              "    </tr>\n",
              "    <tr>\n",
              "      <th>26</th>\n",
              "      <td>2021/04/25 11:33:06 AM GMT+5:30</td>\n",
              "      <td>0</td>\n",
              "      <td>Indian government unhappy about bitcoin</td>\n",
              "    </tr>\n",
              "    <tr>\n",
              "      <th>27</th>\n",
              "      <td>2021/04/25 11:47:58 AM GMT+5:30</td>\n",
              "      <td>0</td>\n",
              "      <td>bitcoin will be illegal, a bad myth spreading</td>\n",
              "    </tr>\n",
              "    <tr>\n",
              "      <th>28</th>\n",
              "      <td>2021/04/25 11:50:02 AM GMT+5:30</td>\n",
              "      <td>0</td>\n",
              "      <td>Cryptocurrency is used for illegal transaction...</td>\n",
              "    </tr>\n",
              "    <tr>\n",
              "      <th>29</th>\n",
              "      <td>2021/04/25 11:51:47 AM GMT+5:30</td>\n",
              "      <td>0</td>\n",
              "      <td>bitcoin, untrustworthy apps coming to play to ...</td>\n",
              "    </tr>\n",
              "    <tr>\n",
              "      <th>30</th>\n",
              "      <td>2021/04/25 12:04:50 PM GMT+5:30</td>\n",
              "      <td>0</td>\n",
              "      <td>bitcoin market would decrease in the decade , ...</td>\n",
              "    </tr>\n",
              "    <tr>\n",
              "      <th>31</th>\n",
              "      <td>2021/04/25 12:06:30 PM GMT+5:30</td>\n",
              "      <td>0</td>\n",
              "      <td>RBI plans and an upcoming Bill: Where are digi...</td>\n",
              "    </tr>\n",
              "    <tr>\n",
              "      <th>32</th>\n",
              "      <td>2021/04/25 12:09:12 PM GMT+5:30</td>\n",
              "      <td>0</td>\n",
              "      <td>RBI ready to launch its own digital currency, ...</td>\n",
              "    </tr>\n",
              "    <tr>\n",
              "      <th>33</th>\n",
              "      <td>2021/04/25 12:11:10 PM GMT+5:30</td>\n",
              "      <td>0</td>\n",
              "      <td>The Cryptocurrency and Regulation of Official ...</td>\n",
              "    </tr>\n",
              "    <tr>\n",
              "      <th>34</th>\n",
              "      <td>2021/04/25 1:29:14 PM GMT+5:30</td>\n",
              "      <td>0</td>\n",
              "      <td>Even though I'm a pro-crypto, pro-Bitcoin maxi...</td>\n",
              "    </tr>\n",
              "  </tbody>\n",
              "</table>\n",
              "</div>"
            ],
            "text/plain": [
              "                               date  ...                                              TWEET\n",
              "0        2021-04-23 00:57:56.312000  ...  My advice then: forget #Crypto for now. Start ...\n",
              "1        2021-04-23 00:59:54.767000  ...  JPMorgan Sounds Urgent Alarm On Bitcoin Price ...\n",
              "2        2021-04-23 01:01:04.049000  ...  Bitcoin, after hitting a fresh all-time high l...\n",
              "3        2021-04-23 01:02:01.737000  ...  The cryptocurrency market plunged early Sunday...\n",
              "4        2021-04-23 01:02:07.445000  ...  Now, with a sudden weekend sell-off leaving bi...\n",
              "5        2021-04-23 01:02:29.534000  ...  after a high rise, bitcoin sees its first fall...\n",
              "6        2021-04-23 01:02:45.371000  ...  You can't adopt a position where political or ...\n",
              "7        2021-04-23 01:03:17.720000  ...  From what I read the price drop in #BTC was ca...\n",
              "8        2021-04-23 01:03:21.788000  ...  The relatively high funding rates for longing ...\n",
              "9        2021-04-23 01:03:46.954000  ...  The bitcoin price has soared by around 400% si...\n",
              "10       2021-04-23 01:06:31.914000  ...   Bitcoin Fall After Stock Market Rally Rebound...\n",
              "11       2021-04-23 01:06:43.747000  ...  Bitcoin Price Drops After Turkey Bans Cryptocu...\n",
              "12       2021-04-23 01:08:20.295000  ...  JPMorgan warns of bitcoin weakness as futures ...\n",
              "13       2021-04-23 01:10:16.719000  ...  one can’t ignore the unpredictability of the c...\n",
              "14       2021-04-23 01:10:51.911000  ...  Warren Buffett Against Bitcoin #Bitcoin #Bitco...\n",
              "15       2021-04-23 01:11:11.443000  ...                  bitcoin exhibits  utility problem\n",
              "16       2021-04-23 01:11:11.590000  ...  Cryptocurrencies, one of the most popular topi...\n",
              "17       2021-04-23 01:12:17.322000  ...  The tax situation is a nightmare, bitcoin may ...\n",
              "18       2021-04-23 01:12:59.583000  ...  All bubbles eventually burst, bitcoin gonna si...\n",
              "19       2021-04-23 01:14:48.480000  ...  Trader in Chicago Firm Stole Million BTC and F...\n",
              "20       2021-04-23 01:15:24.785000  ...  Scammers Are Ruining Crypto Twitter and Twitte...\n",
              "21       2021-04-23 01:16:33.320000  ...  The Indian government may soon come with a law...\n",
              "22       2021-04-23 01:16:34.034000  ...  Bitcoin's share of the overall market capitali...\n",
              "23       2021-04-23 01:20:09.819000  ...  There Are More Than 1000 Different Cryptocurre...\n",
              "24       2021-04-23 01:20:14.160000  ...  Another good news is, since Jan to March 2021,...\n",
              "25  2021/04/25 11:31:37 AM GMT+5:30  ...  Bitcoin slumps below $50,000, downgrowth for t...\n",
              "26  2021/04/25 11:33:06 AM GMT+5:30  ...            Indian government unhappy about bitcoin\n",
              "27  2021/04/25 11:47:58 AM GMT+5:30  ...      bitcoin will be illegal, a bad myth spreading\n",
              "28  2021/04/25 11:50:02 AM GMT+5:30  ...  Cryptocurrency is used for illegal transaction...\n",
              "29  2021/04/25 11:51:47 AM GMT+5:30  ...  bitcoin, untrustworthy apps coming to play to ...\n",
              "30  2021/04/25 12:04:50 PM GMT+5:30  ...  bitcoin market would decrease in the decade , ...\n",
              "31  2021/04/25 12:06:30 PM GMT+5:30  ...  RBI plans and an upcoming Bill: Where are digi...\n",
              "32  2021/04/25 12:09:12 PM GMT+5:30  ...  RBI ready to launch its own digital currency, ...\n",
              "33  2021/04/25 12:11:10 PM GMT+5:30  ...  The Cryptocurrency and Regulation of Official ...\n",
              "34   2021/04/25 1:29:14 PM GMT+5:30  ...  Even though I'm a pro-crypto, pro-Bitcoin maxi...\n",
              "\n",
              "[35 rows x 3 columns]"
            ]
          },
          "metadata": {
            "tags": []
          },
          "execution_count": 11
        }
      ]
    },
    {
      "cell_type": "code",
      "metadata": {
        "id": "o_vHYZZe_LTl"
      },
      "source": [
        "pos.columns=['time','Label','Tweet']\n",
        "neg.columns=['time','Label','Tweet']"
      ],
      "execution_count": null,
      "outputs": []
    },
    {
      "cell_type": "code",
      "metadata": {
        "id": "FtDqaXaf_LLe"
      },
      "source": [
        "positive_tweets=[]\n",
        "for i in pos['Tweet']:\n",
        "  positive_tweets.append(i)"
      ],
      "execution_count": null,
      "outputs": []
    },
    {
      "cell_type": "code",
      "metadata": {
        "id": "i-R45s8GDFOL"
      },
      "source": [
        "negative_tweets=[]\n",
        "for i in neg['Tweet']:\n",
        "  negative_tweets.append(i)"
      ],
      "execution_count": null,
      "outputs": []
    },
    {
      "cell_type": "code",
      "metadata": {
        "colab": {
          "base_uri": "https://localhost:8080/",
          "height": 35
        },
        "id": "cq7fh__x0N33",
        "outputId": "02ac24c5-d0ff-4af7-f584-94b86d8e6fdc"
      },
      "source": [
        "'''negative_tweets'''"
      ],
      "execution_count": null,
      "outputs": [
        {
          "output_type": "execute_result",
          "data": {
            "application/vnd.google.colaboratory.intrinsic+json": {
              "type": "string"
            },
            "text/plain": [
              "'negative_tweets'"
            ]
          },
          "metadata": {
            "tags": []
          },
          "execution_count": 17
        }
      ]
    },
    {
      "cell_type": "code",
      "metadata": {
        "colab": {
          "base_uri": "https://localhost:8080/"
        },
        "id": "Dou4TM0K_LIF",
        "outputId": "c76be20f-2608-4c9a-9978-3a3303206b2c"
      },
      "source": [
        "len(negative_tweets)"
      ],
      "execution_count": null,
      "outputs": [
        {
          "output_type": "execute_result",
          "data": {
            "text/plain": [
              "35"
            ]
          },
          "metadata": {
            "tags": []
          },
          "execution_count": 18
        }
      ]
    },
    {
      "cell_type": "code",
      "metadata": {
        "colab": {
          "base_uri": "https://localhost:8080/"
        },
        "id": "0gdVnDLa_LEl",
        "outputId": "f5fef8a0-d09c-4385-c724-33e7f19f2ca8"
      },
      "source": [
        "len(positive_tweets)"
      ],
      "execution_count": null,
      "outputs": [
        {
          "output_type": "execute_result",
          "data": {
            "text/plain": [
              "70"
            ]
          },
          "metadata": {
            "tags": []
          },
          "execution_count": 19
        }
      ]
    },
    {
      "cell_type": "code",
      "metadata": {
        "colab": {
          "base_uri": "https://localhost:8080/"
        },
        "id": "occxcUYKskyY",
        "outputId": "a5418ac0-03ef-48ed-8a0d-1ab0abb27f4b"
      },
      "source": [
        "all_tweets=positive_tweets+negative_tweets\n",
        "len(all_tweets)"
      ],
      "execution_count": null,
      "outputs": [
        {
          "output_type": "execute_result",
          "data": {
            "text/plain": [
              "105"
            ]
          },
          "metadata": {
            "tags": []
          },
          "execution_count": 20
        }
      ]
    },
    {
      "cell_type": "code",
      "metadata": {
        "id": "wV-tKK4F_LBo"
      },
      "source": [
        "test_pos = positive_tweets[55:]\n",
        "train_pos = positive_tweets[:55]\n",
        "test_neg = negative_tweets[27:]\n",
        "train_neg = negative_tweets[:27]"
      ],
      "execution_count": null,
      "outputs": []
    },
    {
      "cell_type": "code",
      "metadata": {
        "id": "rfEGQKtX_K94"
      },
      "source": [
        "train_x = train_pos + train_neg \n",
        "test_x = test_pos + test_neg"
      ],
      "execution_count": null,
      "outputs": []
    },
    {
      "cell_type": "code",
      "metadata": {
        "colab": {
          "base_uri": "https://localhost:8080/"
        },
        "id": "SNlqzV0i_K6R",
        "outputId": "270838dc-4aad-455e-e0ea-4850564c0ae9"
      },
      "source": [
        "print(len(test_pos) , len(test_neg))"
      ],
      "execution_count": null,
      "outputs": [
        {
          "output_type": "stream",
          "text": [
            "15 8\n"
          ],
          "name": "stdout"
        }
      ]
    },
    {
      "cell_type": "code",
      "metadata": {
        "colab": {
          "base_uri": "https://localhost:8080/"
        },
        "id": "4TB6QyBd_K24",
        "outputId": "1002c5f2-615a-49f6-bdf2-554bc2fd7057"
      },
      "source": [
        "print(len(train_pos) , len(train_neg))"
      ],
      "execution_count": null,
      "outputs": [
        {
          "output_type": "stream",
          "text": [
            "55 27\n"
          ],
          "name": "stdout"
        }
      ]
    },
    {
      "cell_type": "code",
      "metadata": {
        "id": "Z3_J6qt1_K0X"
      },
      "source": [
        "\n",
        "import numpy as np\n",
        "train_y = np.append(np.ones((len(train_pos), 1)), np.zeros((len(train_neg), 1)), axis=0)\n",
        "test_y = np.append(np.ones((len(test_pos), 1)), np.zeros((len(test_neg), 1)), axis=0)"
      ],
      "execution_count": null,
      "outputs": []
    },
    {
      "cell_type": "code",
      "metadata": {
        "colab": {
          "base_uri": "https://localhost:8080/"
        },
        "id": "lTvTkGxxjeR1",
        "outputId": "83e49237-e62a-4081-a460-5465a448aa61"
      },
      "source": [
        "train_y"
      ],
      "execution_count": null,
      "outputs": [
        {
          "output_type": "execute_result",
          "data": {
            "text/plain": [
              "array([[1.],\n",
              "       [1.],\n",
              "       [1.],\n",
              "       [1.],\n",
              "       [1.],\n",
              "       [1.],\n",
              "       [1.],\n",
              "       [1.],\n",
              "       [1.],\n",
              "       [1.],\n",
              "       [1.],\n",
              "       [1.],\n",
              "       [1.],\n",
              "       [1.],\n",
              "       [1.],\n",
              "       [1.],\n",
              "       [1.],\n",
              "       [1.],\n",
              "       [1.],\n",
              "       [1.],\n",
              "       [1.],\n",
              "       [1.],\n",
              "       [1.],\n",
              "       [1.],\n",
              "       [1.],\n",
              "       [1.],\n",
              "       [1.],\n",
              "       [1.],\n",
              "       [1.],\n",
              "       [1.],\n",
              "       [1.],\n",
              "       [1.],\n",
              "       [1.],\n",
              "       [1.],\n",
              "       [1.],\n",
              "       [1.],\n",
              "       [1.],\n",
              "       [1.],\n",
              "       [1.],\n",
              "       [1.],\n",
              "       [1.],\n",
              "       [1.],\n",
              "       [1.],\n",
              "       [1.],\n",
              "       [1.],\n",
              "       [1.],\n",
              "       [1.],\n",
              "       [1.],\n",
              "       [1.],\n",
              "       [1.],\n",
              "       [1.],\n",
              "       [1.],\n",
              "       [1.],\n",
              "       [1.],\n",
              "       [1.],\n",
              "       [0.],\n",
              "       [0.],\n",
              "       [0.],\n",
              "       [0.],\n",
              "       [0.],\n",
              "       [0.],\n",
              "       [0.],\n",
              "       [0.],\n",
              "       [0.],\n",
              "       [0.],\n",
              "       [0.],\n",
              "       [0.],\n",
              "       [0.],\n",
              "       [0.],\n",
              "       [0.],\n",
              "       [0.],\n",
              "       [0.],\n",
              "       [0.],\n",
              "       [0.],\n",
              "       [0.],\n",
              "       [0.],\n",
              "       [0.],\n",
              "       [0.],\n",
              "       [0.],\n",
              "       [0.],\n",
              "       [0.],\n",
              "       [0.]])"
            ]
          },
          "metadata": {
            "tags": []
          },
          "execution_count": 26
        }
      ]
    },
    {
      "cell_type": "code",
      "metadata": {
        "colab": {
          "base_uri": "https://localhost:8080/"
        },
        "id": "pNcO9XNb_Kwg",
        "outputId": "5197057c-7592-48ba-e2ae-dcf0d4f2ee26"
      },
      "source": [
        "\n",
        "print(\"train_y.shape = \" + str(train_y.shape))\n",
        "print(\"test_y.shape = \" + str(test_y.shape))"
      ],
      "execution_count": null,
      "outputs": [
        {
          "output_type": "stream",
          "text": [
            "train_y.shape = (82, 1)\n",
            "test_y.shape = (23, 1)\n"
          ],
          "name": "stdout"
        }
      ]
    },
    {
      "cell_type": "code",
      "metadata": {
        "colab": {
          "resources": {
            "http://localhost:8080/nbextensions/google.colab/files.js": {
              "data": "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",
              "ok": true,
              "headers": [
                [
                  "content-type",
                  "application/javascript"
                ]
              ],
              "status": 200,
              "status_text": ""
            }
          },
          "base_uri": "https://localhost:8080/",
          "height": 72
        },
        "id": "Ar66zpvfx32c",
        "outputId": "cce74972-78d7-40b3-909b-eeaeab9f6d39"
      },
      "source": [
        "from google.colab import files\n",
        "uploaded = files.upload()"
      ],
      "execution_count": null,
      "outputs": [
        {
          "output_type": "display_data",
          "data": {
            "text/html": [
              "\n",
              "     <input type=\"file\" id=\"files-d7a2b7ee-84ca-4bcd-b235-477346c4bf84\" name=\"files[]\" multiple disabled\n",
              "        style=\"border:none\" />\n",
              "     <output id=\"result-d7a2b7ee-84ca-4bcd-b235-477346c4bf84\">\n",
              "      Upload widget is only available when the cell has been executed in the\n",
              "      current browser session. Please rerun this cell to enable.\n",
              "      </output>\n",
              "      <script src=\"/nbextensions/google.colab/files.js\"></script> "
            ],
            "text/plain": [
              "<IPython.core.display.HTML object>"
            ]
          },
          "metadata": {
            "tags": []
          }
        },
        {
          "output_type": "stream",
          "text": [
            "Saving VerbForms.xlsx to VerbForms.xlsx\n"
          ],
          "name": "stdout"
        }
      ]
    },
    {
      "cell_type": "code",
      "metadata": {
        "colab": {
          "base_uri": "https://localhost:8080/",
          "height": 419
        },
        "id": "czHWDCFkx7iF",
        "outputId": "c28a4d08-9edb-4c0f-f249-ef3a606df9c8"
      },
      "source": [
        "df1=pd.read_excel('VerbForms.xlsx')\n",
        "df1"
      ],
      "execution_count": null,
      "outputs": [
        {
          "output_type": "execute_result",
          "data": {
            "text/html": [
              "<div>\n",
              "<style scoped>\n",
              "    .dataframe tbody tr th:only-of-type {\n",
              "        vertical-align: middle;\n",
              "    }\n",
              "\n",
              "    .dataframe tbody tr th {\n",
              "        vertical-align: top;\n",
              "    }\n",
              "\n",
              "    .dataframe thead th {\n",
              "        text-align: right;\n",
              "    }\n",
              "</style>\n",
              "<table border=\"1\" class=\"dataframe\">\n",
              "  <thead>\n",
              "    <tr style=\"text-align: right;\">\n",
              "      <th></th>\n",
              "      <th>abash</th>\n",
              "      <th>abashed</th>\n",
              "      <th>abashes</th>\n",
              "      <th>abashing</th>\n",
              "      <th>Unnamed: 4</th>\n",
              "      <th>Unnamed: 5</th>\n",
              "      <th>Unnamed: 6</th>\n",
              "      <th>Unnamed: 7</th>\n",
              "    </tr>\n",
              "  </thead>\n",
              "  <tbody>\n",
              "    <tr>\n",
              "      <th>0</th>\n",
              "      <td>abate</td>\n",
              "      <td>abated</td>\n",
              "      <td>abates</td>\n",
              "      <td>abating</td>\n",
              "      <td>NaN</td>\n",
              "      <td>NaN</td>\n",
              "      <td>NaN</td>\n",
              "      <td>NaN</td>\n",
              "    </tr>\n",
              "    <tr>\n",
              "      <th>1</th>\n",
              "      <td>abide</td>\n",
              "      <td>abode</td>\n",
              "      <td>abides</td>\n",
              "      <td>abiding</td>\n",
              "      <td>NaN</td>\n",
              "      <td>NaN</td>\n",
              "      <td>NaN</td>\n",
              "      <td>NaN</td>\n",
              "    </tr>\n",
              "    <tr>\n",
              "      <th>2</th>\n",
              "      <td>absorb</td>\n",
              "      <td>absorbed</td>\n",
              "      <td>absorbs</td>\n",
              "      <td>absorbing</td>\n",
              "      <td>NaN</td>\n",
              "      <td>NaN</td>\n",
              "      <td>NaN</td>\n",
              "      <td>NaN</td>\n",
              "    </tr>\n",
              "    <tr>\n",
              "      <th>3</th>\n",
              "      <td>accept</td>\n",
              "      <td>accepted</td>\n",
              "      <td>accepts</td>\n",
              "      <td>accepting</td>\n",
              "      <td>NaN</td>\n",
              "      <td>NaN</td>\n",
              "      <td>NaN</td>\n",
              "      <td>NaN</td>\n",
              "    </tr>\n",
              "    <tr>\n",
              "      <th>4</th>\n",
              "      <td>accompany</td>\n",
              "      <td>accompanied</td>\n",
              "      <td>accompanies</td>\n",
              "      <td>accompanying</td>\n",
              "      <td>NaN</td>\n",
              "      <td>NaN</td>\n",
              "      <td>NaN</td>\n",
              "      <td>NaN</td>\n",
              "    </tr>\n",
              "    <tr>\n",
              "      <th>...</th>\n",
              "      <td>...</td>\n",
              "      <td>...</td>\n",
              "      <td>...</td>\n",
              "      <td>...</td>\n",
              "      <td>...</td>\n",
              "      <td>...</td>\n",
              "      <td>...</td>\n",
              "      <td>...</td>\n",
              "    </tr>\n",
              "    <tr>\n",
              "      <th>995</th>\n",
              "      <td>yield</td>\n",
              "      <td>yielded</td>\n",
              "      <td>yields</td>\n",
              "      <td>yielding</td>\n",
              "      <td>NaN</td>\n",
              "      <td>NaN</td>\n",
              "      <td>NaN</td>\n",
              "      <td>NaN</td>\n",
              "    </tr>\n",
              "    <tr>\n",
              "      <th>996</th>\n",
              "      <td>zinc</td>\n",
              "      <td>zincked</td>\n",
              "      <td>zincs</td>\n",
              "      <td>zincking</td>\n",
              "      <td>NaN</td>\n",
              "      <td>NaN</td>\n",
              "      <td>NaN</td>\n",
              "      <td>NaN</td>\n",
              "    </tr>\n",
              "    <tr>\n",
              "      <th>997</th>\n",
              "      <td>zoom</td>\n",
              "      <td>zoomed</td>\n",
              "      <td>zooms</td>\n",
              "      <td>zooming</td>\n",
              "      <td>NaN</td>\n",
              "      <td>NaN</td>\n",
              "      <td>NaN</td>\n",
              "      <td>NaN</td>\n",
              "    </tr>\n",
              "    <tr>\n",
              "      <th>998</th>\n",
              "      <td>halve</td>\n",
              "      <td>halved</td>\n",
              "      <td>halves</td>\n",
              "      <td>halving</td>\n",
              "      <td>NaN</td>\n",
              "      <td>NaN</td>\n",
              "      <td>NaN</td>\n",
              "      <td>NaN</td>\n",
              "    </tr>\n",
              "    <tr>\n",
              "      <th>999</th>\n",
              "      <td>mine</td>\n",
              "      <td>mined</td>\n",
              "      <td>mines</td>\n",
              "      <td>mining</td>\n",
              "      <td>NaN</td>\n",
              "      <td>NaN</td>\n",
              "      <td>NaN</td>\n",
              "      <td>NaN</td>\n",
              "    </tr>\n",
              "  </tbody>\n",
              "</table>\n",
              "<p>1000 rows × 8 columns</p>\n",
              "</div>"
            ],
            "text/plain": [
              "         abash      abashed      abashes  ... Unnamed: 5 Unnamed: 6 Unnamed: 7\n",
              "0        abate       abated       abates  ...        NaN        NaN        NaN\n",
              "1        abide        abode       abides  ...        NaN        NaN        NaN\n",
              "2       absorb     absorbed      absorbs  ...        NaN        NaN        NaN\n",
              "3       accept     accepted      accepts  ...        NaN        NaN        NaN\n",
              "4    accompany  accompanied  accompanies  ...        NaN        NaN        NaN\n",
              "..         ...          ...          ...  ...        ...        ...        ...\n",
              "995      yield      yielded       yields  ...        NaN        NaN        NaN\n",
              "996       zinc      zincked        zincs  ...        NaN        NaN        NaN\n",
              "997       zoom       zoomed        zooms  ...        NaN        NaN        NaN\n",
              "998      halve       halved       halves  ...        NaN        NaN        NaN\n",
              "999       mine        mined        mines  ...        NaN        NaN        NaN\n",
              "\n",
              "[1000 rows x 8 columns]"
            ]
          },
          "metadata": {
            "tags": []
          },
          "execution_count": 28
        }
      ]
    },
    {
      "cell_type": "code",
      "metadata": {
        "colab": {
          "base_uri": "https://localhost:8080/",
          "height": 450
        },
        "id": "re-Q0JCTx7fW",
        "outputId": "fea7ddec-9373-437d-af3d-2c5f3a32e6bd"
      },
      "source": [
        "df1.drop(['Unnamed: 4', 'Unnamed: 5','Unnamed: 6','Unnamed: 7'], axis = 1,inplace=True) \n",
        "df1.rename(columns = {'abash':'v0',  \n",
        "                       'abashed':'v1','abashing':'v3','abashes':'v2'},  \n",
        "            inplace = True) \n",
        "df1['v00']=df1['v0']\n",
        "df1.set_index('v00',inplace=True)\n",
        "df1"
      ],
      "execution_count": null,
      "outputs": [
        {
          "output_type": "execute_result",
          "data": {
            "text/html": [
              "<div>\n",
              "<style scoped>\n",
              "    .dataframe tbody tr th:only-of-type {\n",
              "        vertical-align: middle;\n",
              "    }\n",
              "\n",
              "    .dataframe tbody tr th {\n",
              "        vertical-align: top;\n",
              "    }\n",
              "\n",
              "    .dataframe thead th {\n",
              "        text-align: right;\n",
              "    }\n",
              "</style>\n",
              "<table border=\"1\" class=\"dataframe\">\n",
              "  <thead>\n",
              "    <tr style=\"text-align: right;\">\n",
              "      <th></th>\n",
              "      <th>v0</th>\n",
              "      <th>v1</th>\n",
              "      <th>v2</th>\n",
              "      <th>v3</th>\n",
              "    </tr>\n",
              "    <tr>\n",
              "      <th>v00</th>\n",
              "      <th></th>\n",
              "      <th></th>\n",
              "      <th></th>\n",
              "      <th></th>\n",
              "    </tr>\n",
              "  </thead>\n",
              "  <tbody>\n",
              "    <tr>\n",
              "      <th>abate</th>\n",
              "      <td>abate</td>\n",
              "      <td>abated</td>\n",
              "      <td>abates</td>\n",
              "      <td>abating</td>\n",
              "    </tr>\n",
              "    <tr>\n",
              "      <th>abide</th>\n",
              "      <td>abide</td>\n",
              "      <td>abode</td>\n",
              "      <td>abides</td>\n",
              "      <td>abiding</td>\n",
              "    </tr>\n",
              "    <tr>\n",
              "      <th>absorb</th>\n",
              "      <td>absorb</td>\n",
              "      <td>absorbed</td>\n",
              "      <td>absorbs</td>\n",
              "      <td>absorbing</td>\n",
              "    </tr>\n",
              "    <tr>\n",
              "      <th>accept</th>\n",
              "      <td>accept</td>\n",
              "      <td>accepted</td>\n",
              "      <td>accepts</td>\n",
              "      <td>accepting</td>\n",
              "    </tr>\n",
              "    <tr>\n",
              "      <th>accompany</th>\n",
              "      <td>accompany</td>\n",
              "      <td>accompanied</td>\n",
              "      <td>accompanies</td>\n",
              "      <td>accompanying</td>\n",
              "    </tr>\n",
              "    <tr>\n",
              "      <th>...</th>\n",
              "      <td>...</td>\n",
              "      <td>...</td>\n",
              "      <td>...</td>\n",
              "      <td>...</td>\n",
              "    </tr>\n",
              "    <tr>\n",
              "      <th>yield</th>\n",
              "      <td>yield</td>\n",
              "      <td>yielded</td>\n",
              "      <td>yields</td>\n",
              "      <td>yielding</td>\n",
              "    </tr>\n",
              "    <tr>\n",
              "      <th>zinc</th>\n",
              "      <td>zinc</td>\n",
              "      <td>zincked</td>\n",
              "      <td>zincs</td>\n",
              "      <td>zincking</td>\n",
              "    </tr>\n",
              "    <tr>\n",
              "      <th>zoom</th>\n",
              "      <td>zoom</td>\n",
              "      <td>zoomed</td>\n",
              "      <td>zooms</td>\n",
              "      <td>zooming</td>\n",
              "    </tr>\n",
              "    <tr>\n",
              "      <th>halve</th>\n",
              "      <td>halve</td>\n",
              "      <td>halved</td>\n",
              "      <td>halves</td>\n",
              "      <td>halving</td>\n",
              "    </tr>\n",
              "    <tr>\n",
              "      <th>mine</th>\n",
              "      <td>mine</td>\n",
              "      <td>mined</td>\n",
              "      <td>mines</td>\n",
              "      <td>mining</td>\n",
              "    </tr>\n",
              "  </tbody>\n",
              "</table>\n",
              "<p>1000 rows × 4 columns</p>\n",
              "</div>"
            ],
            "text/plain": [
              "                  v0           v1           v2            v3\n",
              "v00                                                         \n",
              "abate          abate       abated       abates       abating\n",
              "abide          abide        abode       abides       abiding\n",
              "absorb        absorb     absorbed      absorbs     absorbing\n",
              "accept        accept     accepted      accepts     accepting\n",
              "accompany  accompany  accompanied  accompanies  accompanying\n",
              "...              ...          ...          ...           ...\n",
              "yield          yield      yielded       yields      yielding\n",
              "zinc            zinc      zincked        zincs      zincking\n",
              "zoom            zoom       zoomed        zooms       zooming\n",
              "halve          halve       halved       halves       halving\n",
              "mine            mine        mined        mines        mining\n",
              "\n",
              "[1000 rows x 4 columns]"
            ]
          },
          "metadata": {
            "tags": []
          },
          "execution_count": 29
        }
      ]
    },
    {
      "cell_type": "code",
      "metadata": {
        "id": "cjXb_j7Ix7Y1"
      },
      "source": [
        "def lem(i):\n",
        "        if((df1['v1']==i).any()):\n",
        "            #print(i)\n",
        "            a1=df1[df1['v1']==i].index.values.tolist()\n",
        "            i=i.replace(i,a1[0])\n",
        "            #print (i)\n",
        "        if((df1['v2']==i).any()):\n",
        "            #print(i)\n",
        "            a2=df1[df1['v2']==i].index.values.tolist()\n",
        "            i=i.replace(i,a2[0])\n",
        "            #print (i)\n",
        "        if((df1['v3']==i).any()):\n",
        "            #print(i)\n",
        "            a3=df1[df1['v3']==i].index.values.tolist()\n",
        "            i=i.replace(i,a3[0])\n",
        "            #print (i)\n",
        "        return(i)      \n"
      ],
      "execution_count": null,
      "outputs": []
    },
    {
      "cell_type": "code",
      "metadata": {
        "colab": {
          "base_uri": "https://localhost:8080/",
          "height": 35
        },
        "id": "tDivX8RMjxWt",
        "outputId": "79017795-4851-4e53-88c9-67c8a367451f"
      },
      "source": [
        "lem('halving')"
      ],
      "execution_count": null,
      "outputs": [
        {
          "output_type": "execute_result",
          "data": {
            "application/vnd.google.colaboratory.intrinsic+json": {
              "type": "string"
            },
            "text/plain": [
              "'halve'"
            ]
          },
          "metadata": {
            "tags": []
          },
          "execution_count": 32
        }
      ]
    },
    {
      "cell_type": "code",
      "metadata": {
        "id": "3sRZT1vm_KnL"
      },
      "source": [
        "import re\n",
        "import string\n",
        "import numpy as np\n",
        "\n",
        "#Preprocessing tweets\n",
        "def text_process(tweet):\n",
        "    #Remove old style retweet text \"RT\"\n",
        "    tweet2 = re.sub(r'^RT[\\s]','', tweet)\n",
        "    #remove number\n",
        "    tweet2 = re.sub(r'\\d+', \"number\",tweet2)\n",
        "    #remove usermentions\n",
        "    tweet2 = re.sub(\"(@[A-Za-z0-9_]+)\", \"USERMENTION\", tweet2)\n",
        "    #url and emoji removal\n",
        "    text = re.sub('([^0-9A-Za-z \\t])|(\\w+:\\/\\/\\S+)', ' ', tweet2)\n",
        "    #Remove hyperlinks\n",
        "    tweet2 = re.sub(r'https?:\\/\\/.*[\\r\\n]*','', tweet2)\n",
        "    #conversion to lowercase\n",
        "    tweet2 = tweet2.lower()\n",
        "    #puntuation removal\n",
        "    tweet2= tweet2.translate(str.maketrans('', '', string.punctuation))\n",
        "\n",
        "    \n",
        "    #Remove hastags\n",
        "    #Only removing the hash # sign from the word\n",
        "    tweet2 = re.sub(r'#','',tweet2)\n",
        "        \n",
        "    # instantiate tokenizer class\n",
        "    #tokenizer = TweetTokenizer(preserve_case=False, strip_handles=True, reduce_len=True)\n",
        "    \n",
        "    # tokenize tweets\n",
        "    #tweet_tokens = tokenizer.tokenize(tweet2)    \n",
        "    tweet_tokens =tweet2.split()\n",
        "     \n",
        "    #Import the english stop words list from NLTK\n",
        "    #stopwords_english = stopwords.words('english')\n",
        "    stop_words =['i', 'me', 'my', 'myself', 'we', 'our', 'ours', 'ourselves', 'you', \"you're\", \"you've\", \"you'll\", \"you'd\", 'your', 'yours', 'yourself', 'yourselves', 'he', 'him', 'his', 'himself', 'she', \"she's\", 'her', 'hers', 'herself', 'it', \"it's\", 'its', 'itself', 'they', 'them', 'their', 'theirs', 'themselves', 'what', 'which', 'who', 'whom', 'this', 'that', \"that'll\", 'these', 'those', 'am', 'is', 'are', 'was', 'were', 'be', 'been', 'being', 'have', 'has', 'had', 'having', 'do', 'does', 'did', 'doing', 'a', 'an', 'the', 'and', 'but', 'if', 'or', 'because', 'as', 'until', 'while', 'of', 'at', 'by', 'for', 'with', 'about', 'against', 'between', 'into', 'through', 'during', 'before', 'after', 'above', 'below', 'to', 'from', 'in', 'out', 'on', 'over', 'under', 'again', 'further', 'then', 'once', 'here', 'there', 'when', 'where', 'why', 'how', 'all', 'any', 'both', 'each', 'few', 'other', 'some', 'such', 'no', 'nor', 'not', 'only', 'own', 'same', 'so', 'than', 'too', 'very', 's', 't', 'can', 'will', 'just', 'don', \"don't\", 'should', \"should've\", 'now', 'd', 'll', 'm', 'o', 're', 've', 'y', 'ain', 'aren', \"aren't\", 'couldn', \"couldn't\", 'didn', \"didn't\", 'doesn', \"doesn't\", 'hadn', \"hadn't\", 'hasn', \"hasn't\", 'haven', \"haven't\", 'isn', \"isn't\", 'ma', 'mightn', \"mightn't\", 'mustn', \"mustn't\", 'needn', \"needn't\", 'shan', \"shan't\", 'shouldn', \"shouldn't\", 'wasn', \"wasn't\", 'weren', \"weren't\", 'won', \"won't\", 'wouldn', \"wouldn't\"]\n",
        "    text_list = []\n",
        "    for token in tweet_tokens:\n",
        "      token=re.sub(r'\\d+', \"number\", token)#basic emoji like -_- or >_< removal\n",
        "      if len(token) > 3 and '_' in token:\n",
        "        token = token.replace('_', ' ')\n",
        "\n",
        "      if token[0] == '<' and token[-1] == '>':\n",
        "        token = token[1:-1]\n",
        "      text_list.append(token)\n",
        "    final_words = []\n",
        "    for word in text_list:#stop word removal\n",
        "      word=lem(word)\n",
        "      if word not in stop_words:\n",
        "        final_words.append(word)\n",
        "    return (final_words) \n",
        "\n",
        "\n",
        "def build_freqs(tweets, ys):\n",
        "    yslist = np.squeeze(ys).tolist()\n",
        "    \n",
        "    freqs = {}\n",
        "    for y, tweet in zip(yslist, tweets):\n",
        "        for word in text_process(tweet):\n",
        "            pair = (word, y)\n",
        "            freqs[pair] = freqs.get(pair, 0) + 1\n",
        "            \n",
        "    return freqs       "
      ],
      "execution_count": null,
      "outputs": []
    },
    {
      "cell_type": "code",
      "metadata": {
        "id": "v2YYeRGb3yeK"
      },
      "source": [
        "# create frequency dictionary\n",
        "#The key is the tuple (word, label), such as (\"happy\",1) or (\"happy\",0).  \n",
        "#The value stored for each key is the count of how many times the word \"happy\" was associated with a positive label,\n",
        "#or how many times \"happy\" was associated with a negative label.\n",
        "\n",
        "freqs = build_freqs(train_x, train_y)"
      ],
      "execution_count": null,
      "outputs": []
    },
    {
      "cell_type": "code",
      "metadata": {
        "colab": {
          "base_uri": "https://localhost:8080/"
        },
        "id": "n_me0tJej4WL",
        "outputId": "4a962731-d649-4871-92b6-4b2450496f2e"
      },
      "source": [
        "freqs"
      ],
      "execution_count": null,
      "outputs": [
        {
          "output_type": "execute_result",
          "data": {
            "text/plain": [
              "{('accessibility', 1.0): 1,\n",
              " ('adopt', 0.0): 1,\n",
              " ('adoption', 0.0): 1,\n",
              " ('advice', 0.0): 1,\n",
              " ('alarm', 0.0): 1,\n",
              " ('alltime', 0.0): 1,\n",
              " ('alltime', 1.0): 1,\n",
              " ('already', 0.0): 1,\n",
              " ('also', 0.0): 1,\n",
              " ('altcoins', 0.0): 2,\n",
              " ('amazing', 1.0): 1,\n",
              " ('amazon', 1.0): 1,\n",
              " ('amount', 1.0): 1,\n",
              " ('analysts', 0.0): 1,\n",
              " ('another', 0.0): 2,\n",
              " ('another', 1.0): 1,\n",
              " ('apr', 1.0): 1,\n",
              " ('around', 0.0): 1,\n",
              " ('ask', 1.0): 1,\n",
              " ('assets', 1.0): 1,\n",
              " ('attention', 1.0): 1,\n",
              " ('autonomy', 1.0): 1,\n",
              " ('back', 1.0): 1,\n",
              " ('bad', 0.0): 8,\n",
              " ('ban', 0.0): 1,\n",
              " ('banking', 1.0): 1,\n",
              " ('bans', 0.0): 1,\n",
              " ('bear', 1.0): 1,\n",
              " ('bearish', 0.0): 1,\n",
              " ('beautiful', 1.0): 1,\n",
              " ('become', 1.0): 4,\n",
              " ('begin', 0.0): 1,\n",
              " ('beneficial', 1.0): 1,\n",
              " ('better', 1.0): 1,\n",
              " ('big', 0.0): 1,\n",
              " ('billion', 0.0): 1,\n",
              " ('billion', 1.0): 3,\n",
              " ('billionaire', 0.0): 1,\n",
              " ('billions', 0.0): 1,\n",
              " ('binance', 1.0): 1,\n",
              " ('bitcoin', 0.0): 31,\n",
              " ('bitcoin', 1.0): 58,\n",
              " ('bitcoindecrease', 0.0): 1,\n",
              " ('bitcoins', 0.0): 2,\n",
              " ('bitcoins', 1.0): 2,\n",
              " ('bitcoin’s', 1.0): 1,\n",
              " ('black', 0.0): 1,\n",
              " ('blackouts', 0.0): 1,\n",
              " ('blame', 0.0): 1,\n",
              " ('bless', 1.0): 1,\n",
              " ('blockchain', 1.0): 1,\n",
              " ('bond', 1.0): 1,\n",
              " ('boosting', 1.0): 1,\n",
              " ('bottom', 1.0): 1,\n",
              " ('bounce', 1.0): 1,\n",
              " ('btc', 0.0): 3,\n",
              " ('btc', 1.0): 3,\n",
              " ('bubbles', 0.0): 1,\n",
              " ('buffett', 0.0): 1,\n",
              " ('build', 1.0): 1,\n",
              " ('bull', 0.0): 1,\n",
              " ('bull', 1.0): 2,\n",
              " ('burst', 0.0): 1,\n",
              " ('busier', 1.0): 1,\n",
              " ('buy', 1.0): 3,\n",
              " ('cant', 0.0): 1,\n",
              " ('can’t', 0.0): 1,\n",
              " ('capitalization', 0.0): 1,\n",
              " ('capitalization', 1.0): 1,\n",
              " ('cause', 0.0): 2,\n",
              " ('cease', 0.0): 1,\n",
              " ('celebrate', 1.0): 1,\n",
              " ('center', 1.0): 1,\n",
              " ('chain', 1.0): 1,\n",
              " ('change', 1.0): 1,\n",
              " ('charts', 1.0): 1,\n",
              " ('check', 1.0): 1,\n",
              " ('chicago', 0.0): 1,\n",
              " ('china', 0.0): 2,\n",
              " ('citing', 0.0): 1,\n",
              " ('clock', 0.0): 1,\n",
              " ('close', 1.0): 1,\n",
              " ('closely', 1.0): 1,\n",
              " ('collapse', 0.0): 1,\n",
              " ('come', 0.0): 2,\n",
              " ('come', 1.0): 2,\n",
              " ('concerns', 1.0): 1,\n",
              " ('considerable', 1.0): 1,\n",
              " ('could', 0.0): 1,\n",
              " ('could', 1.0): 1,\n",
              " ('country', 1.0): 1,\n",
              " ('couple', 1.0): 1,\n",
              " ('crucial', 1.0): 1,\n",
              " ('crypto', 0.0): 5,\n",
              " ('crypto', 1.0): 3,\n",
              " ('cryptocurrencies', 0.0): 4,\n",
              " ('cryptocurrency', 0.0): 2,\n",
              " ('cryptocurrency', 1.0): 6,\n",
              " ('daily', 0.0): 1,\n",
              " ('dangerous', 0.0): 1,\n",
              " ('day', 1.0): 1,\n",
              " ('decrease', 0.0): 3,\n",
              " ('demand', 1.0): 1,\n",
              " ('designed', 1.0): 1,\n",
              " ('different', 0.0): 1,\n",
              " ('disguise', 1.0): 1,\n",
              " ('disheartening', 0.0): 1,\n",
              " ('divergence', 0.0): 1,\n",
              " ('doesnt', 0.0): 1,\n",
              " ('dollars', 0.0): 1,\n",
              " ('dollars', 1.0): 1,\n",
              " ('down', 0.0): 4,\n",
              " ('down', 1.0): 1,\n",
              " ('downfall', 0.0): 3,\n",
              " ('downgrowth', 0.0): 1,\n",
              " ('dramatically', 0.0): 1,\n",
              " ('drawdowns', 1.0): 1,\n",
              " ('drop', 0.0): 5,\n",
              " ('early', 0.0): 1,\n",
              " ('ecosystem', 1.0): 1,\n",
              " ('elimination', 1.0): 1,\n",
              " ('elon', 0.0): 1,\n",
              " ('elon', 1.0): 7,\n",
              " ('embarked', 1.0): 1,\n",
              " ('enjoy', 1.0): 1,\n",
              " ('ether', 0.0): 1,\n",
              " ('ethereums', 1.0): 1,\n",
              " ('even', 1.0): 1,\n",
              " ('eventually', 0.0): 1,\n",
              " ('eventually', 1.0): 1,\n",
              " ('ever', 1.0): 1,\n",
              " ('every', 1.0): 1,\n",
              " ('everyone', 1.0): 1,\n",
              " ('everything', 1.0): 1,\n",
              " ('exceeding', 0.0): 1,\n",
              " ('exceptional', 1.0): 1,\n",
              " ('exhibits', 0.0): 1,\n",
              " ('exist', 0.0): 1,\n",
              " ('exit', 0.0): 1,\n",
              " ('expand', 1.0): 1,\n",
              " ('expensive', 1.0): 1,\n",
              " ('experience', 0.0): 2,\n",
              " ('face', 0.0): 1,\n",
              " ('factor', 0.0): 1,\n",
              " ('fair', 1.0): 1,\n",
              " ('faith', 1.0): 1,\n",
              " ('fall', 0.0): 6,\n",
              " ('falling', 1.0): 1,\n",
              " ('far', 1.0): 1,\n",
              " ('faster', 1.0): 1,\n",
              " ('february', 1.0): 1,\n",
              " ('fees', 1.0): 2,\n",
              " ('finally', 1.0): 1,\n",
              " ('firm', 0.0): 1,\n",
              " ('first', 0.0): 1,\n",
              " ('first', 1.0): 1,\n",
              " ('followers', 1.0): 1,\n",
              " ('forever', 1.0): 1,\n",
              " ('forget', 0.0): 1,\n",
              " ('frenzyit', 0.0): 1,\n",
              " ('fresh', 0.0): 1,\n",
              " ('full', 0.0): 1,\n",
              " ('funding', 0.0): 1,\n",
              " ('funding', 1.0): 2,\n",
              " ('future', 0.0): 2,\n",
              " ('future', 1.0): 1,\n",
              " ('futures', 0.0): 1,\n",
              " ('gain', 1.0): 1,\n",
              " ('gas', 1.0): 1,\n",
              " ('get', 0.0): 6,\n",
              " ('get', 1.0): 4,\n",
              " ('gmt', 1.0): 1,\n",
              " ('go', 0.0): 2,\n",
              " ('go', 1.0): 4,\n",
              " ('going', 1.0): 1,\n",
              " ('gold', 1.0): 1,\n",
              " ('goldlike', 1.0): 1,\n",
              " ('gonna', 0.0): 2,\n",
              " ('gonna', 1.0): 2,\n",
              " ('good', 0.0): 1,\n",
              " ('good', 1.0): 12,\n",
              " ('government', 0.0): 2,\n",
              " ('great', 1.0): 14,\n",
              " ('greater', 1.0): 1,\n",
              " ('grind', 0.0): 1,\n",
              " ('growth', 1.0): 2,\n",
              " ('halve', 0.0): 1,\n",
              " ('halve', 1.0): 9,\n",
              " ('hand', 1.0): 1,\n",
              " ('hash', 0.0): 1,\n",
              " ('hashtagfueled', 1.0): 1,\n",
              " ('hasnt', 1.0): 1,\n",
              " ('heightsthe', 1.0): 1,\n",
              " ('hence', 0.0): 1,\n",
              " ('high', 0.0): 3,\n",
              " ('high', 1.0): 10,\n",
              " ('highroad', 1.0): 1,\n",
              " ('highs', 1.0): 1,\n",
              " ('hit', 0.0): 1,\n",
              " ('hit', 1.0): 2,\n",
              " ('holdings', 1.0): 1,\n",
              " ('holdingsthis', 0.0): 1,\n",
              " ('huge', 1.0): 1,\n",
              " ('ignore', 0.0): 1,\n",
              " ('increase', 1.0): 9,\n",
              " ('indian', 0.0): 2,\n",
              " ('inevitable', 1.0): 1,\n",
              " ('institutional', 0.0): 1,\n",
              " ('interest', 1.0): 1,\n",
              " ('invest', 1.0): 1,\n",
              " ('investing', 1.0): 1,\n",
              " ('investors', 0.0): 2,\n",
              " ('investors', 1.0): 5,\n",
              " ('invests', 1.0): 1,\n",
              " ('irrelevant', 0.0): 1,\n",
              " ('jan', 0.0): 1,\n",
              " ('job', 0.0): 1,\n",
              " ('jpmorgan', 0.0): 3,\n",
              " ('king', 1.0): 1,\n",
              " ('know', 1.0): 1,\n",
              " ('last', 0.0): 2,\n",
              " ('last', 1.0): 3,\n",
              " ('latest', 0.0): 1,\n",
              " ('law', 0.0): 1,\n",
              " ('lead', 0.0): 4,\n",
              " ('lead', 1.0): 1,\n",
              " ('leave', 0.0): 1,\n",
              " ('legitimized', 1.0): 1,\n",
              " ('let', 1.0): 1,\n",
              " ('likely', 0.0): 1,\n",
              " ('liquidated', 0.0): 1,\n",
              " ('liquidations', 0.0): 1,\n",
              " ('longawaited', 0.0): 1,\n",
              " ('longing', 0.0): 1,\n",
              " ('look', 0.0): 1,\n",
              " ('low', 0.0): 1,\n",
              " ('main', 0.0): 1,\n",
              " ('march', 0.0): 1,\n",
              " ('market', 0.0): 5,\n",
              " ('market', 1.0): 9,\n",
              " ('materialize', 0.0): 1,\n",
              " ('may', 0.0): 3,\n",
              " ('may', 1.0): 2,\n",
              " ('might', 0.0): 3,\n",
              " ('million', 0.0): 1,\n",
              " ('million', 1.0): 1,\n",
              " ('mine', 0.0): 2,\n",
              " ('miners', 1.0): 1,\n",
              " ('minister', 1.0): 1,\n",
              " ('momentum', 0.0): 1,\n",
              " ('monetary', 1.0): 1,\n",
              " ('money', 0.0): 2,\n",
              " ('money', 1.0): 2,\n",
              " ('month', 1.0): 4,\n",
              " ('months', 0.0): 1,\n",
              " ('months', 1.0): 1,\n",
              " ('moral', 1.0): 1,\n",
              " ('more', 0.0): 2,\n",
              " ('more', 1.0): 6,\n",
              " ('most', 0.0): 1,\n",
              " ('most', 1.0): 1,\n",
              " ('multiply', 1.0): 1,\n",
              " ('musk', 0.0): 1,\n",
              " ('musk', 1.0): 5,\n",
              " ('musk’s', 1.0): 1,\n",
              " ('must', 1.0): 1,\n",
              " ('national', 1.0): 1,\n",
              " ('negative', 1.0): 1,\n",
              " ('new', 1.0): 2,\n",
              " ('news', 0.0): 1,\n",
              " ('news', 1.0): 3,\n",
              " ('next', 1.0): 1,\n",
              " ('nice', 1.0): 1,\n",
              " ('nightmare', 0.0): 1,\n",
              " ('normal', 0.0): 1,\n",
              " ('number', 0.0): 5,\n",
              " ('number', 1.0): 13,\n",
              " ('numbernumber', 0.0): 4,\n",
              " ('numbernumber', 1.0): 10,\n",
              " ('numberx', 1.0): 1,\n",
              " ('occur', 1.0): 1,\n",
              " ('off', 1.0): 1,\n",
              " ('offer', 1.0): 1,\n",
              " ('one', 0.0): 3,\n",
              " ('opportunities', 1.0): 1,\n",
              " ('overall', 0.0): 1,\n",
              " ('pancakeswap', 1.0): 1,\n",
              " ('panic', 1.0): 1,\n",
              " ('past', 0.0): 1,\n",
              " ('past', 1.0): 2,\n",
              " ('patheticthe', 0.0): 1,\n",
              " ('payment', 1.0): 1,\n",
              " ('payments', 0.0): 1,\n",
              " ('peak', 0.0): 1,\n",
              " ('peak', 1.0): 1,\n",
              " ('people', 1.0): 2,\n",
              " ('percent', 1.0): 1,\n",
              " ('perfect', 1.0): 1,\n",
              " ('performance', 1.0): 1,\n",
              " ('period', 0.0): 1,\n",
              " ('person', 1.0): 1,\n",
              " ('phase', 1.0): 2,\n",
              " ('pick', 1.0): 1,\n",
              " ('pleasant', 1.0): 1,\n",
              " ('plummet', 0.0): 1,\n",
              " ('plunge', 1.0): 1,\n",
              " ('plunged', 0.0): 1,\n",
              " ('pm', 1.0): 1,\n",
              " ('political', 0.0): 1,\n",
              " ('popular', 0.0): 1,\n",
              " ('position', 0.0): 1,\n",
              " ('positive', 1.0): 1,\n",
              " ('potential', 1.0): 2,\n",
              " ('precedes', 1.0): 1,\n",
              " ('predicting', 0.0): 1,\n",
              " ('prepare', 0.0): 1,\n",
              " ('previous', 1.0): 1,\n",
              " ('price', 0.0): 10,\n",
              " ('price', 1.0): 12,\n",
              " ('prices', 0.0): 4,\n",
              " ('prices', 1.0): 5,\n",
              " ('pricesthe', 0.0): 1,\n",
              " ('prizes', 1.0): 1,\n",
              " ('problem', 0.0): 1,\n",
              " ('properties', 1.0): 1,\n",
              " ('propose', 1.0): 1,\n",
              " ('prove', 1.0): 1,\n",
              " ('provide', 0.0): 1,\n",
              " ('provide', 1.0): 1,\n",
              " ('public', 1.0): 1,\n",
              " ('push', 1.0): 1,\n",
              " ('rally', 0.0): 1,\n",
              " ('ramen', 1.0): 1,\n",
              " ('rate', 0.0): 1,\n",
              " ('rate', 1.0): 1,\n",
              " ('rates', 0.0): 2,\n",
              " ('rates', 1.0): 1,\n",
              " ('reach', 1.0): 1,\n",
              " ('read', 0.0): 1,\n",
              " ('really', 1.0): 1,\n",
              " ('rebounds', 0.0): 1,\n",
              " ('recent', 0.0): 1,\n",
              " ('record', 1.0): 4,\n",
              " ('recoveries', 1.0): 1,\n",
              " ('recovers', 1.0): 1,\n",
              " ('reeling', 0.0): 1,\n",
              " ('regain', 0.0): 1,\n",
              " ('regions', 0.0): 1,\n",
              " ('registered', 1.0): 1,\n",
              " ('regulated', 1.0): 1,\n",
              " ('relatively', 0.0): 1,\n",
              " ('researchers', 1.0): 1,\n",
              " ('reset', 0.0): 1,\n",
              " ('reset', 1.0): 1,\n",
              " ('result', 0.0): 2,\n",
              " ('results', 0.0): 1,\n",
              " ('reuters', 1.0): 1,\n",
              " ('reveals', 1.0): 1,\n",
              " ('richer', 1.0): 1,\n",
              " ('ride', 1.0): 1,\n",
              " ('rise', 0.0): 1,\n",
              " ('rise', 1.0): 4,\n",
              " ('risethe', 1.0): 1,\n",
              " ('risks', 0.0): 1,\n",
              " ('roadway', 0.0): 1,\n",
              " ('rocket', 1.0): 1,\n",
              " ('rocks', 1.0): 1,\n",
              " ('rollercoaster', 1.0): 1,\n",
              " ('rsi', 0.0): 1,\n",
              " ('ruining', 0.0): 1,\n",
              " ('rule', 1.0): 1,\n",
              " ('ruler', 1.0): 1,\n",
              " ('run', 0.0): 1,\n",
              " ('run', 1.0): 2,\n",
              " ('satisfactory', 1.0): 1,\n",
              " ('save', 0.0): 1,\n",
              " ('say', 1.0): 3,\n",
              " ('scammers', 0.0): 1,\n",
              " ('score', 0.0): 1,\n",
              " ('second', 0.0): 1,\n",
              " ('see', 0.0): 2,\n",
              " ('see', 1.0): 1,\n",
              " ('selloff', 0.0): 2,\n",
              " ('sentence', 0.0): 1,\n",
              " ('set', 1.0): 2,\n",
              " ('share', 0.0): 1,\n",
              " ('showing', 0.0): 2,\n",
              " ('sight', 1.0): 1,\n",
              " ('sign', 0.0): 1,\n",
              " ('signal', 0.0): 1,\n",
              " ('signs', 0.0): 1,\n",
              " ('silver', 1.0): 1,\n",
              " ('simply', 0.0): 1,\n",
              " ('since', 0.0): 2,\n",
              " ('since', 1.0): 2,\n",
              " ('sink', 0.0): 1,\n",
              " ('situation', 0.0): 4,\n",
              " ('six', 1.0): 1,\n",
              " ('sky', 1.0): 1,\n",
              " ('skyrocketedand', 1.0): 1,\n",
              " ('slip', 0.0): 1,\n",
              " ('slumps', 0.0): 1,\n",
              " ('slumps', 1.0): 1,\n",
              " ('smart', 1.0): 1,\n",
              " ('smash', 1.0): 1,\n",
              " ('soar', 0.0): 1,\n",
              " ('soar', 1.0): 4,\n",
              " ('social', 0.0): 1,\n",
              " ('sometimes', 0.0): 1,\n",
              " ('soon', 0.0): 3,\n",
              " ('sort', 0.0): 1,\n",
              " ('sounds', 0.0): 1,\n",
              " ('space', 0.0): 1,\n",
              " ('spicy', 1.0): 1,\n",
              " ('spnumber', 1.0): 1,\n",
              " ('stand', 1.0): 1,\n",
              " ('start', 0.0): 2,\n",
              " ('start', 1.0): 1,\n",
              " ('status', 1.0): 1,\n",
              " ('steal', 0.0): 1,\n",
              " ('stealth', 1.0): 1,\n",
              " ('still', 1.0): 1,\n",
              " ('stock', 0.0): 1,\n",
              " ('stock', 1.0): 1,\n",
              " ('stocktoflow', 1.0): 1,\n",
              " ('story', 1.0): 1,\n",
              " ('sudden', 0.0): 2,\n",
              " ('sunday', 0.0): 1,\n",
              " ('support', 1.0): 1,\n",
              " ('sure', 1.0): 1,\n",
              " ('surely', 1.0): 1,\n",
              " ('surge', 0.0): 1,\n",
              " ('surge', 1.0): 1,\n",
              " ('surpass', 1.0): 1,\n",
              " ('sustainability', 1.0): 1,\n",
              " ('systems', 1.0): 1,\n",
              " ('tags', 1.0): 2,\n",
              " ('talk', 1.0): 1,\n",
              " ('tax', 0.0): 1,\n",
              " ('terms', 1.0): 1,\n",
              " ('territory', 1.0): 1,\n",
              " ('tesla', 0.0): 1,\n",
              " ('tesla', 1.0): 2,\n",
              " ('thank', 1.0): 1,\n",
              " ('thats', 0.0): 1,\n",
              " ('thats', 1.0): 2,\n",
              " ('thing', 0.0): 1,\n",
              " ('thing', 1.0): 1,\n",
              " ('things', 1.0): 1,\n",
              " ('think', 1.0): 1,\n",
              " ('thoughts', 1.0): 1,\n",
              " ('threshold', 0.0): 1,\n",
              " ('time', 1.0): 2,\n",
              " ('times', 1.0): 1,\n",
              " ('topics', 0.0): 1,\n",
              " ('topped', 1.0): 1,\n",
              " ('touch', 1.0): 1,\n",
              " ('trade', 1.0): 3,\n",
              " ('trader', 0.0): 1,\n",
              " ('traders', 0.0): 1,\n",
              " ('trading', 1.0): 1,\n",
              " ('transactions', 0.0): 1,\n",
              " ('tremble', 0.0): 1,\n",
              " ('trillion', 1.0): 2,\n",
              " ('trust', 1.0): 1,\n",
              " ('turbulenceits', 0.0): 1,\n",
              " ('turkey', 0.0): 1,\n",
              " ('turkish', 1.0): 1,\n",
              " ('turn', 1.0): 1,\n",
              " ('tweets', 1.0): 1,\n",
              " ('twitter', 0.0): 2,\n",
              " ('twitter', 1.0): 1,\n",
              " ('typically', 1.0): 1,\n",
              " ('unhappy', 0.0): 1,\n",
              " ('unpredictability', 0.0): 1,\n",
              " ('untainted', 1.0): 1,\n",
              " ('up', 1.0): 6,\n",
              " ('upgrade', 1.0): 1,\n",
              " ('upper', 1.0): 1,\n",
              " ('upside', 1.0): 1,\n",
              " ('urgent', 0.0): 1,\n",
              " ('us', 1.0): 1,\n",
              " ('use', 1.0): 2,\n",
              " ('user', 1.0): 1,\n",
              " ('usermention', 1.0): 1,\n",
              " ('usually', 1.0): 1,\n",
              " ('ut', 1.0): 1,\n",
              " ('utility', 0.0): 1,\n",
              " ('valuation', 1.0): 1,\n",
              " ('value', 1.0): 5,\n",
              " ('vanish', 0.0): 1,\n",
              " ('volatility', 1.0): 1,\n",
              " ('wait', 1.0): 1,\n",
              " ('waits', 1.0): 1,\n",
              " ('warn', 0.0): 2,\n",
              " ('warren', 0.0): 1,\n",
              " ('way', 0.0): 1,\n",
              " ('weakness', 0.0): 2,\n",
              " ('wednesdaythe', 1.0): 1,\n",
              " ('week', 0.0): 1,\n",
              " ('week', 1.0): 1,\n",
              " ('weekend', 0.0): 1,\n",
              " ('weekend', 1.0): 1,\n",
              " ('whip', 0.0): 1,\n",
              " ('whopping', 1.0): 1,\n",
              " ('wif', 1.0): 1,\n",
              " ('window', 0.0): 1,\n",
              " ('wonderfully', 1.0): 1,\n",
              " ('world', 1.0): 1,\n",
              " ('worsen', 0.0): 4,\n",
              " ('would', 1.0): 1,\n",
              " ('year', 0.0): 1,\n",
              " ('year', 1.0): 2,\n",
              " ('years', 1.0): 2,\n",
              " ('yet', 1.0): 1,\n",
              " ('zone', 1.0): 1,\n",
              " ('–', 1.0): 2,\n",
              " ('—', 1.0): 1,\n",
              " ('‘momentum’', 0.0): 1}"
            ]
          },
          "metadata": {
            "tags": []
          },
          "execution_count": 38
        }
      ]
    },
    {
      "cell_type": "code",
      "metadata": {
        "colab": {
          "base_uri": "https://localhost:8080/"
        },
        "id": "yoAwQIMo4BZb",
        "outputId": "c35b66d2-601a-4f6a-827c-bb59e2217043"
      },
      "source": [
        "# check the output\n",
        "print(\"type(freqs) = \" + str(type(freqs)))\n",
        "print(\"len(freqs) = \" + str(len(freqs.keys())))"
      ],
      "execution_count": null,
      "outputs": [
        {
          "output_type": "stream",
          "text": [
            "type(freqs) = <class 'dict'>\n",
            "len(freqs) = 519\n"
          ],
          "name": "stdout"
        }
      ]
    },
    {
      "cell_type": "code",
      "metadata": {
        "colab": {
          "base_uri": "https://localhost:8080/"
        },
        "id": "8Fe91gUcIiI2",
        "outputId": "cfd3a8e4-aa4f-4870-9c38-85adfdaf62e8"
      },
      "source": [
        "text_process(negative_tweets[3])"
      ],
      "execution_count": null,
      "outputs": [
        {
          "output_type": "execute_result",
          "data": {
            "text/plain": [
              "['cryptocurrency',\n",
              " 'market',\n",
              " 'plunged',\n",
              " 'early',\n",
              " 'sunday',\n",
              " 'result',\n",
              " 'blackouts',\n",
              " 'china',\n",
              " 'result',\n",
              " 'bitcoin',\n",
              " 'mine',\n",
              " 'rates',\n",
              " 'drop',\n",
              " 'dramatically',\n",
              " 'cause',\n",
              " 'prices',\n",
              " 'plummet',\n",
              " 'billions',\n",
              " 'dollars',\n",
              " 'liquidations']"
            ]
          },
          "metadata": {
            "tags": []
          },
          "execution_count": 132
        }
      ]
    },
    {
      "cell_type": "markdown",
      "metadata": {
        "id": "Z0U1k07DlHFc"
      },
      "source": [
        "Given a list of tweets, extract the features and store them in a matrix. You will extract two features.\n",
        "\n",
        "  1. The first feature is the number of positive words in a tweet.\n",
        "  2. The second feature is the number of negative words in a tweet. \n",
        "\n",
        "Then train your logistic regression classifier on these features.\n",
        "Test the classifier on a validation set. \n",
        " \n",
        "Implement the extract_features function. \n",
        "Input: This function takes in a single tweet.\n",
        "Function: \n",
        "\n",
        "1.   Process the tweet using the imported `process_tweet()` function and\n",
        "     save the list of tweet words.\n",
        "2.   Loop through each word in the list of processed words\n",
        "3.   For each word, check the `freqs` dictionary for the count combine\n",
        "     positive and negative labels when that word has a positive '1' label. \n",
        "     (Check for the key (word, 1.0)\n",
        "4.   Do the same for the count for when the word is associated with the \n",
        "     negative label '0'. (Check for the key (word, 0.0).)\n",
        "\n",
        "\n",
        "\n"
      ]
    },
    {
      "cell_type": "code",
      "metadata": {
        "id": "rLrolZC8Ihm0"
      },
      "source": [
        "def extract_features(tweet, freqs):\n",
        "    '''\n",
        "    Input: \n",
        "        tweet: a list of words for one tweet\n",
        "        freqs: a dictionary corresponding to the frequencies of each tuple (word, label)\n",
        "    Output: \n",
        "        x: a feature vector of dimension (1,3)\n",
        "    '''\n",
        "    # process_tweet tokenizes, stems, and removes stopwords\n",
        "    word_l = text_process(tweet)\n",
        "    \n",
        "    # 3 elements in the form of a 1 x 3 vector\n",
        "    x = np.zeros((1, 3)) \n",
        "    \n",
        "    #bias term is set to 1\n",
        "    x[0,0] = 1 \n",
        "        \n",
        "    # loop through each word in the list of words\n",
        "    for word in word_l:\n",
        "        \n",
        "        # increment the word count for the positive label 1\n",
        "        x[0,1] += freqs.get((word,1),0)\n",
        "        \n",
        "        # increment the word count for the negative label 0\n",
        "        x[0,2] += freqs.get((word,0),0)\n",
        "        \n",
        "    assert(x.shape == (1, 3))\n",
        "    return x\n"
      ],
      "execution_count": null,
      "outputs": []
    },
    {
      "cell_type": "code",
      "metadata": {
        "colab": {
          "base_uri": "https://localhost:8080/"
        },
        "id": "fRISu5Qr5Iiq",
        "outputId": "07257bb2-8e43-4ef1-e4a6-42f28ac12fe7"
      },
      "source": [
        "# test on training data\n",
        "tmp1 = extract_features(train_x[0], freqs)\n",
        "print(tmp1)"
      ],
      "execution_count": null,
      "outputs": [
        {
          "output_type": "stream",
          "text": [
            "[[ 1. 36.  5.]]\n"
          ],
          "name": "stdout"
        }
      ]
    },
    {
      "cell_type": "code",
      "metadata": {
        "id": "z8h9XZvLKEeK"
      },
      "source": [
        "# collect the features 'x' and stack them into a matrix 'X'\n",
        "X = np.zeros((len(train_x), 3))\n",
        "for i in range(len(train_x)):\n",
        "    X[i, :]= extract_features(train_x[i], freqs)\n"
      ],
      "execution_count": null,
      "outputs": []
    },
    {
      "cell_type": "code",
      "metadata": {
        "colab": {
          "base_uri": "https://localhost:8080/"
        },
        "id": "-F9g-XaMoIAi",
        "outputId": "c7414889-fcd9-4df7-e612-0527bf58f39a"
      },
      "source": [
        "X"
      ],
      "execution_count": null,
      "outputs": [
        {
          "output_type": "execute_result",
          "data": {
            "text/plain": [
              "array([[  1.,  36.,   5.],\n",
              "       [  1., 116.,  45.],\n",
              "       [  1.,  93.,  32.],\n",
              "       [  1.,  74.,  34.],\n",
              "       [  1., 100.,  38.],\n",
              "       [  1., 153.,  75.],\n",
              "       [  1., 148.,  64.],\n",
              "       [  1., 109.,  39.],\n",
              "       [  1.,  26.,   1.],\n",
              "       [  1.,  81.,  34.],\n",
              "       [  1., 180.,  66.],\n",
              "       [  1.,  96.,  39.],\n",
              "       [  1., 108.,  51.],\n",
              "       [  1.,  87.,  46.],\n",
              "       [  1.,  85.,  42.],\n",
              "       [  1., 125.,  65.],\n",
              "       [  1.,  84.,  42.],\n",
              "       [  1.,  90.,  40.],\n",
              "       [  1., 183.,  76.],\n",
              "       [  1.,  65.,  35.],\n",
              "       [  1.,  24.,  13.],\n",
              "       [  1.,  85.,  39.],\n",
              "       [  1.,  84.,  45.],\n",
              "       [  1., 109.,  49.],\n",
              "       [  1.,  16.,   6.],\n",
              "       [  1.,  93.,  39.],\n",
              "       [  1.,  29.,   3.],\n",
              "       [  1.,  74.,  39.],\n",
              "       [  1., 103.,  35.],\n",
              "       [  1.,  70.,  34.],\n",
              "       [  1., 142.,  63.],\n",
              "       [  1.,  86.,  36.],\n",
              "       [  1.,  23.,  15.],\n",
              "       [  1.,  93.,  46.],\n",
              "       [  1.,  99.,  48.],\n",
              "       [  1.,  63.,  31.],\n",
              "       [  1.,  10.,   2.],\n",
              "       [  1.,  71.,  38.],\n",
              "       [  1.,  92.,  36.],\n",
              "       [  1., 197.,  95.],\n",
              "       [  1.,  80.,  34.],\n",
              "       [  1.,  73.,  32.],\n",
              "       [  1.,  65.,  33.],\n",
              "       [  1.,  82.,  32.],\n",
              "       [  1.,  77.,  31.],\n",
              "       [  1.,  73.,  33.],\n",
              "       [  1., 148.,  74.],\n",
              "       [  1., 144.,  67.],\n",
              "       [  1.,  61.,  33.],\n",
              "       [  1., 148.,  73.],\n",
              "       [  1., 148.,  69.],\n",
              "       [  1., 131.,  64.],\n",
              "       [  1., 165.,  77.],\n",
              "       [  1., 150.,  67.],\n",
              "       [  1.,  92.,  42.],\n",
              "       [  1.,  24.,  49.],\n",
              "       [  1., 152., 107.],\n",
              "       [  1., 137.,  90.],\n",
              "       [  1.,  80.,  68.],\n",
              "       [  1., 158., 129.],\n",
              "       [  1.,  74.,  52.],\n",
              "       [  1.,  60.,  42.],\n",
              "       [  1.,  87.,  87.],\n",
              "       [  1.,  85.,  62.],\n",
              "       [  1., 120.,  86.],\n",
              "       [  1., 198., 117.],\n",
              "       [  1.,  76.,  53.],\n",
              "       [  1.,  62.,  46.],\n",
              "       [  1.,  12.,  34.],\n",
              "       [  1., 116.,  65.],\n",
              "       [  1.,  58.,  34.],\n",
              "       [  1., 141., 114.],\n",
              "       [  1.,  61.,  44.],\n",
              "       [  1.,  61.,  38.],\n",
              "       [  1.,  93.,  80.],\n",
              "       [  1.,  67.,  54.],\n",
              "       [  1.,  83.,  88.],\n",
              "       [  1.,  30.,  45.],\n",
              "       [  1.,  89.,  69.],\n",
              "       [  1.,  90.,  53.],\n",
              "       [  1.,  70.,  39.],\n",
              "       [  1.,  58.,  36.]])"
            ]
          },
          "metadata": {
            "tags": []
          },
          "execution_count": 45
        }
      ]
    },
    {
      "cell_type": "code",
      "metadata": {
        "colab": {
          "base_uri": "https://localhost:8080/"
        },
        "id": "b5z_vJGCKEaU",
        "outputId": "b385be9e-e76f-4728-db22-dff26bb29e32"
      },
      "source": [
        "X.shape"
      ],
      "execution_count": null,
      "outputs": [
        {
          "output_type": "execute_result",
          "data": {
            "text/plain": [
              "(82, 3)"
            ]
          },
          "metadata": {
            "tags": []
          },
          "execution_count": 144
        }
      ]
    },
    {
      "cell_type": "code",
      "metadata": {
        "id": "_Ln0Bw_t5ez5"
      },
      "source": [
        "Y = train_y"
      ],
      "execution_count": null,
      "outputs": []
    },
    {
      "cell_type": "code",
      "metadata": {
        "colab": {
          "base_uri": "https://localhost:8080/"
        },
        "id": "oNIAe7pNoXxt",
        "outputId": "69b33cf3-c3d7-4f1f-e80b-c31a7710cf60"
      },
      "source": [
        "Y"
      ],
      "execution_count": null,
      "outputs": [
        {
          "output_type": "execute_result",
          "data": {
            "text/plain": [
              "array([[1.],\n",
              "       [1.],\n",
              "       [1.],\n",
              "       [1.],\n",
              "       [1.],\n",
              "       [1.],\n",
              "       [1.],\n",
              "       [1.],\n",
              "       [1.],\n",
              "       [1.],\n",
              "       [1.],\n",
              "       [1.],\n",
              "       [1.],\n",
              "       [1.],\n",
              "       [1.],\n",
              "       [1.],\n",
              "       [1.],\n",
              "       [1.],\n",
              "       [1.],\n",
              "       [1.],\n",
              "       [1.],\n",
              "       [1.],\n",
              "       [1.],\n",
              "       [1.],\n",
              "       [1.],\n",
              "       [1.],\n",
              "       [1.],\n",
              "       [1.],\n",
              "       [1.],\n",
              "       [1.],\n",
              "       [1.],\n",
              "       [1.],\n",
              "       [1.],\n",
              "       [1.],\n",
              "       [1.],\n",
              "       [1.],\n",
              "       [1.],\n",
              "       [1.],\n",
              "       [1.],\n",
              "       [1.],\n",
              "       [1.],\n",
              "       [1.],\n",
              "       [1.],\n",
              "       [1.],\n",
              "       [1.],\n",
              "       [1.],\n",
              "       [1.],\n",
              "       [1.],\n",
              "       [1.],\n",
              "       [1.],\n",
              "       [1.],\n",
              "       [1.],\n",
              "       [1.],\n",
              "       [1.],\n",
              "       [1.],\n",
              "       [0.],\n",
              "       [0.],\n",
              "       [0.],\n",
              "       [0.],\n",
              "       [0.],\n",
              "       [0.],\n",
              "       [0.],\n",
              "       [0.],\n",
              "       [0.],\n",
              "       [0.],\n",
              "       [0.],\n",
              "       [0.],\n",
              "       [0.],\n",
              "       [0.],\n",
              "       [0.],\n",
              "       [0.],\n",
              "       [0.],\n",
              "       [0.],\n",
              "       [0.],\n",
              "       [0.],\n",
              "       [0.],\n",
              "       [0.],\n",
              "       [0.],\n",
              "       [0.],\n",
              "       [0.],\n",
              "       [0.],\n",
              "       [0.]])"
            ]
          },
          "metadata": {
            "tags": []
          },
          "execution_count": 48
        }
      ]
    },
    {
      "cell_type": "code",
      "metadata": {
        "colab": {
          "base_uri": "https://localhost:8080/"
        },
        "id": "vvUNUYtN5hQy",
        "outputId": "17fed060-0e73-424a-d371-643ccbeee6d9"
      },
      "source": [
        "Y.shape"
      ],
      "execution_count": null,
      "outputs": [
        {
          "output_type": "execute_result",
          "data": {
            "text/plain": [
              "(82, 1)"
            ]
          },
          "metadata": {
            "tags": []
          },
          "execution_count": 146
        }
      ]
    },
    {
      "cell_type": "markdown",
      "metadata": {
        "id": "tNNXt1FYo7E8"
      },
      "source": [
        "![0_pvMD0iSS8Mb2zy6W.png](data:image/png;base64,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)"
      ]
    },
    {
      "cell_type": "markdown",
      "metadata": {
        "id": "zR0ovJZRpi_I"
      },
      "source": [
        "Logistic regression takes a regular linear regression, and applies a sigmoid to the output of the linear regression."
      ]
    },
    {
      "cell_type": "markdown",
      "metadata": {
        "id": "fNQ6iv7TqQ5l"
      },
      "source": [
        "Logistic regression makes use of the sigmoid function which outputs a probability between 0 and 1. \n",
        "\n",
        "The sigmoid function with some weight parameter θ and some input x^{(i)}x(i) is defined as follows:-\n",
        "\n",
        "h(x^(i), θ) = 1/(1 + e^(-θ^T*x^(i)).\n",
        "\n",
        "The sigmoid function gives values between -1 and 1 hence we can classify the predictions depending on a particular cutoff. (say : 0.5)\n",
        "\n",
        "Note that as (θ^T)x(i) gets closer and closer to −∞ the denominator of the sigmoid function gets larger and larger and as a result, the sigmoid gets closer to 0. On the other hand, (θ^T)x(i) gets closer and closer to ∞ the denominator of the sigmoid function gets closer to 1 and as a result the sigmoid also gets closer to 1."
      ]
    },
    {
      "cell_type": "markdown",
      "metadata": {
        "id": "tWSDe9L_r-Kw"
      },
      "source": [
        ""
      ]
    },
    {
      "cell_type": "code",
      "metadata": {
        "id": "FgL2FlKFKEW9"
      },
      "source": [
        "#It maps the input 'z' to a value that ranges between 0 and 1, and so it can be treated as a probability. \n",
        "def sigmoid(z): \n",
        "    '''\n",
        "    Input:\n",
        "        z: is the input (can be a scalar or an array)\n",
        "    Output:\n",
        "        h: the sigmoid of z\n",
        "    '''\n",
        "    # calculate the sigmoid of z\n",
        "    h = 1/(1 + np.exp(-z))\n",
        "    \n",
        "    return h"
      ],
      "execution_count": null,
      "outputs": []
    },
    {
      "cell_type": "code",
      "metadata": {
        "colab": {
          "base_uri": "https://localhost:8080/"
        },
        "id": "rDWUa9s54iVM",
        "outputId": "7397ab1e-21c8-4bf4-dc4f-4c9bc8030321"
      },
      "source": [
        "# Testing your function \n",
        "if (sigmoid(0) == 0.5):\n",
        "    print('SUCCESS!')\n",
        "else:\n",
        "    print('Oops!')\n",
        "\n",
        "if (sigmoid(4.92) == 0.9927537604041685):\n",
        "    print('CORRECT!')\n",
        "else:\n",
        "    print('Oops again!')\n",
        "    "
      ],
      "execution_count": null,
      "outputs": [
        {
          "output_type": "stream",
          "text": [
            "SUCCESS!\n",
            "CORRECT!\n"
          ],
          "name": "stdout"
        }
      ]
    },
    {
      "cell_type": "markdown",
      "metadata": {
        "id": "Z6QJNLpcrkUr"
      },
      "source": [
        "##The cost function used for logistic regression is the average of the log loss across all training examples:\n",
        "\n",
        "# $$J(\\theta) = -\\frac{1}{m} \\sum_{i=1}^m y^{(i)}\\log (h(z(\\theta)^{(i)})) + (1-y^{(i)})\\log (1-h(z(\\theta)^{(i)}))\\ $$\n",
        "# * $m$ is the number of training examples\n",
        "# * $y^{(i)}$ is the actual label of the i-th training example.\n",
        "# * $h(z(\\theta)^{(i)})$ is the model's prediction for the i-th training example."
      ]
    },
    {
      "cell_type": "markdown",
      "metadata": {
        "id": "yZJMYiukshrB"
      },
      "source": [
        "##The loss function for a single training example is\n",
        "# $$ Loss = -1 \\times \\left( y^{(i)}\\log (h(z(\\theta)^{(i)})) + (1-y^{(i)})\\log (1-h(z(\\theta)^{(i)})) \\right)$$\n",
        " \n",
        " * All the $h$ values are between 0 and 1, so the logs will be negative. That is the reason for the factor of -1 applied to the sum of the two loss terms.\n",
        " * Note that when the model predicts 1 ($h(z(\\theta)) = 1$) and the label $y$ is also 1, the loss for that training example is 0. \n",
        " * Similarly, when the model predicts 0 ($h(z(\\theta)) = 0$) and the actual label is also 0, the loss for that training example is 0. \n",
        " * However, when the model prediction is close to 1 ($h(z(\\theta)) = 0.9999$) and the label is 0, the second term of the log loss becomes a large negative number, which is then multiplied by the overall factor of -1 to convert it to a positive loss value. $-1 \\times (1 - 0) \\times log(1 - 0.9999) \\approx 9.2$ The closer the model prediction gets to 1, the larger the loss.\n"
      ]
    },
    {
      "cell_type": "markdown",
      "metadata": {
        "id": "Nn9Tq3kjtQ4v"
      },
      "source": [
        "# Update the weights\n",
        "\n",
        "To update your weight vector $\\theta$, you will apply gradient descent to iteratively improve your model's predictions.  \n",
        "The gradient of the cost function $J$ with respect to one of the weights $\\theta_j$ is:\n",
        " \n",
        "# $$\\nabla_{\\theta_j}J(\\theta) = \\frac{1}{m} \\sum_{i=1}^m(h^{(i)}-y^{(i)})x_j \\tag{5}$$\n",
        "# * 'i' is the index across all 'm' training examples.\n",
        "# * 'j' is the index of the weight $\\theta_j$, so $x_j$ is the feature associated with weight $\\theta_j$\n",
        " * To update the weight $\\theta_j$, we adjust it by subtracting a fraction of the gradient determined by $\\alpha$:\n",
        "# $$\\theta_j = \\theta_j - \\alpha \\times \\nabla_{\\theta_j}J(\\theta) $$\n",
        "# * The learning rate $\\alpha$ is a value that we choose to control how big a single update will be.\n",
        "\n",
        "\n"
      ]
    },
    {
      "cell_type": "markdown",
      "metadata": {
        "id": "kRvCK-Abq5Tm"
      },
      "source": [
        "![WhatsApp Image 2021-05-01 at 11.34.50 PM.jpeg](data:image/jpeg;base64,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)"
      ]
    },
    {
      "cell_type": "markdown",
      "metadata": {
        "id": "hdjgxwbVq_ig"
      },
      "source": [
        "##We aim to reduce cost by improving the theta using the following equation:\n",
        "\n",
        "#θj:=θj−α*∂J(θ)/θj\n",
        "\n",
        "Here, α is called the learning rate. \n",
        "\n",
        "The above process of making hypothesis (h) using the sigmoid function and changing the weights (θ) using the derivative of cost function and a specific learning rate is called the Gradient Descent Algorithm.\n",
        "Note: You initialize your parameter θ, that you can use in your sigmoid, you then compute the gradient that you will use to update θ, and then calculate the cost. You keep doing so until good enough."
      ]
    },
    {
      "cell_type": "code",
      "metadata": {
        "id": "jfzMoe4NKETc"
      },
      "source": [
        "def gradientDescent(x, y, theta, alpha, num_iters):\n",
        "    '''\n",
        "    Input:\n",
        "        x: matrix of features which is (m,n+1)\n",
        "        y: corresponding labels of the input matrix x, dimensions (m,1)\n",
        "        theta: weight vector of dimension (n+1,1)\n",
        "        alpha: learning rate\n",
        "        num_iters: number of iterations you want to train your model for\n",
        "    Output:\n",
        "        J: the final cost\n",
        "        theta: your final weight vector\n",
        "    Hint: you might want to print the cost to make sure that it is going down.\n",
        "    '''\n",
        "    \n",
        "    m = len(x)\n",
        "  \n",
        "    for i in range(0, num_iters):\n",
        "        \n",
        "        # get z, the dot product of x and theta\n",
        "        z = np.dot(x,theta)\n",
        "        \n",
        "        # get the sigmoid of z\n",
        "        h = sigmoid(z)\n",
        "        \n",
        "        # calculate the cost function\n",
        "        J = (-1/m)*(np.dot(y.T,np.log(h)) + np.dot((1-y).T,np.log(1-h)))\n",
        "        \n",
        "        # update the weights theta\n",
        "        theta = theta - (alpha/m)*np.dot(x.T, h-y)\n",
        "        \n",
        "    J = float(J)\n",
        "    return J, theta"
      ],
      "execution_count": null,
      "outputs": []
    },
    {
      "cell_type": "code",
      "metadata": {
        "colab": {
          "base_uri": "https://localhost:8080/"
        },
        "id": "O6SqyNiNKEP2",
        "outputId": "d7e16a8e-3c65-4d24-fa3a-4b3903be76ec"
      },
      "source": [
        "# Check the function\n",
        "# Construct a synthetic test case using numpy PRNG functions\n",
        "np.random.seed(1)\n",
        "# X input is 10 x 3 with ones for the bias terms\n",
        "tmp_X = np.append(np.ones((10, 1)), np.random.rand(10, 2) * 2000, axis=1)\n",
        "# Y Labels are 10 x 1\n",
        "tmp_Y = (np.random.rand(10, 1) > 0.35).astype(float)\n",
        "\n",
        "# Apply gradient descent\n",
        "tmp_J, tmp_theta = gradientDescent(tmp_X, tmp_Y, np.zeros((3, 1)), 1e-8, 700)\n",
        "print(f\"The cost after training is {tmp_J:.8f}.\")\n",
        "print(f\"The resulting vector of weights is {[round(t, 8) for t in np.squeeze(tmp_theta)]}\")"
      ],
      "execution_count": null,
      "outputs": [
        {
          "output_type": "stream",
          "text": [
            "The cost after training is 0.67094970.\n",
            "The resulting vector of weights is [4.1e-07, 0.00035658, 7.309e-05]\n"
          ],
          "name": "stdout"
        }
      ]
    },
    {
      "cell_type": "code",
      "metadata": {
        "colab": {
          "base_uri": "https://localhost:8080/"
        },
        "id": "73L6opu5KEMX",
        "outputId": "40319e59-6681-4e61-f195-2067a4649a5f"
      },
      "source": [
        "# training labels corresponding to X\n",
        "Y = train_y\n",
        "\n",
        "# Apply gradient descent\n",
        "J, theta = gradientDescent(X, Y, np.zeros((3, 1)), 1e-9, 1500)\n",
        "print(f\"The cost after training is {J:.8f}.\")\n",
        "print(f\"The resulting vector of weights is {[round(t, 8) for t in np.squeeze(theta)]}\")"
      ],
      "execution_count": null,
      "outputs": [
        {
          "output_type": "stream",
          "text": [
            "The cost after training is 0.69266405.\n",
            "The resulting vector of weights is [2.6e-07, 2.644e-05, 5.1e-06]\n"
          ],
          "name": "stdout"
        }
      ]
    },
    {
      "cell_type": "markdown",
      "metadata": {
        "id": "RGjg-T6DtIz7"
      },
      "source": [
        ""
      ]
    },
    {
      "cell_type": "markdown",
      "metadata": {
        "id": "Xvi3QBTKuTUg"
      },
      "source": [
        "#  `predict_tweet`\n",
        " Predict whether a tweet is positive or negative.\n",
        " \n",
        " * Given a tweet, process it, then extract the features.\n",
        " * Apply the model's learned weights on the features to get the logits.\n",
        " * Apply the sigmoid to the logits to get the prediction (a value between 0 and 1).\n",
        "\n",
        "# $$y_{pred} = sigmoid(\\mathbf{x} \\cdot \\theta)$$\n"
      ]
    },
    {
      "cell_type": "code",
      "metadata": {
        "id": "zvmsXA3YKEJA"
      },
      "source": [
        "def predict_tweet(tweet, freqs, theta):\n",
        "    '''\n",
        "    Input: \n",
        "        tweet: a string\n",
        "        freqs: a dictionary corresponding to the frequencies of each tuple (word, label)\n",
        "        theta: (3,1) vector of weights\n",
        "    Output: \n",
        "        y_pred: the probability of a tweet being positive or negative\n",
        "    '''\n",
        "    \n",
        "    # extract the features of the tweet and store it into x\n",
        "    x = extract_features(tweet, freqs)\n",
        "    \n",
        "    # make the prediction using x and theta\n",
        "    z = np.dot(x,theta)\n",
        "    y_pred = sigmoid(z)\n",
        "    \n",
        "    \n",
        "    return y_pred\n"
      ],
      "execution_count": null,
      "outputs": []
    },
    {
      "cell_type": "code",
      "metadata": {
        "colab": {
          "base_uri": "https://localhost:8080/"
        },
        "id": "fa-UY0oEKEGA",
        "outputId": "3f5c765b-0ffb-4376-a0b7-b6394531f834"
      },
      "source": [
        "for tweet in [test_x[20], test_x[12], test_x[5], ]:\n",
        "    print( '%s -> %f' % (tweet, predict_tweet(tweet, freqs, theta)))"
      ],
      "execution_count": null,
      "outputs": [
        {
          "output_type": "stream",
          "text": [
            "RBI ready to launch its own digital currency, awful for the market -> 0.500066\n",
            "The decision to own #bitcoin is binary, but the worth is high:)) -> 0.500493\n",
            "A recent great sharp increase in the producer price index. -> 0.500245\n"
          ],
          "name": "stdout"
        }
      ]
    },
    {
      "cell_type": "markdown",
      "metadata": {
        "id": "frCs2-UbvUxW"
      },
      "source": [
        "## Check performance using the test set\n",
        " After training your model using the training set above, check how your model might perform on real, unseen data, by testing it against the test set.\n",
        " \n",
        "## Implement `test_logistic_regression` \n",
        " * Given the test data and the weights of your trained model, calculate the accuracy of your logistic regression model. \n",
        " * Use your `predict_tweet()` function to make predictions on each tweet in the test set.\n",
        " * If the prediction is > 0.5, set the model's classification `y_hat` to 1, otherwise set the model's classification `y_hat` to 0.\n",
        " * A prediction is accurate when `y_hat` equals `test_y`.  Sum up all the instances when they are equal and divide by `m`.\n",
        " \n",
        " \n",
        " <ul>\n",
        "     <li>Use np.asarray() to convert a list to a numpy array</li>\n",
        "     <li>Use np.squeeze() to make an (m,1) dimensional array into an (m,) array </li>\n",
        " </ul>\n",
        " </p>"
      ]
    },
    {
      "cell_type": "code",
      "metadata": {
        "id": "Bw4K4f_fKECJ"
      },
      "source": [
        "def test_logistic_regression(test_x, test_y, freqs, theta):\n",
        "    y_hat = []\n",
        "    for tweet in test_x:\n",
        "        # get the label prediction for the tweet\n",
        "        y_pred = predict_tweet(tweet, freqs, theta)\n",
        "        \n",
        "        if y_pred > 0.5:\n",
        "            # append 1.0 to the list\n",
        "            y_hat.append(1)\n",
        "        else:\n",
        "            # append 0 to the list\n",
        "            y_hat.append(0)\n",
        "    m=len(y_hat)\n",
        "    y_hat=np.array(y_hat)\n",
        "    y_hat=y_hat.reshape(m)\n",
        "    test_y=test_y.reshape(m)\n",
        "    \n",
        "    c=y_hat==test_y\n",
        "    j=0\n",
        "    for i in c:\n",
        "        if i==True:\n",
        "            j=j+1\n",
        "    accuracy = j/m\n",
        "    return accuracy"
      ],
      "execution_count": null,
      "outputs": []
    },
    {
      "cell_type": "code",
      "metadata": {
        "colab": {
          "base_uri": "https://localhost:8080/"
        },
        "id": "piarkKVeKD-Q",
        "outputId": "1e02df52-69a4-4ab2-e00f-7df1fdec1869"
      },
      "source": [
        "tmp_accuracy = test_logistic_regression(test_x, test_y, freqs, theta)\n",
        "print(f\"Logistic regression model's accuracy = {tmp_accuracy:.4f}\")"
      ],
      "execution_count": null,
      "outputs": [
        {
          "output_type": "stream",
          "text": [
            "Logistic regression model's accuracy = 0.6522\n"
          ],
          "name": "stdout"
        }
      ]
    },
    {
      "cell_type": "code",
      "metadata": {
        "id": "kg_kGCXaLP1V",
        "colab": {
          "base_uri": "https://localhost:8080/"
        },
        "outputId": "1f5e736d-16a0-45f3-e650-84e3370cbf4e"
      },
      "source": [
        "# Feel free to change the tweet below\n",
        "my_tweet = test_x[20]\n",
        "print(my_tweet)\n",
        "print(text_process(my_tweet))\n",
        "y_hat = predict_tweet(my_tweet, freqs, theta)\n",
        "\n",
        "if y_hat > 0.500100:\n",
        "    print('Positive sentiment')\n",
        "else: \n",
        "    print('Negative sentiment')"
      ],
      "execution_count": null,
      "outputs": [
        {
          "output_type": "stream",
          "text": [
            "RBI ready to launch its own digital currency, awful for the market\n",
            "['rbi', 'ready', 'launch', 'digital', 'currency', 'awful', 'market']\n",
            "Negative sentiment\n"
          ],
          "name": "stdout"
        }
      ]
    },
    {
      "cell_type": "code",
      "metadata": {
        "id": "hnXGedYZ72DU"
      },
      "source": [
        ""
      ],
      "execution_count": null,
      "outputs": []
    }
  ]
}