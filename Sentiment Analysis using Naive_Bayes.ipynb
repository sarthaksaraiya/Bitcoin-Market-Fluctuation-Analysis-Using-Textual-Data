{
  "nbformat": 4,
  "nbformat_minor": 0,
  "metadata": {
    "colab": {
      "name": "Final_Naive_Bayes_Implementation (2).ipynb",
      "provenance": []
    },
    "kernelspec": {
      "name": "python3",
      "display_name": "Python 3"
    },
    "language_info": {
      "name": "python"
    }
  },
  "cells": [
    {
      "cell_type": "code",
      "metadata": {
        "id": "bTHXZWlfhKWz"
      },
      "source": [
        "import pandas as pd\n",
        "import string\n",
        "import re"
      ],
      "execution_count": 1,
      "outputs": []
    },
    {
      "cell_type": "code",
      "metadata": {
        "colab": {
          "resources": {
            "http://localhost:8080/nbextensions/google.colab/files.js": {
              "data": "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",
              "ok": true,
              "headers": [
                [
                  "content-type",
                  "application/javascript"
                ]
              ],
              "status": 200,
              "status_text": ""
            }
          },
          "base_uri": "https://localhost:8080/",
          "height": 90
        },
        "id": "wPbsQDMEhKUH",
        "outputId": "9e05ccaa-945d-4b67-9bb1-136d3e185b6f"
      },
      "source": [
        "from google.colab import files\n",
        "uploaded = files.upload()"
      ],
      "execution_count": 2,
      "outputs": [
        {
          "output_type": "display_data",
          "data": {
            "text/html": [
              "\n",
              "     <input type=\"file\" id=\"files-b5391b00-4c4f-44d7-b3cf-3afb02a10af0\" name=\"files[]\" multiple disabled\n",
              "        style=\"border:none\" />\n",
              "     <output id=\"result-b5391b00-4c4f-44d7-b3cf-3afb02a10af0\">\n",
              "      Upload widget is only available when the cell has been executed in the\n",
              "      current browser session. Please rerun this cell to enable.\n",
              "      </output>\n",
              "      <script src=\"/nbextensions/google.colab/files.js\"></script> "
            ],
            "text/plain": [
              "<IPython.core.display.HTML object>"
            ]
          },
          "metadata": {
            "tags": []
          }
        },
        {
          "output_type": "stream",
          "text": [
            "Saving UpdatedMinor.xlsx to UpdatedMinor.xlsx\n"
          ],
          "name": "stdout"
        }
      ]
    },
    {
      "cell_type": "code",
      "metadata": {
        "colab": {
          "base_uri": "https://localhost:8080/",
          "height": 402
        },
        "id": "znqhI7l4hKQ8",
        "outputId": "ae26d055-f063-450f-e41a-9563357cf049"
      },
      "source": [
        "import pandas as pd\n",
        "df = pd.read_excel(\"UpdatedMinor.xlsx\")\n",
        "df"
      ],
      "execution_count": 3,
      "outputs": [
        {
          "output_type": "execute_result",
          "data": {
            "text/html": [
              "<div>\n",
              "<style scoped>\n",
              "    .dataframe tbody tr th:only-of-type {\n",
              "        vertical-align: middle;\n",
              "    }\n",
              "\n",
              "    .dataframe tbody tr th {\n",
              "        vertical-align: top;\n",
              "    }\n",
              "\n",
              "    .dataframe thead th {\n",
              "        text-align: right;\n",
              "    }\n",
              "</style>\n",
              "<table border=\"1\" class=\"dataframe\">\n",
              "  <thead>\n",
              "    <tr style=\"text-align: right;\">\n",
              "      <th></th>\n",
              "      <th>Timestamp</th>\n",
              "      <th>Label</th>\n",
              "      <th>TWEET</th>\n",
              "    </tr>\n",
              "  </thead>\n",
              "  <tbody>\n",
              "    <tr>\n",
              "      <th>0</th>\n",
              "      <td>2021-04-23 00:51:34.298000</td>\n",
              "      <td>1</td>\n",
              "      <td>The prizes will surely go up. Halving rocks!!!...</td>\n",
              "    </tr>\n",
              "    <tr>\n",
              "      <th>1</th>\n",
              "      <td>2021-04-23 00:53:51.922000</td>\n",
              "      <td>1</td>\n",
              "      <td>#Bitcoin price increase after each halving! Ha...</td>\n",
              "    </tr>\n",
              "    <tr>\n",
              "      <th>2</th>\n",
              "      <td>2021-04-23 00:54:21.060000</td>\n",
              "      <td>1</td>\n",
              "      <td>the value used to trade in the Bitcoin ecosyst...</td>\n",
              "    </tr>\n",
              "    <tr>\n",
              "      <th>3</th>\n",
              "      <td>2021-04-23 00:54:23.527000</td>\n",
              "      <td>1</td>\n",
              "      <td>Bitcoin is designed to become more expensive -...</td>\n",
              "    </tr>\n",
              "    <tr>\n",
              "      <th>4</th>\n",
              "      <td>2021-04-23 00:57:44.899000</td>\n",
              "      <td>1</td>\n",
              "      <td>Bitcoin is in the stealth phase of its bull ru...</td>\n",
              "    </tr>\n",
              "    <tr>\n",
              "      <th>...</th>\n",
              "      <td>...</td>\n",
              "      <td>...</td>\n",
              "      <td>...</td>\n",
              "    </tr>\n",
              "    <tr>\n",
              "      <th>100</th>\n",
              "      <td>2021/04/25 1:32:51 PM GMT+5:30</td>\n",
              "      <td>1</td>\n",
              "      <td>$60,000.price rising , great news for bitcoin ...</td>\n",
              "    </tr>\n",
              "    <tr>\n",
              "      <th>101</th>\n",
              "      <td>2021/04/25 1:33:37 PM GMT+5:30</td>\n",
              "      <td>1</td>\n",
              "      <td>About $10B of #Bitcoin withdrawn from exchange...</td>\n",
              "    </tr>\n",
              "    <tr>\n",
              "      <th>102</th>\n",
              "      <td>2021/04/25 1:36:36 PM GMT+5:30</td>\n",
              "      <td>1</td>\n",
              "      <td>The decision to own #bitcoin is binary, but th...</td>\n",
              "    </tr>\n",
              "    <tr>\n",
              "      <th>103</th>\n",
              "      <td>2021/04/25 1:37:34 PM GMT+5:30</td>\n",
              "      <td>1</td>\n",
              "      <td>The Nation State Case for #Bitcoin with \\n@bal...</td>\n",
              "    </tr>\n",
              "    <tr>\n",
              "      <th>104</th>\n",
              "      <td>2021/04/25 1:38:23 PM GMT+5:30</td>\n",
              "      <td>1</td>\n",
              "      <td>gold is to #bitcoin like the horse and buggy i...</td>\n",
              "    </tr>\n",
              "  </tbody>\n",
              "</table>\n",
              "<p>105 rows × 3 columns</p>\n",
              "</div>"
            ],
            "text/plain": [
              "                          Timestamp  ...                                              TWEET\n",
              "0        2021-04-23 00:51:34.298000  ...  The prizes will surely go up. Halving rocks!!!...\n",
              "1        2021-04-23 00:53:51.922000  ...  #Bitcoin price increase after each halving! Ha...\n",
              "2        2021-04-23 00:54:21.060000  ...  the value used to trade in the Bitcoin ecosyst...\n",
              "3        2021-04-23 00:54:23.527000  ...  Bitcoin is designed to become more expensive -...\n",
              "4        2021-04-23 00:57:44.899000  ...  Bitcoin is in the stealth phase of its bull ru...\n",
              "..                              ...  ...                                                ...\n",
              "100  2021/04/25 1:32:51 PM GMT+5:30  ...  $60,000.price rising , great news for bitcoin ...\n",
              "101  2021/04/25 1:33:37 PM GMT+5:30  ...  About $10B of #Bitcoin withdrawn from exchange...\n",
              "102  2021/04/25 1:36:36 PM GMT+5:30  ...  The decision to own #bitcoin is binary, but th...\n",
              "103  2021/04/25 1:37:34 PM GMT+5:30  ...  The Nation State Case for #Bitcoin with \\n@bal...\n",
              "104  2021/04/25 1:38:23 PM GMT+5:30  ...  gold is to #bitcoin like the horse and buggy i...\n",
              "\n",
              "[105 rows x 3 columns]"
            ]
          },
          "metadata": {
            "tags": []
          },
          "execution_count": 3
        }
      ]
    },
    {
      "cell_type": "code",
      "metadata": {
        "colab": {
          "resources": {
            "http://localhost:8080/nbextensions/google.colab/files.js": {
              "data": "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",
              "ok": true,
              "headers": [
                [
                  "content-type",
                  "application/javascript"
                ]
              ],
              "status": 200,
              "status_text": ""
            }
          },
          "base_uri": "https://localhost:8080/",
          "height": 90
        },
        "id": "xzSE6WB3hKN3",
        "outputId": "4d3b6ed8-4606-4436-e3a3-9666be0296ce"
      },
      "source": [
        "from google.colab import files\n",
        "uploaded = files.upload()"
      ],
      "execution_count": 6,
      "outputs": [
        {
          "output_type": "display_data",
          "data": {
            "text/html": [
              "\n",
              "     <input type=\"file\" id=\"files-499e1594-1914-430f-a21e-511d63d04e72\" name=\"files[]\" multiple disabled\n",
              "        style=\"border:none\" />\n",
              "     <output id=\"result-499e1594-1914-430f-a21e-511d63d04e72\">\n",
              "      Upload widget is only available when the cell has been executed in the\n",
              "      current browser session. Please rerun this cell to enable.\n",
              "      </output>\n",
              "      <script src=\"/nbextensions/google.colab/files.js\"></script> "
            ],
            "text/plain": [
              "<IPython.core.display.HTML object>"
            ]
          },
          "metadata": {
            "tags": []
          }
        },
        {
          "output_type": "stream",
          "text": [
            "Saving VerbForms.xlsx to VerbForms.xlsx\n"
          ],
          "name": "stdout"
        }
      ]
    },
    {
      "cell_type": "code",
      "metadata": {
        "colab": {
          "base_uri": "https://localhost:8080/",
          "height": 438
        },
        "id": "3_p7zOHchJ9u",
        "outputId": "4595dd7c-3988-4bf1-e5e4-417341dfd549"
      },
      "source": [
        "df1=pd.read_excel('VerbForms.xlsx')\n",
        "df1"
      ],
      "execution_count": 7,
      "outputs": [
        {
          "output_type": "execute_result",
          "data": {
            "text/html": [
              "<div>\n",
              "<style scoped>\n",
              "    .dataframe tbody tr th:only-of-type {\n",
              "        vertical-align: middle;\n",
              "    }\n",
              "\n",
              "    .dataframe tbody tr th {\n",
              "        vertical-align: top;\n",
              "    }\n",
              "\n",
              "    .dataframe thead th {\n",
              "        text-align: right;\n",
              "    }\n",
              "</style>\n",
              "<table border=\"1\" class=\"dataframe\">\n",
              "  <thead>\n",
              "    <tr style=\"text-align: right;\">\n",
              "      <th></th>\n",
              "      <th>abash</th>\n",
              "      <th>abashed</th>\n",
              "      <th>abashes</th>\n",
              "      <th>abashing</th>\n",
              "      <th>Unnamed: 4</th>\n",
              "      <th>Unnamed: 5</th>\n",
              "      <th>Unnamed: 6</th>\n",
              "      <th>Unnamed: 7</th>\n",
              "    </tr>\n",
              "  </thead>\n",
              "  <tbody>\n",
              "    <tr>\n",
              "      <th>0</th>\n",
              "      <td>abate</td>\n",
              "      <td>abated</td>\n",
              "      <td>abates</td>\n",
              "      <td>abating</td>\n",
              "      <td>NaN</td>\n",
              "      <td>NaN</td>\n",
              "      <td>NaN</td>\n",
              "      <td>NaN</td>\n",
              "    </tr>\n",
              "    <tr>\n",
              "      <th>1</th>\n",
              "      <td>abide</td>\n",
              "      <td>abode</td>\n",
              "      <td>abides</td>\n",
              "      <td>abiding</td>\n",
              "      <td>NaN</td>\n",
              "      <td>NaN</td>\n",
              "      <td>NaN</td>\n",
              "      <td>NaN</td>\n",
              "    </tr>\n",
              "    <tr>\n",
              "      <th>2</th>\n",
              "      <td>absorb</td>\n",
              "      <td>absorbed</td>\n",
              "      <td>absorbs</td>\n",
              "      <td>absorbing</td>\n",
              "      <td>NaN</td>\n",
              "      <td>NaN</td>\n",
              "      <td>NaN</td>\n",
              "      <td>NaN</td>\n",
              "    </tr>\n",
              "    <tr>\n",
              "      <th>3</th>\n",
              "      <td>accept</td>\n",
              "      <td>accepted</td>\n",
              "      <td>accepts</td>\n",
              "      <td>accepting</td>\n",
              "      <td>NaN</td>\n",
              "      <td>NaN</td>\n",
              "      <td>NaN</td>\n",
              "      <td>NaN</td>\n",
              "    </tr>\n",
              "    <tr>\n",
              "      <th>4</th>\n",
              "      <td>accompany</td>\n",
              "      <td>accompanied</td>\n",
              "      <td>accompanies</td>\n",
              "      <td>accompanying</td>\n",
              "      <td>NaN</td>\n",
              "      <td>NaN</td>\n",
              "      <td>NaN</td>\n",
              "      <td>NaN</td>\n",
              "    </tr>\n",
              "    <tr>\n",
              "      <th>...</th>\n",
              "      <td>...</td>\n",
              "      <td>...</td>\n",
              "      <td>...</td>\n",
              "      <td>...</td>\n",
              "      <td>...</td>\n",
              "      <td>...</td>\n",
              "      <td>...</td>\n",
              "      <td>...</td>\n",
              "    </tr>\n",
              "    <tr>\n",
              "      <th>995</th>\n",
              "      <td>yield</td>\n",
              "      <td>yielded</td>\n",
              "      <td>yields</td>\n",
              "      <td>yielding</td>\n",
              "      <td>NaN</td>\n",
              "      <td>NaN</td>\n",
              "      <td>NaN</td>\n",
              "      <td>NaN</td>\n",
              "    </tr>\n",
              "    <tr>\n",
              "      <th>996</th>\n",
              "      <td>zinc</td>\n",
              "      <td>zincked</td>\n",
              "      <td>zincs</td>\n",
              "      <td>zincking</td>\n",
              "      <td>NaN</td>\n",
              "      <td>NaN</td>\n",
              "      <td>NaN</td>\n",
              "      <td>NaN</td>\n",
              "    </tr>\n",
              "    <tr>\n",
              "      <th>997</th>\n",
              "      <td>zoom</td>\n",
              "      <td>zoomed</td>\n",
              "      <td>zooms</td>\n",
              "      <td>zooming</td>\n",
              "      <td>NaN</td>\n",
              "      <td>NaN</td>\n",
              "      <td>NaN</td>\n",
              "      <td>NaN</td>\n",
              "    </tr>\n",
              "    <tr>\n",
              "      <th>998</th>\n",
              "      <td>halve</td>\n",
              "      <td>halved</td>\n",
              "      <td>halves</td>\n",
              "      <td>halving</td>\n",
              "      <td>NaN</td>\n",
              "      <td>NaN</td>\n",
              "      <td>NaN</td>\n",
              "      <td>NaN</td>\n",
              "    </tr>\n",
              "    <tr>\n",
              "      <th>999</th>\n",
              "      <td>mine</td>\n",
              "      <td>mined</td>\n",
              "      <td>mines</td>\n",
              "      <td>mining</td>\n",
              "      <td>NaN</td>\n",
              "      <td>NaN</td>\n",
              "      <td>NaN</td>\n",
              "      <td>NaN</td>\n",
              "    </tr>\n",
              "  </tbody>\n",
              "</table>\n",
              "<p>1000 rows × 8 columns</p>\n",
              "</div>"
            ],
            "text/plain": [
              "         abash      abashed      abashes  ... Unnamed: 5 Unnamed: 6 Unnamed: 7\n",
              "0        abate       abated       abates  ...        NaN        NaN        NaN\n",
              "1        abide        abode       abides  ...        NaN        NaN        NaN\n",
              "2       absorb     absorbed      absorbs  ...        NaN        NaN        NaN\n",
              "3       accept     accepted      accepts  ...        NaN        NaN        NaN\n",
              "4    accompany  accompanied  accompanies  ...        NaN        NaN        NaN\n",
              "..         ...          ...          ...  ...        ...        ...        ...\n",
              "995      yield      yielded       yields  ...        NaN        NaN        NaN\n",
              "996       zinc      zincked        zincs  ...        NaN        NaN        NaN\n",
              "997       zoom       zoomed        zooms  ...        NaN        NaN        NaN\n",
              "998      halve       halved       halves  ...        NaN        NaN        NaN\n",
              "999       mine        mined        mines  ...        NaN        NaN        NaN\n",
              "\n",
              "[1000 rows x 8 columns]"
            ]
          },
          "metadata": {
            "tags": []
          },
          "execution_count": 7
        }
      ]
    },
    {
      "cell_type": "code",
      "metadata": {
        "colab": {
          "base_uri": "https://localhost:8080/",
          "height": 431
        },
        "id": "_ZWruJNGz3fM",
        "outputId": "97e0904d-0b1a-4aff-db01-6634bb17561b"
      },
      "source": [
        "df1.drop(['Unnamed: 4', 'Unnamed: 5','Unnamed: 6','Unnamed: 7'], axis = 1,inplace=True) \n",
        "df1.rename(columns = {'abash':'v0',  \n",
        "                       'abashed':'v1','abashing':'v3','abashes':'v2'},  \n",
        "            inplace = True) \n",
        "df1['v00']=df1['v0']\n",
        "df1.set_index('v00',inplace=True)\n",
        "df1"
      ],
      "execution_count": 8,
      "outputs": [
        {
          "output_type": "execute_result",
          "data": {
            "text/html": [
              "<div>\n",
              "<style scoped>\n",
              "    .dataframe tbody tr th:only-of-type {\n",
              "        vertical-align: middle;\n",
              "    }\n",
              "\n",
              "    .dataframe tbody tr th {\n",
              "        vertical-align: top;\n",
              "    }\n",
              "\n",
              "    .dataframe thead th {\n",
              "        text-align: right;\n",
              "    }\n",
              "</style>\n",
              "<table border=\"1\" class=\"dataframe\">\n",
              "  <thead>\n",
              "    <tr style=\"text-align: right;\">\n",
              "      <th></th>\n",
              "      <th>v0</th>\n",
              "      <th>v1</th>\n",
              "      <th>v2</th>\n",
              "      <th>v3</th>\n",
              "    </tr>\n",
              "    <tr>\n",
              "      <th>v00</th>\n",
              "      <th></th>\n",
              "      <th></th>\n",
              "      <th></th>\n",
              "      <th></th>\n",
              "    </tr>\n",
              "  </thead>\n",
              "  <tbody>\n",
              "    <tr>\n",
              "      <th>abate</th>\n",
              "      <td>abate</td>\n",
              "      <td>abated</td>\n",
              "      <td>abates</td>\n",
              "      <td>abating</td>\n",
              "    </tr>\n",
              "    <tr>\n",
              "      <th>abide</th>\n",
              "      <td>abide</td>\n",
              "      <td>abode</td>\n",
              "      <td>abides</td>\n",
              "      <td>abiding</td>\n",
              "    </tr>\n",
              "    <tr>\n",
              "      <th>absorb</th>\n",
              "      <td>absorb</td>\n",
              "      <td>absorbed</td>\n",
              "      <td>absorbs</td>\n",
              "      <td>absorbing</td>\n",
              "    </tr>\n",
              "    <tr>\n",
              "      <th>accept</th>\n",
              "      <td>accept</td>\n",
              "      <td>accepted</td>\n",
              "      <td>accepts</td>\n",
              "      <td>accepting</td>\n",
              "    </tr>\n",
              "    <tr>\n",
              "      <th>accompany</th>\n",
              "      <td>accompany</td>\n",
              "      <td>accompanied</td>\n",
              "      <td>accompanies</td>\n",
              "      <td>accompanying</td>\n",
              "    </tr>\n",
              "    <tr>\n",
              "      <th>...</th>\n",
              "      <td>...</td>\n",
              "      <td>...</td>\n",
              "      <td>...</td>\n",
              "      <td>...</td>\n",
              "    </tr>\n",
              "    <tr>\n",
              "      <th>yield</th>\n",
              "      <td>yield</td>\n",
              "      <td>yielded</td>\n",
              "      <td>yields</td>\n",
              "      <td>yielding</td>\n",
              "    </tr>\n",
              "    <tr>\n",
              "      <th>zinc</th>\n",
              "      <td>zinc</td>\n",
              "      <td>zincked</td>\n",
              "      <td>zincs</td>\n",
              "      <td>zincking</td>\n",
              "    </tr>\n",
              "    <tr>\n",
              "      <th>zoom</th>\n",
              "      <td>zoom</td>\n",
              "      <td>zoomed</td>\n",
              "      <td>zooms</td>\n",
              "      <td>zooming</td>\n",
              "    </tr>\n",
              "    <tr>\n",
              "      <th>halve</th>\n",
              "      <td>halve</td>\n",
              "      <td>halved</td>\n",
              "      <td>halves</td>\n",
              "      <td>halving</td>\n",
              "    </tr>\n",
              "    <tr>\n",
              "      <th>mine</th>\n",
              "      <td>mine</td>\n",
              "      <td>mined</td>\n",
              "      <td>mines</td>\n",
              "      <td>mining</td>\n",
              "    </tr>\n",
              "  </tbody>\n",
              "</table>\n",
              "<p>1000 rows × 4 columns</p>\n",
              "</div>"
            ],
            "text/plain": [
              "                  v0           v1           v2            v3\n",
              "v00                                                         \n",
              "abate          abate       abated       abates       abating\n",
              "abide          abide        abode       abides       abiding\n",
              "absorb        absorb     absorbed      absorbs     absorbing\n",
              "accept        accept     accepted      accepts     accepting\n",
              "accompany  accompany  accompanied  accompanies  accompanying\n",
              "...              ...          ...          ...           ...\n",
              "yield          yield      yielded       yields      yielding\n",
              "zinc            zinc      zincked        zincs      zincking\n",
              "zoom            zoom       zoomed        zooms       zooming\n",
              "halve          halve       halved       halves       halving\n",
              "mine            mine        mined        mines        mining\n",
              "\n",
              "[1000 rows x 4 columns]"
            ]
          },
          "metadata": {
            "tags": []
          },
          "execution_count": 8
        }
      ]
    },
    {
      "cell_type": "code",
      "metadata": {
        "colab": {
          "base_uri": "https://localhost:8080/",
          "height": 35
        },
        "id": "8cSBqC1Sz3bn",
        "outputId": "1e906965-b542-4f9f-c721-9b7213d50bbd"
      },
      "source": [
        "def lem(i):\n",
        "        if((df1['v1']==i).any()):\n",
        "            #print(i)\n",
        "            a1=df1[df1['v1']==i].index.values.tolist()\n",
        "            i=i.replace(i,a1[0])\n",
        "            #print (i)\n",
        "        if((df1['v2']==i).any()):\n",
        "            #print(i)\n",
        "            a2=df1[df1['v2']==i].index.values.tolist()\n",
        "            i=i.replace(i,a2[0])\n",
        "            #print (i)\n",
        "        if((df1['v3']==i).any()):\n",
        "            #print(i)\n",
        "            a3=df1[df1['v3']==i].index.values.tolist()\n",
        "            i=i.replace(i,a3[0])\n",
        "            #print (i)\n",
        "        return(i)      \n",
        "lem('halving')"
      ],
      "execution_count": 9,
      "outputs": [
        {
          "output_type": "execute_result",
          "data": {
            "application/vnd.google.colaboratory.intrinsic+json": {
              "type": "string"
            },
            "text/plain": [
              "'halve'"
            ]
          },
          "metadata": {
            "tags": []
          },
          "execution_count": 9
        }
      ]
    },
    {
      "cell_type": "code",
      "metadata": {
        "id": "BcSCkssFPEI7"
      },
      "source": [
        "\n",
        "import re\n",
        "import string\n",
        "import nltk\n",
        "import numpy as np\n",
        "\n",
        "#Preprocessing tweets\n",
        "def process_tweet(tweet):\n",
        "    #Remove old style retweet text \"RT\"\n",
        "    tweet2 = re.sub(r'^RT[\\s]','', tweet)\n",
        "    #remove number\n",
        "    tweet2 = re.sub(r'\\d+', \"number\",tweet2)\n",
        "    #remove usermentions\n",
        "    tweet2 = re.sub(\"(@[A-Za-z0-9_]+)\", \"USERMENTION\", tweet2)\n",
        "    #url and emoji removal\n",
        "    text = re.sub('([^0-9A-Za-z \\t])|(\\w+:\\/\\/\\S+)', ' ', tweet2)\n",
        "    #Remove hyperlinks\n",
        "    tweet2 = re.sub(r'https?:\\/\\/.*[\\r\\n]*','', tweet2)\n",
        "    #conversion to lowercase\n",
        "    tweet2 = tweet2.lower()\n",
        "    #puntuation removal\n",
        "    tweet2= tweet2.translate(str.maketrans('', '', string.punctuation))\n",
        "\n",
        "    \n",
        "    #Remove hastags\n",
        "    #Only removing the hash # sign from the word\n",
        "    tweet2 = re.sub(r'#','',tweet2)\n",
        "        \n",
        "    # instantiate tokenizer class\n",
        "    #tokenizer = TweetTokenizer(preserve_case=False, strip_handles=True, reduce_len=True)\n",
        "    \n",
        "    # tokenize tweets\n",
        "    #tweet_tokens = tokenizer.tokenize(tweet2)    \n",
        "    tweet_tokens =tweet2.split()\n",
        "        \n",
        "    #Import the english stop words list from NLTK\n",
        "    #stopwords_english = stopwords.words('english')\n",
        "    stop_words =['i', 'me', 'my', 'myself', 'we', 'our', 'ours', 'ourselves', 'you', \"you're\", \"you've\", \"you'll\", \"you'd\", 'your', 'yours', 'yourself', 'yourselves', 'he', 'him', 'his', 'himself', 'she', \"she's\", 'her', 'hers', 'herself', 'it', \"it's\", 'its', 'itself', 'they', 'them', 'their', 'theirs', 'themselves', 'what', 'which', 'who', 'whom', 'this', 'that', \"that'll\", 'these', 'those', 'am', 'is', 'are', 'was', 'were', 'be', 'been', 'being', 'have', 'has', 'had', 'having', 'do', 'does', 'did', 'doing', 'a', 'an', 'the', 'and', 'but', 'if', 'or', 'because', 'as', 'until', 'while', 'of', 'at', 'by', 'for', 'with', 'about', 'against', 'between', 'into', 'through', 'during', 'before', 'after', 'above', 'below', 'to', 'from', 'in', 'out', 'on', 'over', 'under', 'again', 'further', 'then', 'once', 'here', 'there', 'when', 'where', 'why', 'how', 'all', 'any', 'both', 'each', 'few', 'other', 'some', 'such', 'no', 'nor', 'not', 'only', 'own', 'same', 'so', 'than', 'too', 'very', 's', 't', 'can', 'will', 'just', 'don', \"don't\", 'should', \"should've\", 'now', 'd', 'll', 'm', 'o', 're', 've', 'y', 'ain', 'aren', \"aren't\", 'couldn', \"couldn't\", 'didn', \"didn't\", 'doesn', \"doesn't\", 'hadn', \"hadn't\", 'hasn', \"hasn't\", 'haven', \"haven't\", 'isn', \"isn't\", 'ma', 'mightn', \"mightn't\", 'mustn', \"mustn't\", 'needn', \"needn't\", 'shan', \"shan't\", 'shouldn', \"shouldn't\", 'wasn', \"wasn't\", 'weren', \"weren't\", 'won', \"won't\", 'wouldn', \"wouldn't\"]\n",
        "    text_list = []\n",
        "    for token in tweet_tokens:\n",
        "      token=re.sub(r'\\d+', \"number\", token)#basic emoji like -_- or >_< removal\n",
        "      if len(token) > 3 and '_' in token:\n",
        "        token = token.replace('_', ' ')\n",
        "\n",
        "      if token[0] == '<' and token[-1] == '>':\n",
        "        token = token[1:-1]\n",
        "      text_list.append(token)\n",
        "    final_words = []\n",
        "    for word in text_list:#stop word removal\n",
        "      word=lem(word)\n",
        "      if word not in stop_words:\n",
        "        final_words.append(word)\n",
        "    return (final_words)    \n",
        "    #final_words = ' '.join(final_words)\n",
        "    #corpus.append(final_words)  \n",
        "\n",
        "'''\n",
        "    #Creating a list of words without stopwords\n",
        "    tweets_clean = []\n",
        "    for word in tweet_tokens:\n",
        "        if word not in stopwords_english and word not in string.punctuation:\n",
        "            tweets_clean.append(word)\n",
        "        \n",
        "    #Instantiate stemming class\n",
        "    stemmer = PorterStemmer()\n",
        "    \n",
        "    #Creating a list of stems of words in tweet\n",
        "    tweets_stem = []\n",
        "    for word in tweets_clean:\n",
        "        stem_word = stemmer.stem(word)\n",
        "        tweets_stem.append(stem_word)\n",
        "        \n",
        "    return tweets_stem\n",
        "'''\n",
        "#Frequency generating function\n",
        "def build_freqs(tweets, ys):\n",
        "    yslist = np.squeeze(ys).tolist()\n",
        "    \n",
        "    freqs = {}\n",
        "    for y, tweet in zip(yslist, tweets):\n",
        "        for word in process_tweet(tweet):\n",
        "            pair = (word, y)\n",
        "            freqs[pair] = freqs.get(pair, 0) + 1\n",
        "            \n",
        "    return freqs\n"
      ],
      "execution_count": 55,
      "outputs": []
    },
    {
      "cell_type": "code",
      "metadata": {
        "colab": {
          "base_uri": "https://localhost:8080/"
        },
        "id": "1XUaA6HcwxOV",
        "outputId": "c2bad752-e2a8-416d-a760-c555f6bbc5bd"
      },
      "source": [
        "process_tweet('Hi! I am mad')"
      ],
      "execution_count": 11,
      "outputs": [
        {
          "output_type": "stream",
          "text": [
            "['hi', 'i', 'am', 'mad']\n"
          ],
          "name": "stdout"
        },
        {
          "output_type": "execute_result",
          "data": {
            "text/plain": [
              "['hi', 'mad']"
            ]
          },
          "metadata": {
            "tags": []
          },
          "execution_count": 11
        }
      ]
    },
    {
      "cell_type": "code",
      "metadata": {
        "id": "LGfvTb00PQhY"
      },
      "source": [
        "\n",
        "import pdb\n",
        "\n",
        "import numpy as np\n",
        "import pandas as pd\n",
        "\n",
        "import string\n",
        "\n",
        "\n"
      ],
      "execution_count": 12,
      "outputs": []
    },
    {
      "cell_type": "code",
      "metadata": {
        "colab": {
          "base_uri": "https://localhost:8080/",
          "height": 402
        },
        "id": "af-fDrTdR1WE",
        "outputId": "667afce2-8f43-4356-a65c-aed74ec376ac"
      },
      "source": [
        "\n",
        "\n",
        "df"
      ],
      "execution_count": 13,
      "outputs": [
        {
          "output_type": "execute_result",
          "data": {
            "text/html": [
              "<div>\n",
              "<style scoped>\n",
              "    .dataframe tbody tr th:only-of-type {\n",
              "        vertical-align: middle;\n",
              "    }\n",
              "\n",
              "    .dataframe tbody tr th {\n",
              "        vertical-align: top;\n",
              "    }\n",
              "\n",
              "    .dataframe thead th {\n",
              "        text-align: right;\n",
              "    }\n",
              "</style>\n",
              "<table border=\"1\" class=\"dataframe\">\n",
              "  <thead>\n",
              "    <tr style=\"text-align: right;\">\n",
              "      <th></th>\n",
              "      <th>Timestamp</th>\n",
              "      <th>Label</th>\n",
              "      <th>TWEET</th>\n",
              "    </tr>\n",
              "  </thead>\n",
              "  <tbody>\n",
              "    <tr>\n",
              "      <th>0</th>\n",
              "      <td>2021-04-23 00:51:34.298000</td>\n",
              "      <td>1</td>\n",
              "      <td>The prizes will surely go up. Halving rocks!!!...</td>\n",
              "    </tr>\n",
              "    <tr>\n",
              "      <th>1</th>\n",
              "      <td>2021-04-23 00:53:51.922000</td>\n",
              "      <td>1</td>\n",
              "      <td>#Bitcoin price increase after each halving! Ha...</td>\n",
              "    </tr>\n",
              "    <tr>\n",
              "      <th>2</th>\n",
              "      <td>2021-04-23 00:54:21.060000</td>\n",
              "      <td>1</td>\n",
              "      <td>the value used to trade in the Bitcoin ecosyst...</td>\n",
              "    </tr>\n",
              "    <tr>\n",
              "      <th>3</th>\n",
              "      <td>2021-04-23 00:54:23.527000</td>\n",
              "      <td>1</td>\n",
              "      <td>Bitcoin is designed to become more expensive -...</td>\n",
              "    </tr>\n",
              "    <tr>\n",
              "      <th>4</th>\n",
              "      <td>2021-04-23 00:57:44.899000</td>\n",
              "      <td>1</td>\n",
              "      <td>Bitcoin is in the stealth phase of its bull ru...</td>\n",
              "    </tr>\n",
              "    <tr>\n",
              "      <th>...</th>\n",
              "      <td>...</td>\n",
              "      <td>...</td>\n",
              "      <td>...</td>\n",
              "    </tr>\n",
              "    <tr>\n",
              "      <th>100</th>\n",
              "      <td>2021/04/25 1:32:51 PM GMT+5:30</td>\n",
              "      <td>1</td>\n",
              "      <td>$60,000.price rising , great news for bitcoin ...</td>\n",
              "    </tr>\n",
              "    <tr>\n",
              "      <th>101</th>\n",
              "      <td>2021/04/25 1:33:37 PM GMT+5:30</td>\n",
              "      <td>1</td>\n",
              "      <td>About $10B of #Bitcoin withdrawn from exchange...</td>\n",
              "    </tr>\n",
              "    <tr>\n",
              "      <th>102</th>\n",
              "      <td>2021/04/25 1:36:36 PM GMT+5:30</td>\n",
              "      <td>1</td>\n",
              "      <td>The decision to own #bitcoin is binary, but th...</td>\n",
              "    </tr>\n",
              "    <tr>\n",
              "      <th>103</th>\n",
              "      <td>2021/04/25 1:37:34 PM GMT+5:30</td>\n",
              "      <td>1</td>\n",
              "      <td>The Nation State Case for #Bitcoin with \\n@bal...</td>\n",
              "    </tr>\n",
              "    <tr>\n",
              "      <th>104</th>\n",
              "      <td>2021/04/25 1:38:23 PM GMT+5:30</td>\n",
              "      <td>1</td>\n",
              "      <td>gold is to #bitcoin like the horse and buggy i...</td>\n",
              "    </tr>\n",
              "  </tbody>\n",
              "</table>\n",
              "<p>105 rows × 3 columns</p>\n",
              "</div>"
            ],
            "text/plain": [
              "                          Timestamp  ...                                              TWEET\n",
              "0        2021-04-23 00:51:34.298000  ...  The prizes will surely go up. Halving rocks!!!...\n",
              "1        2021-04-23 00:53:51.922000  ...  #Bitcoin price increase after each halving! Ha...\n",
              "2        2021-04-23 00:54:21.060000  ...  the value used to trade in the Bitcoin ecosyst...\n",
              "3        2021-04-23 00:54:23.527000  ...  Bitcoin is designed to become more expensive -...\n",
              "4        2021-04-23 00:57:44.899000  ...  Bitcoin is in the stealth phase of its bull ru...\n",
              "..                              ...  ...                                                ...\n",
              "100  2021/04/25 1:32:51 PM GMT+5:30  ...  $60,000.price rising , great news for bitcoin ...\n",
              "101  2021/04/25 1:33:37 PM GMT+5:30  ...  About $10B of #Bitcoin withdrawn from exchange...\n",
              "102  2021/04/25 1:36:36 PM GMT+5:30  ...  The decision to own #bitcoin is binary, but th...\n",
              "103  2021/04/25 1:37:34 PM GMT+5:30  ...  The Nation State Case for #Bitcoin with \\n@bal...\n",
              "104  2021/04/25 1:38:23 PM GMT+5:30  ...  gold is to #bitcoin like the horse and buggy i...\n",
              "\n",
              "[105 rows x 3 columns]"
            ]
          },
          "metadata": {
            "tags": []
          },
          "execution_count": 13
        }
      ]
    },
    {
      "cell_type": "code",
      "metadata": {
        "colab": {
          "base_uri": "https://localhost:8080/"
        },
        "id": "HcU2zgX6YJoe",
        "outputId": "6a6e47a1-895d-45c7-b107-1946f5330b77"
      },
      "source": [
        "df.columns"
      ],
      "execution_count": 14,
      "outputs": [
        {
          "output_type": "execute_result",
          "data": {
            "text/plain": [
              "Index(['Timestamp', 'Label', 'TWEET'], dtype='object')"
            ]
          },
          "metadata": {
            "tags": []
          },
          "execution_count": 14
        }
      ]
    },
    {
      "cell_type": "code",
      "metadata": {
        "colab": {
          "base_uri": "https://localhost:8080/",
          "height": 402
        },
        "id": "KOJ_gt_ER9h3",
        "outputId": "6e0734f5-26ce-4217-c41e-0cc6af99ce7d"
      },
      "source": [
        "df.columns= ['date','Label','TWEET']\n",
        "df"
      ],
      "execution_count": 15,
      "outputs": [
        {
          "output_type": "execute_result",
          "data": {
            "text/html": [
              "<div>\n",
              "<style scoped>\n",
              "    .dataframe tbody tr th:only-of-type {\n",
              "        vertical-align: middle;\n",
              "    }\n",
              "\n",
              "    .dataframe tbody tr th {\n",
              "        vertical-align: top;\n",
              "    }\n",
              "\n",
              "    .dataframe thead th {\n",
              "        text-align: right;\n",
              "    }\n",
              "</style>\n",
              "<table border=\"1\" class=\"dataframe\">\n",
              "  <thead>\n",
              "    <tr style=\"text-align: right;\">\n",
              "      <th></th>\n",
              "      <th>date</th>\n",
              "      <th>Label</th>\n",
              "      <th>TWEET</th>\n",
              "    </tr>\n",
              "  </thead>\n",
              "  <tbody>\n",
              "    <tr>\n",
              "      <th>0</th>\n",
              "      <td>2021-04-23 00:51:34.298000</td>\n",
              "      <td>1</td>\n",
              "      <td>The prizes will surely go up. Halving rocks!!!...</td>\n",
              "    </tr>\n",
              "    <tr>\n",
              "      <th>1</th>\n",
              "      <td>2021-04-23 00:53:51.922000</td>\n",
              "      <td>1</td>\n",
              "      <td>#Bitcoin price increase after each halving! Ha...</td>\n",
              "    </tr>\n",
              "    <tr>\n",
              "      <th>2</th>\n",
              "      <td>2021-04-23 00:54:21.060000</td>\n",
              "      <td>1</td>\n",
              "      <td>the value used to trade in the Bitcoin ecosyst...</td>\n",
              "    </tr>\n",
              "    <tr>\n",
              "      <th>3</th>\n",
              "      <td>2021-04-23 00:54:23.527000</td>\n",
              "      <td>1</td>\n",
              "      <td>Bitcoin is designed to become more expensive -...</td>\n",
              "    </tr>\n",
              "    <tr>\n",
              "      <th>4</th>\n",
              "      <td>2021-04-23 00:57:44.899000</td>\n",
              "      <td>1</td>\n",
              "      <td>Bitcoin is in the stealth phase of its bull ru...</td>\n",
              "    </tr>\n",
              "    <tr>\n",
              "      <th>...</th>\n",
              "      <td>...</td>\n",
              "      <td>...</td>\n",
              "      <td>...</td>\n",
              "    </tr>\n",
              "    <tr>\n",
              "      <th>100</th>\n",
              "      <td>2021/04/25 1:32:51 PM GMT+5:30</td>\n",
              "      <td>1</td>\n",
              "      <td>$60,000.price rising , great news for bitcoin ...</td>\n",
              "    </tr>\n",
              "    <tr>\n",
              "      <th>101</th>\n",
              "      <td>2021/04/25 1:33:37 PM GMT+5:30</td>\n",
              "      <td>1</td>\n",
              "      <td>About $10B of #Bitcoin withdrawn from exchange...</td>\n",
              "    </tr>\n",
              "    <tr>\n",
              "      <th>102</th>\n",
              "      <td>2021/04/25 1:36:36 PM GMT+5:30</td>\n",
              "      <td>1</td>\n",
              "      <td>The decision to own #bitcoin is binary, but th...</td>\n",
              "    </tr>\n",
              "    <tr>\n",
              "      <th>103</th>\n",
              "      <td>2021/04/25 1:37:34 PM GMT+5:30</td>\n",
              "      <td>1</td>\n",
              "      <td>The Nation State Case for #Bitcoin with \\n@bal...</td>\n",
              "    </tr>\n",
              "    <tr>\n",
              "      <th>104</th>\n",
              "      <td>2021/04/25 1:38:23 PM GMT+5:30</td>\n",
              "      <td>1</td>\n",
              "      <td>gold is to #bitcoin like the horse and buggy i...</td>\n",
              "    </tr>\n",
              "  </tbody>\n",
              "</table>\n",
              "<p>105 rows × 3 columns</p>\n",
              "</div>"
            ],
            "text/plain": [
              "                               date  ...                                              TWEET\n",
              "0        2021-04-23 00:51:34.298000  ...  The prizes will surely go up. Halving rocks!!!...\n",
              "1        2021-04-23 00:53:51.922000  ...  #Bitcoin price increase after each halving! Ha...\n",
              "2        2021-04-23 00:54:21.060000  ...  the value used to trade in the Bitcoin ecosyst...\n",
              "3        2021-04-23 00:54:23.527000  ...  Bitcoin is designed to become more expensive -...\n",
              "4        2021-04-23 00:57:44.899000  ...  Bitcoin is in the stealth phase of its bull ru...\n",
              "..                              ...  ...                                                ...\n",
              "100  2021/04/25 1:32:51 PM GMT+5:30  ...  $60,000.price rising , great news for bitcoin ...\n",
              "101  2021/04/25 1:33:37 PM GMT+5:30  ...  About $10B of #Bitcoin withdrawn from exchange...\n",
              "102  2021/04/25 1:36:36 PM GMT+5:30  ...  The decision to own #bitcoin is binary, but th...\n",
              "103  2021/04/25 1:37:34 PM GMT+5:30  ...  The Nation State Case for #Bitcoin with \\n@bal...\n",
              "104  2021/04/25 1:38:23 PM GMT+5:30  ...  gold is to #bitcoin like the horse and buggy i...\n",
              "\n",
              "[105 rows x 3 columns]"
            ]
          },
          "metadata": {
            "tags": []
          },
          "execution_count": 15
        }
      ]
    },
    {
      "cell_type": "code",
      "metadata": {
        "colab": {
          "resources": {
            "http://localhost:8080/nbextensions/google.colab/files.js": {
              "data": "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",
              "ok": true,
              "headers": [
                [
                  "content-type",
                  "application/javascript"
                ]
              ],
              "status": 200,
              "status_text": ""
            }
          },
          "base_uri": "https://localhost:8080/",
          "height": 90
        },
        "id": "M4i8ISv5SGbJ",
        "outputId": "d88697b8-a931-4d12-fb49-c6d5d4d29236"
      },
      "source": [
        "from google.colab import files\n",
        "uploaded = files.upload()"
      ],
      "execution_count": 16,
      "outputs": [
        {
          "output_type": "display_data",
          "data": {
            "text/html": [
              "\n",
              "     <input type=\"file\" id=\"files-97acd78c-6c54-40eb-b1fe-fd0724868704\" name=\"files[]\" multiple disabled\n",
              "        style=\"border:none\" />\n",
              "     <output id=\"result-97acd78c-6c54-40eb-b1fe-fd0724868704\">\n",
              "      Upload widget is only available when the cell has been executed in the\n",
              "      current browser session. Please rerun this cell to enable.\n",
              "      </output>\n",
              "      <script src=\"/nbextensions/google.colab/files.js\"></script> "
            ],
            "text/plain": [
              "<IPython.core.display.HTML object>"
            ]
          },
          "metadata": {
            "tags": []
          }
        },
        {
          "output_type": "stream",
          "text": [
            "Saving Positive (1).xlsx to Positive (1) (1).xlsx\n"
          ],
          "name": "stdout"
        }
      ]
    },
    {
      "cell_type": "code",
      "metadata": {
        "id": "PCPryfOrSKZN",
        "colab": {
          "base_uri": "https://localhost:8080/",
          "height": 402
        },
        "outputId": "546f870f-8acc-4644-c676-28f3fc9dfe5a"
      },
      "source": [
        "pos=pd.read_excel('Positive (1) (1).xlsx')\n",
        "pos.columns= ['date','Label','TWEET']\n",
        "pos"
      ],
      "execution_count": 17,
      "outputs": [
        {
          "output_type": "execute_result",
          "data": {
            "text/html": [
              "<div>\n",
              "<style scoped>\n",
              "    .dataframe tbody tr th:only-of-type {\n",
              "        vertical-align: middle;\n",
              "    }\n",
              "\n",
              "    .dataframe tbody tr th {\n",
              "        vertical-align: top;\n",
              "    }\n",
              "\n",
              "    .dataframe thead th {\n",
              "        text-align: right;\n",
              "    }\n",
              "</style>\n",
              "<table border=\"1\" class=\"dataframe\">\n",
              "  <thead>\n",
              "    <tr style=\"text-align: right;\">\n",
              "      <th></th>\n",
              "      <th>date</th>\n",
              "      <th>Label</th>\n",
              "      <th>TWEET</th>\n",
              "    </tr>\n",
              "  </thead>\n",
              "  <tbody>\n",
              "    <tr>\n",
              "      <th>0</th>\n",
              "      <td>2021-04-23 00:51:34.298000</td>\n",
              "      <td>1</td>\n",
              "      <td>The prizes will surely go up. Halving rocks!!!...</td>\n",
              "    </tr>\n",
              "    <tr>\n",
              "      <th>1</th>\n",
              "      <td>2021-04-23 00:53:51.922000</td>\n",
              "      <td>1</td>\n",
              "      <td>#Bitcoin price increase after each halving! Ha...</td>\n",
              "    </tr>\n",
              "    <tr>\n",
              "      <th>2</th>\n",
              "      <td>2021-04-23 00:54:21.060000</td>\n",
              "      <td>1</td>\n",
              "      <td>the value used to trade in the Bitcoin ecosyst...</td>\n",
              "    </tr>\n",
              "    <tr>\n",
              "      <th>3</th>\n",
              "      <td>2021-04-23 00:54:23.527000</td>\n",
              "      <td>1</td>\n",
              "      <td>Bitcoin is designed to become more expensive -...</td>\n",
              "    </tr>\n",
              "    <tr>\n",
              "      <th>4</th>\n",
              "      <td>2021-04-23 00:57:44.899000</td>\n",
              "      <td>1</td>\n",
              "      <td>Bitcoin is in the stealth phase of its bull ru...</td>\n",
              "    </tr>\n",
              "    <tr>\n",
              "      <th>...</th>\n",
              "      <td>...</td>\n",
              "      <td>...</td>\n",
              "      <td>...</td>\n",
              "    </tr>\n",
              "    <tr>\n",
              "      <th>65</th>\n",
              "      <td>2021/04/25 1:32:51 PM GMT+5:30</td>\n",
              "      <td>1</td>\n",
              "      <td>$60,000.price rising , great news for bitcoin ...</td>\n",
              "    </tr>\n",
              "    <tr>\n",
              "      <th>66</th>\n",
              "      <td>2021/04/25 1:33:37 PM GMT+5:30</td>\n",
              "      <td>1</td>\n",
              "      <td>About $10B of #Bitcoin withdrawn from exchange...</td>\n",
              "    </tr>\n",
              "    <tr>\n",
              "      <th>67</th>\n",
              "      <td>2021/04/25 1:36:36 PM GMT+5:30</td>\n",
              "      <td>1</td>\n",
              "      <td>The decision to own #bitcoin is binary, but th...</td>\n",
              "    </tr>\n",
              "    <tr>\n",
              "      <th>68</th>\n",
              "      <td>2021/04/25 1:37:34 PM GMT+5:30</td>\n",
              "      <td>1</td>\n",
              "      <td>The Nation State Case for #Bitcoin with \\n@bal...</td>\n",
              "    </tr>\n",
              "    <tr>\n",
              "      <th>69</th>\n",
              "      <td>2021/04/25 1:38:23 PM GMT+5:30</td>\n",
              "      <td>1</td>\n",
              "      <td>gold is to #bitcoin like the horse and buggy i...</td>\n",
              "    </tr>\n",
              "  </tbody>\n",
              "</table>\n",
              "<p>70 rows × 3 columns</p>\n",
              "</div>"
            ],
            "text/plain": [
              "                              date  ...                                              TWEET\n",
              "0       2021-04-23 00:51:34.298000  ...  The prizes will surely go up. Halving rocks!!!...\n",
              "1       2021-04-23 00:53:51.922000  ...  #Bitcoin price increase after each halving! Ha...\n",
              "2       2021-04-23 00:54:21.060000  ...  the value used to trade in the Bitcoin ecosyst...\n",
              "3       2021-04-23 00:54:23.527000  ...  Bitcoin is designed to become more expensive -...\n",
              "4       2021-04-23 00:57:44.899000  ...  Bitcoin is in the stealth phase of its bull ru...\n",
              "..                             ...  ...                                                ...\n",
              "65  2021/04/25 1:32:51 PM GMT+5:30  ...  $60,000.price rising , great news for bitcoin ...\n",
              "66  2021/04/25 1:33:37 PM GMT+5:30  ...  About $10B of #Bitcoin withdrawn from exchange...\n",
              "67  2021/04/25 1:36:36 PM GMT+5:30  ...  The decision to own #bitcoin is binary, but th...\n",
              "68  2021/04/25 1:37:34 PM GMT+5:30  ...  The Nation State Case for #Bitcoin with \\n@bal...\n",
              "69  2021/04/25 1:38:23 PM GMT+5:30  ...  gold is to #bitcoin like the horse and buggy i...\n",
              "\n",
              "[70 rows x 3 columns]"
            ]
          },
          "metadata": {
            "tags": []
          },
          "execution_count": 17
        }
      ]
    },
    {
      "cell_type": "code",
      "metadata": {
        "colab": {
          "resources": {
            "http://localhost:8080/nbextensions/google.colab/files.js": {
              "data": "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",
              "ok": true,
              "headers": [
                [
                  "content-type",
                  "application/javascript"
                ]
              ],
              "status": 200,
              "status_text": ""
            }
          },
          "base_uri": "https://localhost:8080/",
          "height": 90
        },
        "id": "6WKnUsfQSQce",
        "outputId": "ca408c3f-633e-471e-c8d7-5a9b7a89e6ed"
      },
      "source": [
        "from google.colab import files\n",
        "uploaded = files.upload()"
      ],
      "execution_count": 18,
      "outputs": [
        {
          "output_type": "display_data",
          "data": {
            "text/html": [
              "\n",
              "     <input type=\"file\" id=\"files-26a52fda-4099-443d-9a90-e50eb205220f\" name=\"files[]\" multiple disabled\n",
              "        style=\"border:none\" />\n",
              "     <output id=\"result-26a52fda-4099-443d-9a90-e50eb205220f\">\n",
              "      Upload widget is only available when the cell has been executed in the\n",
              "      current browser session. Please rerun this cell to enable.\n",
              "      </output>\n",
              "      <script src=\"/nbextensions/google.colab/files.js\"></script> "
            ],
            "text/plain": [
              "<IPython.core.display.HTML object>"
            ]
          },
          "metadata": {
            "tags": []
          }
        },
        {
          "output_type": "stream",
          "text": [
            "Saving negative (1).xlsx to negative (1).xlsx\n"
          ],
          "name": "stdout"
        }
      ]
    },
    {
      "cell_type": "code",
      "metadata": {
        "id": "8He1Es3zSSJq",
        "colab": {
          "base_uri": "https://localhost:8080/",
          "height": 1000
        },
        "outputId": "c66321ab-4d3c-41a4-ebaf-b13429e304dc"
      },
      "source": [
        "neg=pd.read_excel('negative (1).xlsx')\n",
        "neg.columns= ['date','Label','TWEET']\n",
        "neg"
      ],
      "execution_count": 19,
      "outputs": [
        {
          "output_type": "execute_result",
          "data": {
            "text/html": [
              "<div>\n",
              "<style scoped>\n",
              "    .dataframe tbody tr th:only-of-type {\n",
              "        vertical-align: middle;\n",
              "    }\n",
              "\n",
              "    .dataframe tbody tr th {\n",
              "        vertical-align: top;\n",
              "    }\n",
              "\n",
              "    .dataframe thead th {\n",
              "        text-align: right;\n",
              "    }\n",
              "</style>\n",
              "<table border=\"1\" class=\"dataframe\">\n",
              "  <thead>\n",
              "    <tr style=\"text-align: right;\">\n",
              "      <th></th>\n",
              "      <th>date</th>\n",
              "      <th>Label</th>\n",
              "      <th>TWEET</th>\n",
              "    </tr>\n",
              "  </thead>\n",
              "  <tbody>\n",
              "    <tr>\n",
              "      <th>0</th>\n",
              "      <td>2021-04-23 00:57:56.312000</td>\n",
              "      <td>0</td>\n",
              "      <td>My advice then: forget #Crypto for now. Start ...</td>\n",
              "    </tr>\n",
              "    <tr>\n",
              "      <th>1</th>\n",
              "      <td>2021-04-23 00:59:54.767000</td>\n",
              "      <td>0</td>\n",
              "      <td>JPMorgan Sounds Urgent Alarm On Bitcoin Price ...</td>\n",
              "    </tr>\n",
              "    <tr>\n",
              "      <th>2</th>\n",
              "      <td>2021-04-23 01:01:04.049000</td>\n",
              "      <td>0</td>\n",
              "      <td>Bitcoin, after hitting a fresh all-time high l...</td>\n",
              "    </tr>\n",
              "    <tr>\n",
              "      <th>3</th>\n",
              "      <td>2021-04-23 01:02:01.737000</td>\n",
              "      <td>0</td>\n",
              "      <td>The cryptocurrency market plunged early Sunday...</td>\n",
              "    </tr>\n",
              "    <tr>\n",
              "      <th>4</th>\n",
              "      <td>2021-04-23 01:02:07.445000</td>\n",
              "      <td>0</td>\n",
              "      <td>Now, with a sudden weekend sell-off leaving bi...</td>\n",
              "    </tr>\n",
              "    <tr>\n",
              "      <th>5</th>\n",
              "      <td>2021-04-23 01:02:29.534000</td>\n",
              "      <td>0</td>\n",
              "      <td>after a high rise, bitcoin sees its first fall...</td>\n",
              "    </tr>\n",
              "    <tr>\n",
              "      <th>6</th>\n",
              "      <td>2021-04-23 01:02:45.371000</td>\n",
              "      <td>0</td>\n",
              "      <td>You can't adopt a position where political or ...</td>\n",
              "    </tr>\n",
              "    <tr>\n",
              "      <th>7</th>\n",
              "      <td>2021-04-23 01:03:17.720000</td>\n",
              "      <td>0</td>\n",
              "      <td>From what I read the price drop in #BTC was ca...</td>\n",
              "    </tr>\n",
              "    <tr>\n",
              "      <th>8</th>\n",
              "      <td>2021-04-23 01:03:21.788000</td>\n",
              "      <td>0</td>\n",
              "      <td>The relatively high funding rates for longing ...</td>\n",
              "    </tr>\n",
              "    <tr>\n",
              "      <th>9</th>\n",
              "      <td>2021-04-23 01:03:46.954000</td>\n",
              "      <td>0</td>\n",
              "      <td>The bitcoin price has soared by around 400% si...</td>\n",
              "    </tr>\n",
              "    <tr>\n",
              "      <th>10</th>\n",
              "      <td>2021-04-23 01:06:31.914000</td>\n",
              "      <td>0</td>\n",
              "      <td>Bitcoin Fall After Stock Market Rally Rebound...</td>\n",
              "    </tr>\n",
              "    <tr>\n",
              "      <th>11</th>\n",
              "      <td>2021-04-23 01:06:43.747000</td>\n",
              "      <td>0</td>\n",
              "      <td>Bitcoin Price Drops After Turkey Bans Cryptocu...</td>\n",
              "    </tr>\n",
              "    <tr>\n",
              "      <th>12</th>\n",
              "      <td>2021-04-23 01:08:20.295000</td>\n",
              "      <td>0</td>\n",
              "      <td>JPMorgan warns of bitcoin weakness as futures ...</td>\n",
              "    </tr>\n",
              "    <tr>\n",
              "      <th>13</th>\n",
              "      <td>2021-04-23 01:10:16.719000</td>\n",
              "      <td>0</td>\n",
              "      <td>one can’t ignore the unpredictability of the c...</td>\n",
              "    </tr>\n",
              "    <tr>\n",
              "      <th>14</th>\n",
              "      <td>2021-04-23 01:10:51.911000</td>\n",
              "      <td>0</td>\n",
              "      <td>Warren Buffett Against Bitcoin #Bitcoin #Bitco...</td>\n",
              "    </tr>\n",
              "    <tr>\n",
              "      <th>15</th>\n",
              "      <td>2021-04-23 01:11:11.443000</td>\n",
              "      <td>0</td>\n",
              "      <td>bitcoin exhibits  utility problem</td>\n",
              "    </tr>\n",
              "    <tr>\n",
              "      <th>16</th>\n",
              "      <td>2021-04-23 01:11:11.590000</td>\n",
              "      <td>0</td>\n",
              "      <td>Cryptocurrencies, one of the most popular topi...</td>\n",
              "    </tr>\n",
              "    <tr>\n",
              "      <th>17</th>\n",
              "      <td>2021-04-23 01:12:17.322000</td>\n",
              "      <td>0</td>\n",
              "      <td>The tax situation is a nightmare, bitcoin may ...</td>\n",
              "    </tr>\n",
              "    <tr>\n",
              "      <th>18</th>\n",
              "      <td>2021-04-23 01:12:59.583000</td>\n",
              "      <td>0</td>\n",
              "      <td>All bubbles eventually burst, bitcoin gonna si...</td>\n",
              "    </tr>\n",
              "    <tr>\n",
              "      <th>19</th>\n",
              "      <td>2021-04-23 01:14:48.480000</td>\n",
              "      <td>0</td>\n",
              "      <td>Trader in Chicago Firm Stole Million BTC and F...</td>\n",
              "    </tr>\n",
              "    <tr>\n",
              "      <th>20</th>\n",
              "      <td>2021-04-23 01:15:24.785000</td>\n",
              "      <td>0</td>\n",
              "      <td>Scammers Are Ruining Crypto Twitter and Twitte...</td>\n",
              "    </tr>\n",
              "    <tr>\n",
              "      <th>21</th>\n",
              "      <td>2021-04-23 01:16:33.320000</td>\n",
              "      <td>0</td>\n",
              "      <td>The Indian government may soon come with a law...</td>\n",
              "    </tr>\n",
              "    <tr>\n",
              "      <th>22</th>\n",
              "      <td>2021-04-23 01:16:34.034000</td>\n",
              "      <td>0</td>\n",
              "      <td>Bitcoin's share of the overall market capitali...</td>\n",
              "    </tr>\n",
              "    <tr>\n",
              "      <th>23</th>\n",
              "      <td>2021-04-23 01:20:09.819000</td>\n",
              "      <td>0</td>\n",
              "      <td>There Are More Than 1000 Different Cryptocurre...</td>\n",
              "    </tr>\n",
              "    <tr>\n",
              "      <th>24</th>\n",
              "      <td>2021-04-23 01:20:14.160000</td>\n",
              "      <td>0</td>\n",
              "      <td>Another good news is, since Jan to March 2021,...</td>\n",
              "    </tr>\n",
              "    <tr>\n",
              "      <th>25</th>\n",
              "      <td>2021/04/25 11:31:37 AM GMT+5:30</td>\n",
              "      <td>0</td>\n",
              "      <td>Bitcoin slumps below $50,000, downgrowth for t...</td>\n",
              "    </tr>\n",
              "    <tr>\n",
              "      <th>26</th>\n",
              "      <td>2021/04/25 11:33:06 AM GMT+5:30</td>\n",
              "      <td>0</td>\n",
              "      <td>Indian government unhappy about bitcoin</td>\n",
              "    </tr>\n",
              "    <tr>\n",
              "      <th>27</th>\n",
              "      <td>2021/04/25 11:47:58 AM GMT+5:30</td>\n",
              "      <td>0</td>\n",
              "      <td>bitcoin will be illegal, a bad myth spreading</td>\n",
              "    </tr>\n",
              "    <tr>\n",
              "      <th>28</th>\n",
              "      <td>2021/04/25 11:50:02 AM GMT+5:30</td>\n",
              "      <td>0</td>\n",
              "      <td>Cryptocurrency is used for illegal transaction...</td>\n",
              "    </tr>\n",
              "    <tr>\n",
              "      <th>29</th>\n",
              "      <td>2021/04/25 11:51:47 AM GMT+5:30</td>\n",
              "      <td>0</td>\n",
              "      <td>bitcoin, untrustworthy apps coming to play to ...</td>\n",
              "    </tr>\n",
              "    <tr>\n",
              "      <th>30</th>\n",
              "      <td>2021/04/25 12:04:50 PM GMT+5:30</td>\n",
              "      <td>0</td>\n",
              "      <td>bitcoin market would decrease in the decade , ...</td>\n",
              "    </tr>\n",
              "    <tr>\n",
              "      <th>31</th>\n",
              "      <td>2021/04/25 12:06:30 PM GMT+5:30</td>\n",
              "      <td>0</td>\n",
              "      <td>RBI plans and an upcoming Bill: Where are digi...</td>\n",
              "    </tr>\n",
              "    <tr>\n",
              "      <th>32</th>\n",
              "      <td>2021/04/25 12:09:12 PM GMT+5:30</td>\n",
              "      <td>0</td>\n",
              "      <td>RBI ready to launch its own digital currency, ...</td>\n",
              "    </tr>\n",
              "    <tr>\n",
              "      <th>33</th>\n",
              "      <td>2021/04/25 12:11:10 PM GMT+5:30</td>\n",
              "      <td>0</td>\n",
              "      <td>The Cryptocurrency and Regulation of Official ...</td>\n",
              "    </tr>\n",
              "    <tr>\n",
              "      <th>34</th>\n",
              "      <td>2021/04/25 1:29:14 PM GMT+5:30</td>\n",
              "      <td>0</td>\n",
              "      <td>Even though I'm a pro-crypto, pro-Bitcoin maxi...</td>\n",
              "    </tr>\n",
              "  </tbody>\n",
              "</table>\n",
              "</div>"
            ],
            "text/plain": [
              "                               date  ...                                              TWEET\n",
              "0        2021-04-23 00:57:56.312000  ...  My advice then: forget #Crypto for now. Start ...\n",
              "1        2021-04-23 00:59:54.767000  ...  JPMorgan Sounds Urgent Alarm On Bitcoin Price ...\n",
              "2        2021-04-23 01:01:04.049000  ...  Bitcoin, after hitting a fresh all-time high l...\n",
              "3        2021-04-23 01:02:01.737000  ...  The cryptocurrency market plunged early Sunday...\n",
              "4        2021-04-23 01:02:07.445000  ...  Now, with a sudden weekend sell-off leaving bi...\n",
              "5        2021-04-23 01:02:29.534000  ...  after a high rise, bitcoin sees its first fall...\n",
              "6        2021-04-23 01:02:45.371000  ...  You can't adopt a position where political or ...\n",
              "7        2021-04-23 01:03:17.720000  ...  From what I read the price drop in #BTC was ca...\n",
              "8        2021-04-23 01:03:21.788000  ...  The relatively high funding rates for longing ...\n",
              "9        2021-04-23 01:03:46.954000  ...  The bitcoin price has soared by around 400% si...\n",
              "10       2021-04-23 01:06:31.914000  ...   Bitcoin Fall After Stock Market Rally Rebound...\n",
              "11       2021-04-23 01:06:43.747000  ...  Bitcoin Price Drops After Turkey Bans Cryptocu...\n",
              "12       2021-04-23 01:08:20.295000  ...  JPMorgan warns of bitcoin weakness as futures ...\n",
              "13       2021-04-23 01:10:16.719000  ...  one can’t ignore the unpredictability of the c...\n",
              "14       2021-04-23 01:10:51.911000  ...  Warren Buffett Against Bitcoin #Bitcoin #Bitco...\n",
              "15       2021-04-23 01:11:11.443000  ...                  bitcoin exhibits  utility problem\n",
              "16       2021-04-23 01:11:11.590000  ...  Cryptocurrencies, one of the most popular topi...\n",
              "17       2021-04-23 01:12:17.322000  ...  The tax situation is a nightmare, bitcoin may ...\n",
              "18       2021-04-23 01:12:59.583000  ...  All bubbles eventually burst, bitcoin gonna si...\n",
              "19       2021-04-23 01:14:48.480000  ...  Trader in Chicago Firm Stole Million BTC and F...\n",
              "20       2021-04-23 01:15:24.785000  ...  Scammers Are Ruining Crypto Twitter and Twitte...\n",
              "21       2021-04-23 01:16:33.320000  ...  The Indian government may soon come with a law...\n",
              "22       2021-04-23 01:16:34.034000  ...  Bitcoin's share of the overall market capitali...\n",
              "23       2021-04-23 01:20:09.819000  ...  There Are More Than 1000 Different Cryptocurre...\n",
              "24       2021-04-23 01:20:14.160000  ...  Another good news is, since Jan to March 2021,...\n",
              "25  2021/04/25 11:31:37 AM GMT+5:30  ...  Bitcoin slumps below $50,000, downgrowth for t...\n",
              "26  2021/04/25 11:33:06 AM GMT+5:30  ...            Indian government unhappy about bitcoin\n",
              "27  2021/04/25 11:47:58 AM GMT+5:30  ...      bitcoin will be illegal, a bad myth spreading\n",
              "28  2021/04/25 11:50:02 AM GMT+5:30  ...  Cryptocurrency is used for illegal transaction...\n",
              "29  2021/04/25 11:51:47 AM GMT+5:30  ...  bitcoin, untrustworthy apps coming to play to ...\n",
              "30  2021/04/25 12:04:50 PM GMT+5:30  ...  bitcoin market would decrease in the decade , ...\n",
              "31  2021/04/25 12:06:30 PM GMT+5:30  ...  RBI plans and an upcoming Bill: Where are digi...\n",
              "32  2021/04/25 12:09:12 PM GMT+5:30  ...  RBI ready to launch its own digital currency, ...\n",
              "33  2021/04/25 12:11:10 PM GMT+5:30  ...  The Cryptocurrency and Regulation of Official ...\n",
              "34   2021/04/25 1:29:14 PM GMT+5:30  ...  Even though I'm a pro-crypto, pro-Bitcoin maxi...\n",
              "\n",
              "[35 rows x 3 columns]"
            ]
          },
          "metadata": {
            "tags": []
          },
          "execution_count": 19
        }
      ]
    },
    {
      "cell_type": "code",
      "metadata": {
        "id": "sWivrn2pSYXI",
        "colab": {
          "base_uri": "https://localhost:8080/",
          "height": 35
        },
        "outputId": "95a19969-c401-426f-a307-159920f47a4c"
      },
      "source": [
        "'''neg=neg[:325]\n",
        "neg'''"
      ],
      "execution_count": 20,
      "outputs": [
        {
          "output_type": "execute_result",
          "data": {
            "application/vnd.google.colaboratory.intrinsic+json": {
              "type": "string"
            },
            "text/plain": [
              "'neg=neg[:325]\\nneg'"
            ]
          },
          "metadata": {
            "tags": []
          },
          "execution_count": 20
        }
      ]
    },
    {
      "cell_type": "code",
      "metadata": {
        "id": "yO6qQPmgSavb",
        "colab": {
          "base_uri": "https://localhost:8080/",
          "height": 402
        },
        "outputId": "1119593c-bfae-4767-87b8-42258f628ffd"
      },
      "source": [
        "pos.columns=['time','Label','Tweet']\n",
        "pos"
      ],
      "execution_count": 21,
      "outputs": [
        {
          "output_type": "execute_result",
          "data": {
            "text/html": [
              "<div>\n",
              "<style scoped>\n",
              "    .dataframe tbody tr th:only-of-type {\n",
              "        vertical-align: middle;\n",
              "    }\n",
              "\n",
              "    .dataframe tbody tr th {\n",
              "        vertical-align: top;\n",
              "    }\n",
              "\n",
              "    .dataframe thead th {\n",
              "        text-align: right;\n",
              "    }\n",
              "</style>\n",
              "<table border=\"1\" class=\"dataframe\">\n",
              "  <thead>\n",
              "    <tr style=\"text-align: right;\">\n",
              "      <th></th>\n",
              "      <th>time</th>\n",
              "      <th>Label</th>\n",
              "      <th>Tweet</th>\n",
              "    </tr>\n",
              "  </thead>\n",
              "  <tbody>\n",
              "    <tr>\n",
              "      <th>0</th>\n",
              "      <td>2021-04-23 00:51:34.298000</td>\n",
              "      <td>1</td>\n",
              "      <td>The prizes will surely go up. Halving rocks!!!...</td>\n",
              "    </tr>\n",
              "    <tr>\n",
              "      <th>1</th>\n",
              "      <td>2021-04-23 00:53:51.922000</td>\n",
              "      <td>1</td>\n",
              "      <td>#Bitcoin price increase after each halving! Ha...</td>\n",
              "    </tr>\n",
              "    <tr>\n",
              "      <th>2</th>\n",
              "      <td>2021-04-23 00:54:21.060000</td>\n",
              "      <td>1</td>\n",
              "      <td>the value used to trade in the Bitcoin ecosyst...</td>\n",
              "    </tr>\n",
              "    <tr>\n",
              "      <th>3</th>\n",
              "      <td>2021-04-23 00:54:23.527000</td>\n",
              "      <td>1</td>\n",
              "      <td>Bitcoin is designed to become more expensive -...</td>\n",
              "    </tr>\n",
              "    <tr>\n",
              "      <th>4</th>\n",
              "      <td>2021-04-23 00:57:44.899000</td>\n",
              "      <td>1</td>\n",
              "      <td>Bitcoin is in the stealth phase of its bull ru...</td>\n",
              "    </tr>\n",
              "    <tr>\n",
              "      <th>...</th>\n",
              "      <td>...</td>\n",
              "      <td>...</td>\n",
              "      <td>...</td>\n",
              "    </tr>\n",
              "    <tr>\n",
              "      <th>65</th>\n",
              "      <td>2021/04/25 1:32:51 PM GMT+5:30</td>\n",
              "      <td>1</td>\n",
              "      <td>$60,000.price rising , great news for bitcoin ...</td>\n",
              "    </tr>\n",
              "    <tr>\n",
              "      <th>66</th>\n",
              "      <td>2021/04/25 1:33:37 PM GMT+5:30</td>\n",
              "      <td>1</td>\n",
              "      <td>About $10B of #Bitcoin withdrawn from exchange...</td>\n",
              "    </tr>\n",
              "    <tr>\n",
              "      <th>67</th>\n",
              "      <td>2021/04/25 1:36:36 PM GMT+5:30</td>\n",
              "      <td>1</td>\n",
              "      <td>The decision to own #bitcoin is binary, but th...</td>\n",
              "    </tr>\n",
              "    <tr>\n",
              "      <th>68</th>\n",
              "      <td>2021/04/25 1:37:34 PM GMT+5:30</td>\n",
              "      <td>1</td>\n",
              "      <td>The Nation State Case for #Bitcoin with \\n@bal...</td>\n",
              "    </tr>\n",
              "    <tr>\n",
              "      <th>69</th>\n",
              "      <td>2021/04/25 1:38:23 PM GMT+5:30</td>\n",
              "      <td>1</td>\n",
              "      <td>gold is to #bitcoin like the horse and buggy i...</td>\n",
              "    </tr>\n",
              "  </tbody>\n",
              "</table>\n",
              "<p>70 rows × 3 columns</p>\n",
              "</div>"
            ],
            "text/plain": [
              "                              time  ...                                              Tweet\n",
              "0       2021-04-23 00:51:34.298000  ...  The prizes will surely go up. Halving rocks!!!...\n",
              "1       2021-04-23 00:53:51.922000  ...  #Bitcoin price increase after each halving! Ha...\n",
              "2       2021-04-23 00:54:21.060000  ...  the value used to trade in the Bitcoin ecosyst...\n",
              "3       2021-04-23 00:54:23.527000  ...  Bitcoin is designed to become more expensive -...\n",
              "4       2021-04-23 00:57:44.899000  ...  Bitcoin is in the stealth phase of its bull ru...\n",
              "..                             ...  ...                                                ...\n",
              "65  2021/04/25 1:32:51 PM GMT+5:30  ...  $60,000.price rising , great news for bitcoin ...\n",
              "66  2021/04/25 1:33:37 PM GMT+5:30  ...  About $10B of #Bitcoin withdrawn from exchange...\n",
              "67  2021/04/25 1:36:36 PM GMT+5:30  ...  The decision to own #bitcoin is binary, but th...\n",
              "68  2021/04/25 1:37:34 PM GMT+5:30  ...  The Nation State Case for #Bitcoin with \\n@bal...\n",
              "69  2021/04/25 1:38:23 PM GMT+5:30  ...  gold is to #bitcoin like the horse and buggy i...\n",
              "\n",
              "[70 rows x 3 columns]"
            ]
          },
          "metadata": {
            "tags": []
          },
          "execution_count": 21
        }
      ]
    },
    {
      "cell_type": "code",
      "metadata": {
        "id": "6jQAPaN6Sd6A",
        "colab": {
          "base_uri": "https://localhost:8080/",
          "height": 1000
        },
        "outputId": "210f56c9-e721-42c5-dd40-e6601930f572"
      },
      "source": [
        "neg.columns=['time','Label','Tweet']\n",
        "neg"
      ],
      "execution_count": 22,
      "outputs": [
        {
          "output_type": "execute_result",
          "data": {
            "text/html": [
              "<div>\n",
              "<style scoped>\n",
              "    .dataframe tbody tr th:only-of-type {\n",
              "        vertical-align: middle;\n",
              "    }\n",
              "\n",
              "    .dataframe tbody tr th {\n",
              "        vertical-align: top;\n",
              "    }\n",
              "\n",
              "    .dataframe thead th {\n",
              "        text-align: right;\n",
              "    }\n",
              "</style>\n",
              "<table border=\"1\" class=\"dataframe\">\n",
              "  <thead>\n",
              "    <tr style=\"text-align: right;\">\n",
              "      <th></th>\n",
              "      <th>time</th>\n",
              "      <th>Label</th>\n",
              "      <th>Tweet</th>\n",
              "    </tr>\n",
              "  </thead>\n",
              "  <tbody>\n",
              "    <tr>\n",
              "      <th>0</th>\n",
              "      <td>2021-04-23 00:57:56.312000</td>\n",
              "      <td>0</td>\n",
              "      <td>My advice then: forget #Crypto for now. Start ...</td>\n",
              "    </tr>\n",
              "    <tr>\n",
              "      <th>1</th>\n",
              "      <td>2021-04-23 00:59:54.767000</td>\n",
              "      <td>0</td>\n",
              "      <td>JPMorgan Sounds Urgent Alarm On Bitcoin Price ...</td>\n",
              "    </tr>\n",
              "    <tr>\n",
              "      <th>2</th>\n",
              "      <td>2021-04-23 01:01:04.049000</td>\n",
              "      <td>0</td>\n",
              "      <td>Bitcoin, after hitting a fresh all-time high l...</td>\n",
              "    </tr>\n",
              "    <tr>\n",
              "      <th>3</th>\n",
              "      <td>2021-04-23 01:02:01.737000</td>\n",
              "      <td>0</td>\n",
              "      <td>The cryptocurrency market plunged early Sunday...</td>\n",
              "    </tr>\n",
              "    <tr>\n",
              "      <th>4</th>\n",
              "      <td>2021-04-23 01:02:07.445000</td>\n",
              "      <td>0</td>\n",
              "      <td>Now, with a sudden weekend sell-off leaving bi...</td>\n",
              "    </tr>\n",
              "    <tr>\n",
              "      <th>5</th>\n",
              "      <td>2021-04-23 01:02:29.534000</td>\n",
              "      <td>0</td>\n",
              "      <td>after a high rise, bitcoin sees its first fall...</td>\n",
              "    </tr>\n",
              "    <tr>\n",
              "      <th>6</th>\n",
              "      <td>2021-04-23 01:02:45.371000</td>\n",
              "      <td>0</td>\n",
              "      <td>You can't adopt a position where political or ...</td>\n",
              "    </tr>\n",
              "    <tr>\n",
              "      <th>7</th>\n",
              "      <td>2021-04-23 01:03:17.720000</td>\n",
              "      <td>0</td>\n",
              "      <td>From what I read the price drop in #BTC was ca...</td>\n",
              "    </tr>\n",
              "    <tr>\n",
              "      <th>8</th>\n",
              "      <td>2021-04-23 01:03:21.788000</td>\n",
              "      <td>0</td>\n",
              "      <td>The relatively high funding rates for longing ...</td>\n",
              "    </tr>\n",
              "    <tr>\n",
              "      <th>9</th>\n",
              "      <td>2021-04-23 01:03:46.954000</td>\n",
              "      <td>0</td>\n",
              "      <td>The bitcoin price has soared by around 400% si...</td>\n",
              "    </tr>\n",
              "    <tr>\n",
              "      <th>10</th>\n",
              "      <td>2021-04-23 01:06:31.914000</td>\n",
              "      <td>0</td>\n",
              "      <td>Bitcoin Fall After Stock Market Rally Rebound...</td>\n",
              "    </tr>\n",
              "    <tr>\n",
              "      <th>11</th>\n",
              "      <td>2021-04-23 01:06:43.747000</td>\n",
              "      <td>0</td>\n",
              "      <td>Bitcoin Price Drops After Turkey Bans Cryptocu...</td>\n",
              "    </tr>\n",
              "    <tr>\n",
              "      <th>12</th>\n",
              "      <td>2021-04-23 01:08:20.295000</td>\n",
              "      <td>0</td>\n",
              "      <td>JPMorgan warns of bitcoin weakness as futures ...</td>\n",
              "    </tr>\n",
              "    <tr>\n",
              "      <th>13</th>\n",
              "      <td>2021-04-23 01:10:16.719000</td>\n",
              "      <td>0</td>\n",
              "      <td>one can’t ignore the unpredictability of the c...</td>\n",
              "    </tr>\n",
              "    <tr>\n",
              "      <th>14</th>\n",
              "      <td>2021-04-23 01:10:51.911000</td>\n",
              "      <td>0</td>\n",
              "      <td>Warren Buffett Against Bitcoin #Bitcoin #Bitco...</td>\n",
              "    </tr>\n",
              "    <tr>\n",
              "      <th>15</th>\n",
              "      <td>2021-04-23 01:11:11.443000</td>\n",
              "      <td>0</td>\n",
              "      <td>bitcoin exhibits  utility problem</td>\n",
              "    </tr>\n",
              "    <tr>\n",
              "      <th>16</th>\n",
              "      <td>2021-04-23 01:11:11.590000</td>\n",
              "      <td>0</td>\n",
              "      <td>Cryptocurrencies, one of the most popular topi...</td>\n",
              "    </tr>\n",
              "    <tr>\n",
              "      <th>17</th>\n",
              "      <td>2021-04-23 01:12:17.322000</td>\n",
              "      <td>0</td>\n",
              "      <td>The tax situation is a nightmare, bitcoin may ...</td>\n",
              "    </tr>\n",
              "    <tr>\n",
              "      <th>18</th>\n",
              "      <td>2021-04-23 01:12:59.583000</td>\n",
              "      <td>0</td>\n",
              "      <td>All bubbles eventually burst, bitcoin gonna si...</td>\n",
              "    </tr>\n",
              "    <tr>\n",
              "      <th>19</th>\n",
              "      <td>2021-04-23 01:14:48.480000</td>\n",
              "      <td>0</td>\n",
              "      <td>Trader in Chicago Firm Stole Million BTC and F...</td>\n",
              "    </tr>\n",
              "    <tr>\n",
              "      <th>20</th>\n",
              "      <td>2021-04-23 01:15:24.785000</td>\n",
              "      <td>0</td>\n",
              "      <td>Scammers Are Ruining Crypto Twitter and Twitte...</td>\n",
              "    </tr>\n",
              "    <tr>\n",
              "      <th>21</th>\n",
              "      <td>2021-04-23 01:16:33.320000</td>\n",
              "      <td>0</td>\n",
              "      <td>The Indian government may soon come with a law...</td>\n",
              "    </tr>\n",
              "    <tr>\n",
              "      <th>22</th>\n",
              "      <td>2021-04-23 01:16:34.034000</td>\n",
              "      <td>0</td>\n",
              "      <td>Bitcoin's share of the overall market capitali...</td>\n",
              "    </tr>\n",
              "    <tr>\n",
              "      <th>23</th>\n",
              "      <td>2021-04-23 01:20:09.819000</td>\n",
              "      <td>0</td>\n",
              "      <td>There Are More Than 1000 Different Cryptocurre...</td>\n",
              "    </tr>\n",
              "    <tr>\n",
              "      <th>24</th>\n",
              "      <td>2021-04-23 01:20:14.160000</td>\n",
              "      <td>0</td>\n",
              "      <td>Another good news is, since Jan to March 2021,...</td>\n",
              "    </tr>\n",
              "    <tr>\n",
              "      <th>25</th>\n",
              "      <td>2021/04/25 11:31:37 AM GMT+5:30</td>\n",
              "      <td>0</td>\n",
              "      <td>Bitcoin slumps below $50,000, downgrowth for t...</td>\n",
              "    </tr>\n",
              "    <tr>\n",
              "      <th>26</th>\n",
              "      <td>2021/04/25 11:33:06 AM GMT+5:30</td>\n",
              "      <td>0</td>\n",
              "      <td>Indian government unhappy about bitcoin</td>\n",
              "    </tr>\n",
              "    <tr>\n",
              "      <th>27</th>\n",
              "      <td>2021/04/25 11:47:58 AM GMT+5:30</td>\n",
              "      <td>0</td>\n",
              "      <td>bitcoin will be illegal, a bad myth spreading</td>\n",
              "    </tr>\n",
              "    <tr>\n",
              "      <th>28</th>\n",
              "      <td>2021/04/25 11:50:02 AM GMT+5:30</td>\n",
              "      <td>0</td>\n",
              "      <td>Cryptocurrency is used for illegal transaction...</td>\n",
              "    </tr>\n",
              "    <tr>\n",
              "      <th>29</th>\n",
              "      <td>2021/04/25 11:51:47 AM GMT+5:30</td>\n",
              "      <td>0</td>\n",
              "      <td>bitcoin, untrustworthy apps coming to play to ...</td>\n",
              "    </tr>\n",
              "    <tr>\n",
              "      <th>30</th>\n",
              "      <td>2021/04/25 12:04:50 PM GMT+5:30</td>\n",
              "      <td>0</td>\n",
              "      <td>bitcoin market would decrease in the decade , ...</td>\n",
              "    </tr>\n",
              "    <tr>\n",
              "      <th>31</th>\n",
              "      <td>2021/04/25 12:06:30 PM GMT+5:30</td>\n",
              "      <td>0</td>\n",
              "      <td>RBI plans and an upcoming Bill: Where are digi...</td>\n",
              "    </tr>\n",
              "    <tr>\n",
              "      <th>32</th>\n",
              "      <td>2021/04/25 12:09:12 PM GMT+5:30</td>\n",
              "      <td>0</td>\n",
              "      <td>RBI ready to launch its own digital currency, ...</td>\n",
              "    </tr>\n",
              "    <tr>\n",
              "      <th>33</th>\n",
              "      <td>2021/04/25 12:11:10 PM GMT+5:30</td>\n",
              "      <td>0</td>\n",
              "      <td>The Cryptocurrency and Regulation of Official ...</td>\n",
              "    </tr>\n",
              "    <tr>\n",
              "      <th>34</th>\n",
              "      <td>2021/04/25 1:29:14 PM GMT+5:30</td>\n",
              "      <td>0</td>\n",
              "      <td>Even though I'm a pro-crypto, pro-Bitcoin maxi...</td>\n",
              "    </tr>\n",
              "  </tbody>\n",
              "</table>\n",
              "</div>"
            ],
            "text/plain": [
              "                               time  ...                                              Tweet\n",
              "0        2021-04-23 00:57:56.312000  ...  My advice then: forget #Crypto for now. Start ...\n",
              "1        2021-04-23 00:59:54.767000  ...  JPMorgan Sounds Urgent Alarm On Bitcoin Price ...\n",
              "2        2021-04-23 01:01:04.049000  ...  Bitcoin, after hitting a fresh all-time high l...\n",
              "3        2021-04-23 01:02:01.737000  ...  The cryptocurrency market plunged early Sunday...\n",
              "4        2021-04-23 01:02:07.445000  ...  Now, with a sudden weekend sell-off leaving bi...\n",
              "5        2021-04-23 01:02:29.534000  ...  after a high rise, bitcoin sees its first fall...\n",
              "6        2021-04-23 01:02:45.371000  ...  You can't adopt a position where political or ...\n",
              "7        2021-04-23 01:03:17.720000  ...  From what I read the price drop in #BTC was ca...\n",
              "8        2021-04-23 01:03:21.788000  ...  The relatively high funding rates for longing ...\n",
              "9        2021-04-23 01:03:46.954000  ...  The bitcoin price has soared by around 400% si...\n",
              "10       2021-04-23 01:06:31.914000  ...   Bitcoin Fall After Stock Market Rally Rebound...\n",
              "11       2021-04-23 01:06:43.747000  ...  Bitcoin Price Drops After Turkey Bans Cryptocu...\n",
              "12       2021-04-23 01:08:20.295000  ...  JPMorgan warns of bitcoin weakness as futures ...\n",
              "13       2021-04-23 01:10:16.719000  ...  one can’t ignore the unpredictability of the c...\n",
              "14       2021-04-23 01:10:51.911000  ...  Warren Buffett Against Bitcoin #Bitcoin #Bitco...\n",
              "15       2021-04-23 01:11:11.443000  ...                  bitcoin exhibits  utility problem\n",
              "16       2021-04-23 01:11:11.590000  ...  Cryptocurrencies, one of the most popular topi...\n",
              "17       2021-04-23 01:12:17.322000  ...  The tax situation is a nightmare, bitcoin may ...\n",
              "18       2021-04-23 01:12:59.583000  ...  All bubbles eventually burst, bitcoin gonna si...\n",
              "19       2021-04-23 01:14:48.480000  ...  Trader in Chicago Firm Stole Million BTC and F...\n",
              "20       2021-04-23 01:15:24.785000  ...  Scammers Are Ruining Crypto Twitter and Twitte...\n",
              "21       2021-04-23 01:16:33.320000  ...  The Indian government may soon come with a law...\n",
              "22       2021-04-23 01:16:34.034000  ...  Bitcoin's share of the overall market capitali...\n",
              "23       2021-04-23 01:20:09.819000  ...  There Are More Than 1000 Different Cryptocurre...\n",
              "24       2021-04-23 01:20:14.160000  ...  Another good news is, since Jan to March 2021,...\n",
              "25  2021/04/25 11:31:37 AM GMT+5:30  ...  Bitcoin slumps below $50,000, downgrowth for t...\n",
              "26  2021/04/25 11:33:06 AM GMT+5:30  ...            Indian government unhappy about bitcoin\n",
              "27  2021/04/25 11:47:58 AM GMT+5:30  ...      bitcoin will be illegal, a bad myth spreading\n",
              "28  2021/04/25 11:50:02 AM GMT+5:30  ...  Cryptocurrency is used for illegal transaction...\n",
              "29  2021/04/25 11:51:47 AM GMT+5:30  ...  bitcoin, untrustworthy apps coming to play to ...\n",
              "30  2021/04/25 12:04:50 PM GMT+5:30  ...  bitcoin market would decrease in the decade , ...\n",
              "31  2021/04/25 12:06:30 PM GMT+5:30  ...  RBI plans and an upcoming Bill: Where are digi...\n",
              "32  2021/04/25 12:09:12 PM GMT+5:30  ...  RBI ready to launch its own digital currency, ...\n",
              "33  2021/04/25 12:11:10 PM GMT+5:30  ...  The Cryptocurrency and Regulation of Official ...\n",
              "34   2021/04/25 1:29:14 PM GMT+5:30  ...  Even though I'm a pro-crypto, pro-Bitcoin maxi...\n",
              "\n",
              "[35 rows x 3 columns]"
            ]
          },
          "metadata": {
            "tags": []
          },
          "execution_count": 22
        }
      ]
    },
    {
      "cell_type": "code",
      "metadata": {
        "id": "T0Oz9jcaSgCY"
      },
      "source": [
        "positive_tweets=[]\n",
        "for i in pos['Tweet']:\n",
        "  positive_tweets.append(i)"
      ],
      "execution_count": 23,
      "outputs": []
    },
    {
      "cell_type": "code",
      "metadata": {
        "colab": {
          "base_uri": "https://localhost:8080/"
        },
        "id": "tGxpvguvZ2m2",
        "outputId": "68cc1ae8-6114-4990-b2fb-d7671ffd8784"
      },
      "source": [
        "positive_tweets"
      ],
      "execution_count": 24,
      "outputs": [
        {
          "output_type": "execute_result",
          "data": {
            "text/plain": [
              "[\"The prizes will surely go up. Halving rocks!!!!! That's too Good. \",\n",
              " '#Bitcoin price increase after each halving! Halving is great for investors.',\n",
              " 'the value used to trade in the Bitcoin ecosystem stands to multiply by about 500x in the next few couple of years!! Great news',\n",
              " \"Bitcoin is designed to become more expensive - forever! That's satisfactory.\",\n",
              " \"Bitcoin is in the stealth phase of its bull run and it's good. Usually public interest do not pick up until the previous all-time high has been smashed.\",\n",
              " \"People ask me why I trade Bitcoin \\nBecause in the past 10 years there hasn't been any other market that comes close, bitcoin is just perfect\",\n",
              " '\\nThen wait for the bottom of the crypto bear market in 2023, just before the 2024 #Bitcoin  halving! Then the price will touch the sky. It will go Up above everything. Great for everyone',\n",
              " 'elon musk tags bitcoin, gets status upgrade. Great person supports great things. ',\n",
              " 'I celebrate the halving with spicy ramen. With this increase I will become richer. ',\n",
              " 'Exceptional rise in bitcoin. Great bull run',\n",
              " '#Bitcoin Performance since the Halving\\nApr. 20, 2021\\n\\nSince the halving:\\nBTC      +555%\\nSP500  +41.2%\\nGold       +4.65%\\n\\nUP AND UP!! Great news for investors',\n",
              " 'increase in 4 times in the past month ,bitcoin has the upper hand in  cryptocurrency territory',\n",
              " 'the price of bitcoin embarked on yet another roller-coaster ride — with Elon Musk at the center of the story. BTC is good wif you have money',\n",
              " 'bitcoin Price Slumps After Hashtag-Fueled Surge to Record High',\n",
              " 'Bitcoin Prices Bounce Back After Falling More Than 15%',\n",
              " 'With more than 47 million followers on Twitter, Elon Musk’s tweets get a fair amount of attention. bitcoin price gonna go rocket high',\n",
              " 'Bitcoin prices plunge after hitting a record high last week',\n",
              " 'Bitcoin soars to new high above $52,000; sustainability concerns rise',\n",
              " \"the cryptocurrency market topped $2 trillion of valuation for the first time, and Bitcoin's at 1.15 Trillion dollars. Bitcoin registered a crucial growth in the last six months valuing up to a 450 percent rise.The price saw a very good and positive increase in prices.\",\n",
              " 'Bitcoin Recovers From Panic Zone as Funding Rates Reset',\n",
              " '\"Bitcoin’s Price Peak Is Coming This Month - Stock-to-Flow Says . . .\" \\n',\n",
              " 'Bitcoin hits record high of $62,575 - Reuters',\n",
              " 'Bitcoin and the stock market could trade more closely as the crypto world expands',\n",
              " 'Elon Musk Reveals Tesla Will Increase $1.5 Billion Bitcoin Holdings, Boosting The Price',\n",
              " '#btc at all time high.. \\nWhat are your thoughts !!! \\n',\n",
              " \"Bitcoin gains this market value as there a huge demand for this cryptocurrency as it's very good.\",\n",
              " 'Ethereum\\'s blockchain is busier than ever, but its high \"gas fees\" are pushing Binance Smart Chain to even faster growth – thanks to PancakeSwap. ',\n",
              " 'Bitcoin has gold-like properties but better, eventually gonna rule the market',\n",
              " 'Bitcoin drawdowns offer good buying opportunities and have occurred every month this year. Great for investors',\n",
              " 'Bitcoin is the most trusted cryptocurrency ,says the researchers',\n",
              " 'Amazon set to use Bitcoin as payment for people. #Bitcoin great news finally',\n",
              " 'Future monetary systems are being built on Bitcoin , the rise is inevitable. Great for investors',\n",
              " \"Bitcoin's funding rate turned negative over the weekend, which typically precedes price recoveries\",\n",
              " 'Bitcoin is becoming more legitimized as it gets more regulated, the rise in value will lead to a new ruler',\n",
              " 'ut May is going to be an amazing month for #Bitcoin, halving will increase the price in may',\n",
              " 'Bitcoin Still Has a Considerable Upside Potential',\n",
              " 'Turkish Minister Proposes National Cryptocurrency',\n",
              " 'Crypto Assets Have the Potential to Become Money #invest in bitcoin',\n",
              " 'High Volatility – a Blessing in Disguise #bitcoin. Great for investors',\n",
              " 'Bitcoin was last trading down 10% at $53,991 as of 1320 GMT, a whopping $12,000 below record highs set on Wednesday.The bitcoin prices reached soaring heights.The prices skyrocketedand it was wonderfully very beautiful and nice.\\n',\n",
              " 'bitcoin goes off the charts, a great thing for the miners',\n",
              " 'bitcoin is a good change in phase',\n",
              " 'bitcoin ,#the king of cryptocurrency ',\n",
              " 'bitcoin halved ,value increasing by the day',\n",
              " 'bitcoin is great for the country, says pm',\n",
              " 'bitcoin is good as it provides User Autonomy',\n",
              " 'with the Elimination of Banking Fees bitcoin price soars ,#bitcoin is good',\n",
              " 'with greater accessibility bitcoin soars high #bitcoin is good',\n",
              " 'started investing in bitcoin and it has been beneficial',\n",
              " 'Elon must tags bitcoin, bitcoin price would increase',\n",
              " 'Tesla buys $1.5 billion in bitcoin ,proves good faith in bitcoin',\n",
              " 'Elon musk invests in bitcoin, a pleasant sight for bitcoin',\n",
              " 'Elon Musk had bought $1.5 billion in bitcoin in February this year, bitcoin getting into good moral highroad',\n",
              " 'I really enjoyed talking with \\n@FossGregfoss\\n about #bitcoin and the bond market.  Be sure to check it out and let us know what you think! #bitcoin is great',\n",
              " '#Bitcoin is not very far from surpassing $SILVER in terms of market capitalization. market waits for untainted increase\\n',\n",
              " 'This Bitcoin rally is EXACTLY like previous halvings.  Likely to reach $115k by August, tremendous increase possible.',\n",
              " 'Most likely #Bitcoin is not going away. The future comes at you fast. good news for the investors ',\n",
              " \"#Bitcoin is in the top-10 of the world's M1 Money Supply. \",\n",
              " 'The latest rally with $UST 10-year bond yields has picked up the pace; a year ago, they were just above 0.5%. In the last three months the yields have risen by 70 basis points, pushing the benchmark rate to around 1.6%.\\nbitcoin soaring high good.',\n",
              " 'Bitcoin has entered the ranks of top 10 global currencies in terms of M1 money supply. predicts good score for the future',\n",
              " 'A recent great sharp increase in the producer price index.',\n",
              " 'Already seeing a good \"Coinbase effect\" on private co valuations in the crypto space',\n",
              " 'The $MSTR board can now get paid in #Bitcoin. Good work \\n@michael_saylor\\n.bitcoin greatly influence the world',\n",
              " 'Vroom vroom!, bitcoin attains new greatness!!!!!!!!!!',\n",
              " 'You can now buy a Tesla with Bitcoin# bitcoin expanding\\n',\n",
              " '$60,000.price rising , great news for bitcoin investors !!!!!!!!',\n",
              " 'About $10B of #Bitcoin withdrawn from exchanges over the past four months. tremendous rise trend?? \\n',\n",
              " 'The decision to own #bitcoin is binary, but the worth is high:))',\n",
              " 'The Nation State Case for #Bitcoin with \\n@balajis\\n Srinivasan. We discuss:\\n- Why banning #Bitcoin wonâ€™t work\\nhappy news for the investors',\n",
              " 'gold is to #bitcoin like the horse and buggy is to the automobile, expecting a great remarkable future::))))']"
            ]
          },
          "metadata": {
            "tags": []
          },
          "execution_count": 24
        }
      ]
    },
    {
      "cell_type": "code",
      "metadata": {
        "id": "dDKw3F8TSsqL"
      },
      "source": [
        "negative_tweets=[]\n",
        "for i in neg['Tweet']:\n",
        "  negative_tweets.append(i)"
      ],
      "execution_count": 25,
      "outputs": []
    },
    {
      "cell_type": "code",
      "metadata": {
        "colab": {
          "base_uri": "https://localhost:8080/"
        },
        "id": "wpJlrwEqSu6P",
        "outputId": "1c8f140b-604c-4f83-8c75-80ed2fd7db17"
      },
      "source": [
        "len(negative_tweets)"
      ],
      "execution_count": 26,
      "outputs": [
        {
          "output_type": "execute_result",
          "data": {
            "text/plain": [
              "35"
            ]
          },
          "metadata": {
            "tags": []
          },
          "execution_count": 26
        }
      ]
    },
    {
      "cell_type": "code",
      "metadata": {
        "colab": {
          "base_uri": "https://localhost:8080/"
        },
        "id": "c5haKLjJSxZF",
        "outputId": "bd72a799-8e5c-4d4a-e705-6abfa018ebe8"
      },
      "source": [
        "len(positive_tweets)"
      ],
      "execution_count": 27,
      "outputs": [
        {
          "output_type": "execute_result",
          "data": {
            "text/plain": [
              "70"
            ]
          },
          "metadata": {
            "tags": []
          },
          "execution_count": 27
        }
      ]
    },
    {
      "cell_type": "code",
      "metadata": {
        "id": "C17zB_4ZSzkp"
      },
      "source": [
        "test_pos = positive_tweets[55:]\n",
        "train_pos = positive_tweets[:55]\n",
        "test_neg = negative_tweets[27:]\n",
        "train_neg = negative_tweets[:27]"
      ],
      "execution_count": 28,
      "outputs": []
    },
    {
      "cell_type": "code",
      "metadata": {
        "id": "iDJdiKOiS2Cd"
      },
      "source": [
        "train_x = train_pos + train_neg \n",
        "test_x = test_pos + test_neg"
      ],
      "execution_count": 29,
      "outputs": []
    },
    {
      "cell_type": "code",
      "metadata": {
        "colab": {
          "base_uri": "https://localhost:8080/"
        },
        "id": "9usJJBkYYH72",
        "outputId": "4b2df07f-bbe1-4304-97e4-888efc5f0c51"
      },
      "source": [
        "train_x"
      ],
      "execution_count": 30,
      "outputs": [
        {
          "output_type": "execute_result",
          "data": {
            "text/plain": [
              "[\"The prizes will surely go up. Halving rocks!!!!! That's too Good. \",\n",
              " '#Bitcoin price increase after each halving! Halving is great for investors.',\n",
              " 'the value used to trade in the Bitcoin ecosystem stands to multiply by about 500x in the next few couple of years!! Great news',\n",
              " \"Bitcoin is designed to become more expensive - forever! That's satisfactory.\",\n",
              " \"Bitcoin is in the stealth phase of its bull run and it's good. Usually public interest do not pick up until the previous all-time high has been smashed.\",\n",
              " \"People ask me why I trade Bitcoin \\nBecause in the past 10 years there hasn't been any other market that comes close, bitcoin is just perfect\",\n",
              " '\\nThen wait for the bottom of the crypto bear market in 2023, just before the 2024 #Bitcoin  halving! Then the price will touch the sky. It will go Up above everything. Great for everyone',\n",
              " 'elon musk tags bitcoin, gets status upgrade. Great person supports great things. ',\n",
              " 'I celebrate the halving with spicy ramen. With this increase I will become richer. ',\n",
              " 'Exceptional rise in bitcoin. Great bull run',\n",
              " '#Bitcoin Performance since the Halving\\nApr. 20, 2021\\n\\nSince the halving:\\nBTC      +555%\\nSP500  +41.2%\\nGold       +4.65%\\n\\nUP AND UP!! Great news for investors',\n",
              " 'increase in 4 times in the past month ,bitcoin has the upper hand in  cryptocurrency territory',\n",
              " 'the price of bitcoin embarked on yet another roller-coaster ride — with Elon Musk at the center of the story. BTC is good wif you have money',\n",
              " 'bitcoin Price Slumps After Hashtag-Fueled Surge to Record High',\n",
              " 'Bitcoin Prices Bounce Back After Falling More Than 15%',\n",
              " 'With more than 47 million followers on Twitter, Elon Musk’s tweets get a fair amount of attention. bitcoin price gonna go rocket high',\n",
              " 'Bitcoin prices plunge after hitting a record high last week',\n",
              " 'Bitcoin soars to new high above $52,000; sustainability concerns rise',\n",
              " \"the cryptocurrency market topped $2 trillion of valuation for the first time, and Bitcoin's at 1.15 Trillion dollars. Bitcoin registered a crucial growth in the last six months valuing up to a 450 percent rise.The price saw a very good and positive increase in prices.\",\n",
              " 'Bitcoin Recovers From Panic Zone as Funding Rates Reset',\n",
              " '\"Bitcoin’s Price Peak Is Coming This Month - Stock-to-Flow Says . . .\" \\n',\n",
              " 'Bitcoin hits record high of $62,575 - Reuters',\n",
              " 'Bitcoin and the stock market could trade more closely as the crypto world expands',\n",
              " 'Elon Musk Reveals Tesla Will Increase $1.5 Billion Bitcoin Holdings, Boosting The Price',\n",
              " '#btc at all time high.. \\nWhat are your thoughts !!! \\n',\n",
              " \"Bitcoin gains this market value as there a huge demand for this cryptocurrency as it's very good.\",\n",
              " 'Ethereum\\'s blockchain is busier than ever, but its high \"gas fees\" are pushing Binance Smart Chain to even faster growth – thanks to PancakeSwap. ',\n",
              " 'Bitcoin has gold-like properties but better, eventually gonna rule the market',\n",
              " 'Bitcoin drawdowns offer good buying opportunities and have occurred every month this year. Great for investors',\n",
              " 'Bitcoin is the most trusted cryptocurrency ,says the researchers',\n",
              " 'Amazon set to use Bitcoin as payment for people. #Bitcoin great news finally',\n",
              " 'Future monetary systems are being built on Bitcoin , the rise is inevitable. Great for investors',\n",
              " \"Bitcoin's funding rate turned negative over the weekend, which typically precedes price recoveries\",\n",
              " 'Bitcoin is becoming more legitimized as it gets more regulated, the rise in value will lead to a new ruler',\n",
              " 'ut May is going to be an amazing month for #Bitcoin, halving will increase the price in may',\n",
              " 'Bitcoin Still Has a Considerable Upside Potential',\n",
              " 'Turkish Minister Proposes National Cryptocurrency',\n",
              " 'Crypto Assets Have the Potential to Become Money #invest in bitcoin',\n",
              " 'High Volatility – a Blessing in Disguise #bitcoin. Great for investors',\n",
              " 'Bitcoin was last trading down 10% at $53,991 as of 1320 GMT, a whopping $12,000 below record highs set on Wednesday.The bitcoin prices reached soaring heights.The prices skyrocketedand it was wonderfully very beautiful and nice.\\n',\n",
              " 'bitcoin goes off the charts, a great thing for the miners',\n",
              " 'bitcoin is a good change in phase',\n",
              " 'bitcoin ,#the king of cryptocurrency ',\n",
              " 'bitcoin halved ,value increasing by the day',\n",
              " 'bitcoin is great for the country, says pm',\n",
              " 'bitcoin is good as it provides User Autonomy',\n",
              " 'with the Elimination of Banking Fees bitcoin price soars ,#bitcoin is good',\n",
              " 'with greater accessibility bitcoin soars high #bitcoin is good',\n",
              " 'started investing in bitcoin and it has been beneficial',\n",
              " 'Elon must tags bitcoin, bitcoin price would increase',\n",
              " 'Tesla buys $1.5 billion in bitcoin ,proves good faith in bitcoin',\n",
              " 'Elon musk invests in bitcoin, a pleasant sight for bitcoin',\n",
              " 'Elon Musk had bought $1.5 billion in bitcoin in February this year, bitcoin getting into good moral highroad',\n",
              " 'I really enjoyed talking with \\n@FossGregfoss\\n about #bitcoin and the bond market.  Be sure to check it out and let us know what you think! #bitcoin is great',\n",
              " '#Bitcoin is not very far from surpassing $SILVER in terms of market capitalization. market waits for untainted increase\\n',\n",
              " 'My advice then: forget #Crypto for now. Start saving your money. Get a second job if you have to. prices will go down and down and down, if your money vanishes then it will be bad\\n',\n",
              " 'JPMorgan Sounds Urgent Alarm On Bitcoin Price ‘Momentum’ After $300 Billion Bitcoin And Crypto Sell-Off. Be prepared thing might get worsen. ',\n",
              " \"Bitcoin, after hitting a fresh all-time high last week, is showing signs of weakness (with some predicting bitcoin could be about to peak). That's a dangerous and a bad sign. \",\n",
              " 'The cryptocurrency market plunged early Sunday as a result of blackouts in China. As a result, bitcoin mining rates dropped dramatically, causing prices to plummet and billions of dollars in liquidations.',\n",
              " \"Now, with a sudden weekend sell-off leaving bitcoin traders and investors reeling, JPMorgan analysts have warned that if the bitcoin price doesn't regain ground above $60,000 soon, bitcoin's momentum signals will collapse and the price will be bad and bad.\",\n",
              " 'after a high rise, bitcoin sees its first fall. Bad it is',\n",
              " \"You can't adopt a position where political or social experience that came before Bitcoin is simply irrelevant.\",\n",
              " 'From what I read the price drop in #BTC was caused by black out in one of the main Bitcoin mining regions in China, hence hash rate dropped leading to price decrease. ',\n",
              " 'The relatively high funding rates for longing Bitcoin were another big factor that led to the price drop',\n",
              " 'The bitcoin price has soared by around 400% since its latest bull run began as long-awaited institutional adoption started to materialize and Tesla billionaire Elon Musk whipped the crypto market into a frenzy.It was a very pathetic.The score was bad.',\n",
              " ' Bitcoin Fall After Stock Market Rally Rebounds, There was a sudden downfall in bitcoin prices after the bitcoin halving',\n",
              " 'Bitcoin Price Drops After Turkey Bans Cryptocurrency Payments Citing Risks',\n",
              " 'JPMorgan warns of bitcoin weakness as futures get liquidated',\n",
              " \"one can’t ignore the unpredictability of the crypto market, for the roadway is full of tremble and turbulence.It's sort of a bad experience sometimes because of disheartening results.\",\n",
              " 'Warren Buffett Against Bitcoin #Bitcoin #BitcoinDecrease',\n",
              " 'bitcoin exhibits  utility problem',\n",
              " 'Cryptocurrencies, one of the most popular topics of the last period, have fallen. With the fall of Bitcoin, which led the way, there were also decreases in altcoins. Exceeding the $64,000 threshold, Bitcoin fell to $51,000.\\n',\n",
              " 'The tax situation is a nightmare, bitcoin may cease to exist in the future',\n",
              " 'All bubbles eventually burst, bitcoin gonna sink low',\n",
              " 'Trader in Chicago Firm Stole Million BTC and Faces 20 Year Sentence #Bitcoin. price might decrease soon.  Situation can get worsen',\n",
              " 'Scammers Are Ruining Crypto Twitter and Twitter Is to Blame #Bitcoin. BTC might see a downfall',\n",
              " 'The Indian government may soon come with a law which is likely to ban all cryptocurrencies, may look into past transactions but, will provide investors with a window to exit from their holdings.This will lead to the downfall of bitcoin prices.The prices will go very down and very bad.',\n",
              " \"Bitcoin's share of the overall market capitalization of cryptocurrencies has slipped as ether and other altcoins surged in price in recent months.  Situation can get worsen\",\n",
              " 'There Are More Than 1000 Different Cryptocurrencies Already , is there space for more ,or is it gonna be the fall of bitcoin. Situation can get worsen',\n",
              " 'Another good news is, since Jan to March 2021, daily RSI has been showing bearish divergence for #Bitcoin. Now the \"clock\" has been reset to normal.',\n",
              " 'Bitcoin slumps below $50,000, downgrowth for the future',\n",
              " 'Indian government unhappy about bitcoin']"
            ]
          },
          "metadata": {
            "tags": []
          },
          "execution_count": 30
        }
      ]
    },
    {
      "cell_type": "code",
      "metadata": {
        "colab": {
          "base_uri": "https://localhost:8080/"
        },
        "id": "fGPxOjWeS4Ei",
        "outputId": "6ca18d31-b2ef-4bdd-f2e8-24f7ef7aecb6"
      },
      "source": [
        "print(len(test_pos) , len(test_neg))\n",
        "print(len(train_neg) )"
      ],
      "execution_count": 31,
      "outputs": [
        {
          "output_type": "stream",
          "text": [
            "15 8\n",
            "27\n"
          ],
          "name": "stdout"
        }
      ]
    },
    {
      "cell_type": "code",
      "metadata": {
        "id": "k1M6LlLwS8oY"
      },
      "source": [
        "\n",
        "import numpy as np\n",
        "train_y = np.append(np.ones((len(train_pos), 1)), np.zeros((len(train_neg), 1)), axis=0)\n",
        "test_y = np.append(np.ones((len(test_pos), 1)), np.zeros((len(test_neg), 1)), axis=0)"
      ],
      "execution_count": 32,
      "outputs": []
    },
    {
      "cell_type": "code",
      "metadata": {
        "colab": {
          "base_uri": "https://localhost:8080/"
        },
        "id": "YUrQutDOYd-4",
        "outputId": "ea22fabe-92ee-4e30-dbb3-4b13608b4291"
      },
      "source": [
        "train_y"
      ],
      "execution_count": 33,
      "outputs": [
        {
          "output_type": "execute_result",
          "data": {
            "text/plain": [
              "array([[1.],\n",
              "       [1.],\n",
              "       [1.],\n",
              "       [1.],\n",
              "       [1.],\n",
              "       [1.],\n",
              "       [1.],\n",
              "       [1.],\n",
              "       [1.],\n",
              "       [1.],\n",
              "       [1.],\n",
              "       [1.],\n",
              "       [1.],\n",
              "       [1.],\n",
              "       [1.],\n",
              "       [1.],\n",
              "       [1.],\n",
              "       [1.],\n",
              "       [1.],\n",
              "       [1.],\n",
              "       [1.],\n",
              "       [1.],\n",
              "       [1.],\n",
              "       [1.],\n",
              "       [1.],\n",
              "       [1.],\n",
              "       [1.],\n",
              "       [1.],\n",
              "       [1.],\n",
              "       [1.],\n",
              "       [1.],\n",
              "       [1.],\n",
              "       [1.],\n",
              "       [1.],\n",
              "       [1.],\n",
              "       [1.],\n",
              "       [1.],\n",
              "       [1.],\n",
              "       [1.],\n",
              "       [1.],\n",
              "       [1.],\n",
              "       [1.],\n",
              "       [1.],\n",
              "       [1.],\n",
              "       [1.],\n",
              "       [1.],\n",
              "       [1.],\n",
              "       [1.],\n",
              "       [1.],\n",
              "       [1.],\n",
              "       [1.],\n",
              "       [1.],\n",
              "       [1.],\n",
              "       [1.],\n",
              "       [1.],\n",
              "       [0.],\n",
              "       [0.],\n",
              "       [0.],\n",
              "       [0.],\n",
              "       [0.],\n",
              "       [0.],\n",
              "       [0.],\n",
              "       [0.],\n",
              "       [0.],\n",
              "       [0.],\n",
              "       [0.],\n",
              "       [0.],\n",
              "       [0.],\n",
              "       [0.],\n",
              "       [0.],\n",
              "       [0.],\n",
              "       [0.],\n",
              "       [0.],\n",
              "       [0.],\n",
              "       [0.],\n",
              "       [0.],\n",
              "       [0.],\n",
              "       [0.],\n",
              "       [0.],\n",
              "       [0.],\n",
              "       [0.],\n",
              "       [0.]])"
            ]
          },
          "metadata": {
            "tags": []
          },
          "execution_count": 33
        }
      ]
    },
    {
      "cell_type": "code",
      "metadata": {
        "colab": {
          "base_uri": "https://localhost:8080/"
        },
        "id": "Mh4D2bd5TaAO",
        "outputId": "ce426ec1-c8f4-43ac-d5be-16e5e99e60b9"
      },
      "source": [
        "\n",
        "print(\"train_y.shape = \" + str(train_y.shape))\n",
        "print(\"test_y.shape = \" + str(test_y.shape))"
      ],
      "execution_count": 34,
      "outputs": [
        {
          "output_type": "stream",
          "text": [
            "train_y.shape = (82, 1)\n",
            "test_y.shape = (23, 1)\n"
          ],
          "name": "stdout"
        }
      ]
    },
    {
      "cell_type": "code",
      "metadata": {
        "colab": {
          "base_uri": "https://localhost:8080/"
        },
        "id": "of2y97XtS_Pz",
        "outputId": "008f2a8d-fcc6-4d65-bf0f-938b3932f9ee"
      },
      "source": [
        "\n",
        "print(process_tweet(positive_tweets[3]))\n"
      ],
      "execution_count": 35,
      "outputs": [
        {
          "output_type": "stream",
          "text": [
            "['bitcoin', 'is', 'designed', 'to', 'become', 'more', 'expensive', 'forever', 'thats', 'satisfactory']\n",
            "['bitcoin', 'designed', 'become', 'more', 'expensive', 'forever', 'thats', 'satisfactory']\n"
          ],
          "name": "stdout"
        }
      ]
    },
    {
      "cell_type": "code",
      "metadata": {
        "id": "VP5mgQ4qTGYi"
      },
      "source": [
        "def count_tweets(result, tweets, ys):\n",
        "    '''\n",
        "    Input:\n",
        "        result: a dictionary that will be used to map each pair to its frequency\n",
        "        tweets: a list of tweets\n",
        "        ys: a list corresponding to the sentiment of each tweet (either 0 or 1)\n",
        "    Output:\n",
        "        result: a dictionary mapping each pair to its frequency\n",
        "    '''\n",
        "\n",
        "    ### START CODE HERE (REPLACE INSTANCES OF 'None' with your code) ###\n",
        "    for y, tweet in zip(ys, tweets):\n",
        "        for word in process_tweet(tweet):\n",
        "            # define the key, which is the word and label tuple\n",
        "            pair = (word,y)\n",
        "\n",
        "            # if the key exists in the dictionary, increment the count\n",
        "            if pair in result:\n",
        "                result[pair] += 1\n",
        "\n",
        "            # else, if the key is new, add it to the dictionary and set the count to 1\n",
        "            else:\n",
        "                result[pair] = 1\n",
        "    ### END CODE HERE ###\n",
        "\n",
        "    return result\n",
        "\n"
      ],
      "execution_count": 36,
      "outputs": []
    },
    {
      "cell_type": "code",
      "metadata": {
        "colab": {
          "base_uri": "https://localhost:8080/"
        },
        "id": "gWeIyIXMT4yQ",
        "outputId": "38dcfb25-9c8f-4b36-c44a-e69e2c87da19"
      },
      "source": [
        "result = {}\n",
        "tweets = ['Bitcoin market is bull', 'Bitcoin is good', 'Invest in Bitcoin as it is good', 'Bitcoin prices are bad and going down','Bitcoin invetment is bad']\n",
        "ys = [1, 1, 1, 0,0]\n",
        "count_tweets(result, tweets, ys)"
      ],
      "execution_count": 37,
      "outputs": [
        {
          "output_type": "stream",
          "text": [
            "['bitcoin', 'market', 'is', 'bull']\n",
            "['bitcoin', 'is', 'good']\n",
            "['invest', 'in', 'bitcoin', 'as', 'it', 'is', 'good']\n",
            "['bitcoin', 'prices', 'are', 'bad', 'and', 'going', 'down']\n",
            "['bitcoin', 'invetment', 'is', 'bad']\n"
          ],
          "name": "stdout"
        },
        {
          "output_type": "execute_result",
          "data": {
            "text/plain": [
              "{('bad', 0): 2,\n",
              " ('bitcoin', 0): 2,\n",
              " ('bitcoin', 1): 3,\n",
              " ('bull', 1): 1,\n",
              " ('down', 0): 1,\n",
              " ('going', 0): 1,\n",
              " ('good', 1): 2,\n",
              " ('invest', 1): 1,\n",
              " ('invetment', 0): 1,\n",
              " ('market', 1): 1,\n",
              " ('prices', 0): 1}"
            ]
          },
          "metadata": {
            "tags": []
          },
          "execution_count": 37
        }
      ]
    },
    {
      "cell_type": "code",
      "metadata": {
        "id": "PYxWvIzvW0eO"
      },
      "source": [
        "arr = np.array(train_x)"
      ],
      "execution_count": 38,
      "outputs": []
    },
    {
      "cell_type": "code",
      "metadata": {
        "colab": {
          "base_uri": "https://localhost:8080/"
        },
        "id": "5k3SgcyVW0Zq",
        "outputId": "abd5c318-b71d-4baf-af08-44c7bbc6131f"
      },
      "source": [
        "arr"
      ],
      "execution_count": 39,
      "outputs": [
        {
          "output_type": "execute_result",
          "data": {
            "text/plain": [
              "array([\"The prizes will surely go up. Halving rocks!!!!! That's too Good. \",\n",
              "       '#Bitcoin price increase after each halving! Halving is great for investors.',\n",
              "       'the value used to trade in the Bitcoin ecosystem stands to multiply by about 500x in the next few couple of years!! Great news',\n",
              "       \"Bitcoin is designed to become more expensive - forever! That's satisfactory.\",\n",
              "       \"Bitcoin is in the stealth phase of its bull run and it's good. Usually public interest do not pick up until the previous all-time high has been smashed.\",\n",
              "       \"People ask me why I trade Bitcoin \\nBecause in the past 10 years there hasn't been any other market that comes close, bitcoin is just perfect\",\n",
              "       '\\nThen wait for the bottom of the crypto bear market in 2023, just before the 2024 #Bitcoin  halving! Then the price will touch the sky. It will go Up above everything. Great for everyone',\n",
              "       'elon musk tags bitcoin, gets status upgrade. Great person supports great things. ',\n",
              "       'I celebrate the halving with spicy ramen. With this increase I will become richer. ',\n",
              "       'Exceptional rise in bitcoin. Great bull run',\n",
              "       '#Bitcoin Performance since the Halving\\nApr. 20, 2021\\n\\nSince the halving:\\nBTC      +555%\\nSP500  +41.2%\\nGold       +4.65%\\n\\nUP AND UP!! Great news for investors',\n",
              "       'increase in 4 times in the past month ,bitcoin has the upper hand in  cryptocurrency territory',\n",
              "       'the price of bitcoin embarked on yet another roller-coaster ride — with Elon Musk at the center of the story. BTC is good wif you have money',\n",
              "       'bitcoin Price Slumps After Hashtag-Fueled Surge to Record High',\n",
              "       'Bitcoin Prices Bounce Back After Falling More Than 15%',\n",
              "       'With more than 47 million followers on Twitter, Elon Musk’s tweets get a fair amount of attention. bitcoin price gonna go rocket high',\n",
              "       'Bitcoin prices plunge after hitting a record high last week',\n",
              "       'Bitcoin soars to new high above $52,000; sustainability concerns rise',\n",
              "       \"the cryptocurrency market topped $2 trillion of valuation for the first time, and Bitcoin's at 1.15 Trillion dollars. Bitcoin registered a crucial growth in the last six months valuing up to a 450 percent rise.The price saw a very good and positive increase in prices.\",\n",
              "       'Bitcoin Recovers From Panic Zone as Funding Rates Reset',\n",
              "       '\"Bitcoin’s Price Peak Is Coming This Month - Stock-to-Flow Says . . .\" \\n',\n",
              "       'Bitcoin hits record high of $62,575 - Reuters',\n",
              "       'Bitcoin and the stock market could trade more closely as the crypto world expands',\n",
              "       'Elon Musk Reveals Tesla Will Increase $1.5 Billion Bitcoin Holdings, Boosting The Price',\n",
              "       '#btc at all time high.. \\nWhat are your thoughts !!! \\n',\n",
              "       \"Bitcoin gains this market value as there a huge demand for this cryptocurrency as it's very good.\",\n",
              "       'Ethereum\\'s blockchain is busier than ever, but its high \"gas fees\" are pushing Binance Smart Chain to even faster growth – thanks to PancakeSwap. ',\n",
              "       'Bitcoin has gold-like properties but better, eventually gonna rule the market',\n",
              "       'Bitcoin drawdowns offer good buying opportunities and have occurred every month this year. Great for investors',\n",
              "       'Bitcoin is the most trusted cryptocurrency ,says the researchers',\n",
              "       'Amazon set to use Bitcoin as payment for people. #Bitcoin great news finally',\n",
              "       'Future monetary systems are being built on Bitcoin , the rise is inevitable. Great for investors',\n",
              "       \"Bitcoin's funding rate turned negative over the weekend, which typically precedes price recoveries\",\n",
              "       'Bitcoin is becoming more legitimized as it gets more regulated, the rise in value will lead to a new ruler',\n",
              "       'ut May is going to be an amazing month for #Bitcoin, halving will increase the price in may',\n",
              "       'Bitcoin Still Has a Considerable Upside Potential',\n",
              "       'Turkish Minister Proposes National Cryptocurrency',\n",
              "       'Crypto Assets Have the Potential to Become Money #invest in bitcoin',\n",
              "       'High Volatility – a Blessing in Disguise #bitcoin. Great for investors',\n",
              "       'Bitcoin was last trading down 10% at $53,991 as of 1320 GMT, a whopping $12,000 below record highs set on Wednesday.The bitcoin prices reached soaring heights.The prices skyrocketedand it was wonderfully very beautiful and nice.\\n',\n",
              "       'bitcoin goes off the charts, a great thing for the miners',\n",
              "       'bitcoin is a good change in phase',\n",
              "       'bitcoin ,#the king of cryptocurrency ',\n",
              "       'bitcoin halved ,value increasing by the day',\n",
              "       'bitcoin is great for the country, says pm',\n",
              "       'bitcoin is good as it provides User Autonomy',\n",
              "       'with the Elimination of Banking Fees bitcoin price soars ,#bitcoin is good',\n",
              "       'with greater accessibility bitcoin soars high #bitcoin is good',\n",
              "       'started investing in bitcoin and it has been beneficial',\n",
              "       'Elon must tags bitcoin, bitcoin price would increase',\n",
              "       'Tesla buys $1.5 billion in bitcoin ,proves good faith in bitcoin',\n",
              "       'Elon musk invests in bitcoin, a pleasant sight for bitcoin',\n",
              "       'Elon Musk had bought $1.5 billion in bitcoin in February this year, bitcoin getting into good moral highroad',\n",
              "       'I really enjoyed talking with \\n@FossGregfoss\\n about #bitcoin and the bond market.  Be sure to check it out and let us know what you think! #bitcoin is great',\n",
              "       '#Bitcoin is not very far from surpassing $SILVER in terms of market capitalization. market waits for untainted increase\\n',\n",
              "       'My advice then: forget #Crypto for now. Start saving your money. Get a second job if you have to. prices will go down and down and down, if your money vanishes then it will be bad\\n',\n",
              "       'JPMorgan Sounds Urgent Alarm On Bitcoin Price ‘Momentum’ After $300 Billion Bitcoin And Crypto Sell-Off. Be prepared thing might get worsen. ',\n",
              "       \"Bitcoin, after hitting a fresh all-time high last week, is showing signs of weakness (with some predicting bitcoin could be about to peak). That's a dangerous and a bad sign. \",\n",
              "       'The cryptocurrency market plunged early Sunday as a result of blackouts in China. As a result, bitcoin mining rates dropped dramatically, causing prices to plummet and billions of dollars in liquidations.',\n",
              "       \"Now, with a sudden weekend sell-off leaving bitcoin traders and investors reeling, JPMorgan analysts have warned that if the bitcoin price doesn't regain ground above $60,000 soon, bitcoin's momentum signals will collapse and the price will be bad and bad.\",\n",
              "       'after a high rise, bitcoin sees its first fall. Bad it is',\n",
              "       \"You can't adopt a position where political or social experience that came before Bitcoin is simply irrelevant.\",\n",
              "       'From what I read the price drop in #BTC was caused by black out in one of the main Bitcoin mining regions in China, hence hash rate dropped leading to price decrease. ',\n",
              "       'The relatively high funding rates for longing Bitcoin were another big factor that led to the price drop',\n",
              "       'The bitcoin price has soared by around 400% since its latest bull run began as long-awaited institutional adoption started to materialize and Tesla billionaire Elon Musk whipped the crypto market into a frenzy.It was a very pathetic.The score was bad.',\n",
              "       ' Bitcoin Fall After Stock Market Rally Rebounds, There was a sudden downfall in bitcoin prices after the bitcoin halving',\n",
              "       'Bitcoin Price Drops After Turkey Bans Cryptocurrency Payments Citing Risks',\n",
              "       'JPMorgan warns of bitcoin weakness as futures get liquidated',\n",
              "       \"one can’t ignore the unpredictability of the crypto market, for the roadway is full of tremble and turbulence.It's sort of a bad experience sometimes because of disheartening results.\",\n",
              "       'Warren Buffett Against Bitcoin #Bitcoin #BitcoinDecrease',\n",
              "       'bitcoin exhibits  utility problem',\n",
              "       'Cryptocurrencies, one of the most popular topics of the last period, have fallen. With the fall of Bitcoin, which led the way, there were also decreases in altcoins. Exceeding the $64,000 threshold, Bitcoin fell to $51,000.\\n',\n",
              "       'The tax situation is a nightmare, bitcoin may cease to exist in the future',\n",
              "       'All bubbles eventually burst, bitcoin gonna sink low',\n",
              "       'Trader in Chicago Firm Stole Million BTC and Faces 20 Year Sentence #Bitcoin. price might decrease soon.  Situation can get worsen',\n",
              "       'Scammers Are Ruining Crypto Twitter and Twitter Is to Blame #Bitcoin. BTC might see a downfall',\n",
              "       'The Indian government may soon come with a law which is likely to ban all cryptocurrencies, may look into past transactions but, will provide investors with a window to exit from their holdings.This will lead to the downfall of bitcoin prices.The prices will go very down and very bad.',\n",
              "       \"Bitcoin's share of the overall market capitalization of cryptocurrencies has slipped as ether and other altcoins surged in price in recent months.  Situation can get worsen\",\n",
              "       'There Are More Than 1000 Different Cryptocurrencies Already , is there space for more ,or is it gonna be the fall of bitcoin. Situation can get worsen',\n",
              "       'Another good news is, since Jan to March 2021, daily RSI has been showing bearish divergence for #Bitcoin. Now the \"clock\" has been reset to normal.',\n",
              "       'Bitcoin slumps below $50,000, downgrowth for the future',\n",
              "       'Indian government unhappy about bitcoin'], dtype='<U285')"
            ]
          },
          "metadata": {
            "tags": []
          },
          "execution_count": 39
        }
      ]
    },
    {
      "cell_type": "code",
      "metadata": {
        "colab": {
          "base_uri": "https://localhost:8080/"
        },
        "id": "BorajkgaW0WK",
        "outputId": "77d57f07-0d69-4c32-c4f9-f61aed776dc3"
      },
      "source": [
        "train_y=train_y.tolist()\n",
        "type(train_y)\n"
      ],
      "execution_count": 40,
      "outputs": [
        {
          "output_type": "execute_result",
          "data": {
            "text/plain": [
              "list"
            ]
          },
          "metadata": {
            "tags": []
          },
          "execution_count": 40
        }
      ]
    },
    {
      "cell_type": "code",
      "metadata": {
        "id": "X4Uk8vdoZTE2"
      },
      "source": [
        "train__y=[]\n",
        "for i in train_y:\n",
        "  for j in i:\n",
        "    train__y.append(j)\n",
        "    \n"
      ],
      "execution_count": 41,
      "outputs": []
    },
    {
      "cell_type": "code",
      "metadata": {
        "id": "y1Afe4xUZjfj"
      },
      "source": [
        "train_y=train__y"
      ],
      "execution_count": 42,
      "outputs": []
    },
    {
      "cell_type": "code",
      "metadata": {
        "colab": {
          "base_uri": "https://localhost:8080/"
        },
        "id": "EQTprAvlUffc",
        "outputId": "87f3eba1-cd73-4fff-b78a-236efbc94f52"
      },
      "source": [
        "freqs = count_tweets({}, train_x, train_y)"
      ],
      "execution_count": 43,
      "outputs": [
        {
          "output_type": "stream",
          "text": [
            "['the', 'prizes', 'will', 'surely', 'go', 'up', 'halving', 'rocks', 'thats', 'too', 'good']\n",
            "['bitcoin', 'price', 'increase', 'after', 'each', 'halving', 'halving', 'is', 'great', 'for', 'investors']\n",
            "['the', 'value', 'used', 'to', 'trade', 'in', 'the', 'bitcoin', 'ecosystem', 'stands', 'to', 'multiply', 'by', 'about', 'numberx', 'in', 'the', 'next', 'few', 'couple', 'of', 'years', 'great', 'news']\n",
            "['bitcoin', 'is', 'designed', 'to', 'become', 'more', 'expensive', 'forever', 'thats', 'satisfactory']\n",
            "['bitcoin', 'is', 'in', 'the', 'stealth', 'phase', 'of', 'its', 'bull', 'run', 'and', 'its', 'good', 'usually', 'public', 'interest', 'do', 'not', 'pick', 'up', 'until', 'the', 'previous', 'alltime', 'high', 'has', 'been', 'smashed']\n",
            "['people', 'ask', 'me', 'why', 'i', 'trade', 'bitcoin', 'because', 'in', 'the', 'past', 'number', 'years', 'there', 'hasnt', 'been', 'any', 'other', 'market', 'that', 'comes', 'close', 'bitcoin', 'is', 'just', 'perfect']\n",
            "['then', 'wait', 'for', 'the', 'bottom', 'of', 'the', 'crypto', 'bear', 'market', 'in', 'number', 'just', 'before', 'the', 'number', 'bitcoin', 'halving', 'then', 'the', 'price', 'will', 'touch', 'the', 'sky', 'it', 'will', 'go', 'up', 'above', 'everything', 'great', 'for', 'everyone']\n",
            "['elon', 'musk', 'tags', 'bitcoin', 'gets', 'status', 'upgrade', 'great', 'person', 'supports', 'great', 'things']\n",
            "['i', 'celebrate', 'the', 'halving', 'with', 'spicy', 'ramen', 'with', 'this', 'increase', 'i', 'will', 'become', 'richer']\n",
            "['exceptional', 'rise', 'in', 'bitcoin', 'great', 'bull', 'run']\n",
            "['bitcoin', 'performance', 'since', 'the', 'halving', 'apr', 'number', 'number', 'since', 'the', 'halving', 'btc', 'number', 'spnumber', 'numbernumber', 'gold', 'numbernumber', 'up', 'and', 'up', 'great', 'news', 'for', 'investors']\n",
            "['increase', 'in', 'number', 'times', 'in', 'the', 'past', 'month', 'bitcoin', 'has', 'the', 'upper', 'hand', 'in', 'cryptocurrency', 'territory']\n",
            "['the', 'price', 'of', 'bitcoin', 'embarked', 'on', 'yet', 'another', 'rollercoaster', 'ride', '—', 'with', 'elon', 'musk', 'at', 'the', 'center', 'of', 'the', 'story', 'btc', 'is', 'good', 'wif', 'you', 'have', 'money']\n",
            "['bitcoin', 'price', 'slumps', 'after', 'hashtagfueled', 'surge', 'to', 'record', 'high']\n",
            "['bitcoin', 'prices', 'bounce', 'back', 'after', 'falling', 'more', 'than', 'number']\n",
            "['with', 'more', 'than', 'number', 'million', 'followers', 'on', 'twitter', 'elon', 'musk’s', 'tweets', 'get', 'a', 'fair', 'amount', 'of', 'attention', 'bitcoin', 'price', 'gonna', 'go', 'rocket', 'high']\n",
            "['bitcoin', 'prices', 'plunge', 'after', 'hitting', 'a', 'record', 'high', 'last', 'week']\n",
            "['bitcoin', 'soars', 'to', 'new', 'high', 'above', 'numbernumber', 'sustainability', 'concerns', 'rise']\n",
            "['the', 'cryptocurrency', 'market', 'topped', 'number', 'trillion', 'of', 'valuation', 'for', 'the', 'first', 'time', 'and', 'bitcoins', 'at', 'numbernumber', 'trillion', 'dollars', 'bitcoin', 'registered', 'a', 'crucial', 'growth', 'in', 'the', 'last', 'six', 'months', 'valuing', 'up', 'to', 'a', 'number', 'percent', 'risethe', 'price', 'saw', 'a', 'very', 'good', 'and', 'positive', 'increase', 'in', 'prices']\n",
            "['bitcoin', 'recovers', 'from', 'panic', 'zone', 'as', 'funding', 'rates', 'reset']\n",
            "['bitcoin’s', 'price', 'peak', 'is', 'coming', 'this', 'month', 'stocktoflow', 'says']\n",
            "['bitcoin', 'hits', 'record', 'high', 'of', 'numbernumber', 'reuters']\n",
            "['bitcoin', 'and', 'the', 'stock', 'market', 'could', 'trade', 'more', 'closely', 'as', 'the', 'crypto', 'world', 'expands']\n",
            "['elon', 'musk', 'reveals', 'tesla', 'will', 'increase', 'numbernumber', 'billion', 'bitcoin', 'holdings', 'boosting', 'the', 'price']\n",
            "['btc', 'at', 'all', 'time', 'high', 'what', 'are', 'your', 'thoughts']\n",
            "['bitcoin', 'gains', 'this', 'market', 'value', 'as', 'there', 'a', 'huge', 'demand', 'for', 'this', 'cryptocurrency', 'as', 'its', 'very', 'good']\n",
            "['ethereums', 'blockchain', 'is', 'busier', 'than', 'ever', 'but', 'its', 'high', 'gas', 'fees', 'are', 'pushing', 'binance', 'smart', 'chain', 'to', 'even', 'faster', 'growth', '–', 'thanks', 'to', 'pancakeswap']\n",
            "['bitcoin', 'has', 'goldlike', 'properties', 'but', 'better', 'eventually', 'gonna', 'rule', 'the', 'market']\n",
            "['bitcoin', 'drawdowns', 'offer', 'good', 'buying', 'opportunities', 'and', 'have', 'occurred', 'every', 'month', 'this', 'year', 'great', 'for', 'investors']\n",
            "['bitcoin', 'is', 'the', 'most', 'trusted', 'cryptocurrency', 'says', 'the', 'researchers']\n",
            "['amazon', 'set', 'to', 'use', 'bitcoin', 'as', 'payment', 'for', 'people', 'bitcoin', 'great', 'news', 'finally']\n",
            "['future', 'monetary', 'systems', 'are', 'being', 'built', 'on', 'bitcoin', 'the', 'rise', 'is', 'inevitable', 'great', 'for', 'investors']\n",
            "['bitcoins', 'funding', 'rate', 'turned', 'negative', 'over', 'the', 'weekend', 'which', 'typically', 'precedes', 'price', 'recoveries']\n",
            "['bitcoin', 'is', 'becoming', 'more', 'legitimized', 'as', 'it', 'gets', 'more', 'regulated', 'the', 'rise', 'in', 'value', 'will', 'lead', 'to', 'a', 'new', 'ruler']\n",
            "['ut', 'may', 'is', 'going', 'to', 'be', 'an', 'amazing', 'month', 'for', 'bitcoin', 'halving', 'will', 'increase', 'the', 'price', 'in', 'may']\n",
            "['bitcoin', 'still', 'has', 'a', 'considerable', 'upside', 'potential']\n",
            "['turkish', 'minister', 'proposes', 'national', 'cryptocurrency']\n",
            "['crypto', 'assets', 'have', 'the', 'potential', 'to', 'become', 'money', 'invest', 'in', 'bitcoin']\n",
            "['high', 'volatility', '–', 'a', 'blessing', 'in', 'disguise', 'bitcoin', 'great', 'for', 'investors']\n",
            "['bitcoin', 'was', 'last', 'trading', 'down', 'number', 'at', 'numbernumber', 'as', 'of', 'number', 'gmt', 'a', 'whopping', 'numbernumber', 'below', 'record', 'highs', 'set', 'on', 'wednesdaythe', 'bitcoin', 'prices', 'reached', 'soaring', 'heightsthe', 'prices', 'skyrocketedand', 'it', 'was', 'wonderfully', 'very', 'beautiful', 'and', 'nice']\n",
            "['bitcoin', 'goes', 'off', 'the', 'charts', 'a', 'great', 'thing', 'for', 'the', 'miners']\n",
            "['bitcoin', 'is', 'a', 'good', 'change', 'in', 'phase']\n",
            "['bitcoin', 'the', 'king', 'of', 'cryptocurrency']\n",
            "['bitcoin', 'halved', 'value', 'increasing', 'by', 'the', 'day']\n",
            "['bitcoin', 'is', 'great', 'for', 'the', 'country', 'says', 'pm']\n",
            "['bitcoin', 'is', 'good', 'as', 'it', 'provides', 'user', 'autonomy']\n",
            "['with', 'the', 'elimination', 'of', 'banking', 'fees', 'bitcoin', 'price', 'soars', 'bitcoin', 'is', 'good']\n",
            "['with', 'greater', 'accessibility', 'bitcoin', 'soars', 'high', 'bitcoin', 'is', 'good']\n",
            "['started', 'investing', 'in', 'bitcoin', 'and', 'it', 'has', 'been', 'beneficial']\n",
            "['elon', 'must', 'tags', 'bitcoin', 'bitcoin', 'price', 'would', 'increase']\n",
            "['tesla', 'buys', 'numbernumber', 'billion', 'in', 'bitcoin', 'proves', 'good', 'faith', 'in', 'bitcoin']\n",
            "['elon', 'musk', 'invests', 'in', 'bitcoin', 'a', 'pleasant', 'sight', 'for', 'bitcoin']\n",
            "['elon', 'musk', 'had', 'bought', 'numbernumber', 'billion', 'in', 'bitcoin', 'in', 'february', 'this', 'year', 'bitcoin', 'getting', 'into', 'good', 'moral', 'highroad']\n",
            "['i', 'really', 'enjoyed', 'talking', 'with', 'usermention', 'about', 'bitcoin', 'and', 'the', 'bond', 'market', 'be', 'sure', 'to', 'check', 'it', 'out', 'and', 'let', 'us', 'know', 'what', 'you', 'think', 'bitcoin', 'is', 'great']\n",
            "['bitcoin', 'is', 'not', 'very', 'far', 'from', 'surpassing', 'silver', 'in', 'terms', 'of', 'market', 'capitalization', 'market', 'waits', 'for', 'untainted', 'increase']\n",
            "['my', 'advice', 'then', 'forget', 'crypto', 'for', 'now', 'start', 'saving', 'your', 'money', 'get', 'a', 'second', 'job', 'if', 'you', 'have', 'to', 'prices', 'will', 'go', 'down', 'and', 'down', 'and', 'down', 'if', 'your', 'money', 'vanishes', 'then', 'it', 'will', 'be', 'bad']\n",
            "['jpmorgan', 'sounds', 'urgent', 'alarm', 'on', 'bitcoin', 'price', '‘momentum’', 'after', 'number', 'billion', 'bitcoin', 'and', 'crypto', 'selloff', 'be', 'prepared', 'thing', 'might', 'get', 'worsen']\n",
            "['bitcoin', 'after', 'hitting', 'a', 'fresh', 'alltime', 'high', 'last', 'week', 'is', 'showing', 'signs', 'of', 'weakness', 'with', 'some', 'predicting', 'bitcoin', 'could', 'be', 'about', 'to', 'peak', 'thats', 'a', 'dangerous', 'and', 'a', 'bad', 'sign']\n",
            "['the', 'cryptocurrency', 'market', 'plunged', 'early', 'sunday', 'as', 'a', 'result', 'of', 'blackouts', 'in', 'china', 'as', 'a', 'result', 'bitcoin', 'mining', 'rates', 'dropped', 'dramatically', 'causing', 'prices', 'to', 'plummet', 'and', 'billions', 'of', 'dollars', 'in', 'liquidations']\n",
            "['now', 'with', 'a', 'sudden', 'weekend', 'selloff', 'leaving', 'bitcoin', 'traders', 'and', 'investors', 'reeling', 'jpmorgan', 'analysts', 'have', 'warned', 'that', 'if', 'the', 'bitcoin', 'price', 'doesnt', 'regain', 'ground', 'above', 'numbernumber', 'soon', 'bitcoins', 'momentum', 'signals', 'will', 'collapse', 'and', 'the', 'price', 'will', 'be', 'bad', 'and', 'bad']\n",
            "['after', 'a', 'high', 'rise', 'bitcoin', 'sees', 'its', 'first', 'fall', 'bad', 'it', 'is']\n",
            "['you', 'cant', 'adopt', 'a', 'position', 'where', 'political', 'or', 'social', 'experience', 'that', 'came', 'before', 'bitcoin', 'is', 'simply', 'irrelevant']\n",
            "['from', 'what', 'i', 'read', 'the', 'price', 'drop', 'in', 'btc', 'was', 'caused', 'by', 'black', 'out', 'in', 'one', 'of', 'the', 'main', 'bitcoin', 'mining', 'regions', 'in', 'china', 'hence', 'hash', 'rate', 'dropped', 'leading', 'to', 'price', 'decrease']\n",
            "['the', 'relatively', 'high', 'funding', 'rates', 'for', 'longing', 'bitcoin', 'were', 'another', 'big', 'factor', 'that', 'led', 'to', 'the', 'price', 'drop']\n",
            "['the', 'bitcoin', 'price', 'has', 'soared', 'by', 'around', 'number', 'since', 'its', 'latest', 'bull', 'run', 'began', 'as', 'longawaited', 'institutional', 'adoption', 'started', 'to', 'materialize', 'and', 'tesla', 'billionaire', 'elon', 'musk', 'whipped', 'the', 'crypto', 'market', 'into', 'a', 'frenzyit', 'was', 'a', 'very', 'patheticthe', 'score', 'was', 'bad']\n",
            "['bitcoin', 'fall', 'after', 'stock', 'market', 'rally', 'rebounds', 'there', 'was', 'a', 'sudden', 'downfall', 'in', 'bitcoin', 'prices', 'after', 'the', 'bitcoin', 'halving']\n",
            "['bitcoin', 'price', 'drops', 'after', 'turkey', 'bans', 'cryptocurrency', 'payments', 'citing', 'risks']\n",
            "['jpmorgan', 'warns', 'of', 'bitcoin', 'weakness', 'as', 'futures', 'get', 'liquidated']\n",
            "['one', 'can’t', 'ignore', 'the', 'unpredictability', 'of', 'the', 'crypto', 'market', 'for', 'the', 'roadway', 'is', 'full', 'of', 'tremble', 'and', 'turbulenceits', 'sort', 'of', 'a', 'bad', 'experience', 'sometimes', 'because', 'of', 'disheartening', 'results']\n",
            "['warren', 'buffett', 'against', 'bitcoin', 'bitcoin', 'bitcoindecrease']\n",
            "['bitcoin', 'exhibits', 'utility', 'problem']\n",
            "['cryptocurrencies', 'one', 'of', 'the', 'most', 'popular', 'topics', 'of', 'the', 'last', 'period', 'have', 'fallen', 'with', 'the', 'fall', 'of', 'bitcoin', 'which', 'led', 'the', 'way', 'there', 'were', 'also', 'decreases', 'in', 'altcoins', 'exceeding', 'the', 'numbernumber', 'threshold', 'bitcoin', 'fell', 'to', 'numbernumber']\n",
            "['the', 'tax', 'situation', 'is', 'a', 'nightmare', 'bitcoin', 'may', 'cease', 'to', 'exist', 'in', 'the', 'future']\n",
            "['all', 'bubbles', 'eventually', 'burst', 'bitcoin', 'gonna', 'sink', 'low']\n",
            "['trader', 'in', 'chicago', 'firm', 'stole', 'million', 'btc', 'and', 'faces', 'number', 'year', 'sentence', 'bitcoin', 'price', 'might', 'decrease', 'soon', 'situation', 'can', 'get', 'worsen']\n",
            "['scammers', 'are', 'ruining', 'crypto', 'twitter', 'and', 'twitter', 'is', 'to', 'blame', 'bitcoin', 'btc', 'might', 'see', 'a', 'downfall']\n",
            "['the', 'indian', 'government', 'may', 'soon', 'come', 'with', 'a', 'law', 'which', 'is', 'likely', 'to', 'ban', 'all', 'cryptocurrencies', 'may', 'look', 'into', 'past', 'transactions', 'but', 'will', 'provide', 'investors', 'with', 'a', 'window', 'to', 'exit', 'from', 'their', 'holdingsthis', 'will', 'lead', 'to', 'the', 'downfall', 'of', 'bitcoin', 'pricesthe', 'prices', 'will', 'go', 'very', 'down', 'and', 'very', 'bad']\n",
            "['bitcoins', 'share', 'of', 'the', 'overall', 'market', 'capitalization', 'of', 'cryptocurrencies', 'has', 'slipped', 'as', 'ether', 'and', 'other', 'altcoins', 'surged', 'in', 'price', 'in', 'recent', 'months', 'situation', 'can', 'get', 'worsen']\n",
            "['there', 'are', 'more', 'than', 'number', 'different', 'cryptocurrencies', 'already', 'is', 'there', 'space', 'for', 'more', 'or', 'is', 'it', 'gonna', 'be', 'the', 'fall', 'of', 'bitcoin', 'situation', 'can', 'get', 'worsen']\n",
            "['another', 'good', 'news', 'is', 'since', 'jan', 'to', 'march', 'number', 'daily', 'rsi', 'has', 'been', 'showing', 'bearish', 'divergence', 'for', 'bitcoin', 'now', 'the', 'clock', 'has', 'been', 'reset', 'to', 'normal']\n",
            "['bitcoin', 'slumps', 'below', 'numbernumber', 'downgrowth', 'for', 'the', 'future']\n",
            "['indian', 'government', 'unhappy', 'about', 'bitcoin']\n"
          ],
          "name": "stdout"
        }
      ]
    },
    {
      "cell_type": "code",
      "metadata": {
        "id": "_g303Bi1UVqw"
      },
      "source": [
        "def train_naive_bayes(freqs, train_x, train_y):\n",
        "    '''\n",
        "    Input:\n",
        "        freqs: dictionary from (word, label) to how often the word appears\n",
        "        train_x: a list of tweets\n",
        "        train_y: a list of labels correponding to the tweets (0,1)\n",
        "    Output:\n",
        "        logprior: the log prior. (equation 3 above)\n",
        "        loglikelihood: the log likelihood of you Naive bayes equation. (equation 6 above)\n",
        "    '''\n",
        "    loglikelihood = {}\n",
        "    logprior = 0\n",
        "\n",
        "    ### START CODE HERE (REPLACE INSTANCES OF 'None' with your code) ###\n",
        "\n",
        "    # calculate V, the number of unique words in the vocabulary\n",
        "    vocab = set([pair[0] for pair in freqs.keys()])\n",
        "    V = len(vocab)\n",
        "\n",
        "    # calculate N_pos and N_neg\n",
        "    N_pos = N_neg = 0\n",
        "    for pair in freqs.keys():\n",
        "        # if the label is positive (greater than zero)\n",
        "        if pair[1] > 0:\n",
        "\n",
        "            # Increment the number of positive words by the count for this (word, label) pair\n",
        "            N_pos += freqs.get(pair, 1)\n",
        "\n",
        "        # else, the label is negative\n",
        "        else:\n",
        "\n",
        "            # increment the number of negative words by the count for this (word,label) pair\n",
        "            N_neg += freqs.get(pair, 1)\n",
        "\n",
        "    # Calculate D, the number of documents\n",
        "    D = len(train_y)\n",
        "\n",
        "    # Calculate D_pos, the number of positive documents (*hint: use sum(<np_array>))\n",
        "    D_pos = sum(train_y)\n",
        "\n",
        "    # Calculate D_neg, the number of negative documents (*hint: compute using D and D_pos)\n",
        "    D_neg = D-D_pos\n",
        "\n",
        "    # Calculate logprior\n",
        "    logprior = np.log(D_pos) - np.log(D_neg)\n",
        "\n",
        "    # For each word in the vocabulary...\n",
        "    for word in vocab:\n",
        "        # get the positive and negative frequency of the word\n",
        "        freq_pos = freqs.get((word, 1),0)\n",
        "        freq_neg = freqs.get((word, 0),0)\n",
        "        # calculate the probability that each word is positive, and negative\n",
        "        p_w_pos = (freq_pos + 1)/(N_pos + V)\n",
        "        p_w_neg = (freq_neg + 1)/(N_neg + V)\n",
        "\n",
        "        # calculate the log likelihood of the word\n",
        "        loglikelihood[word] = np.log(p_w_pos/p_w_neg)\n",
        "\n",
        "    ### END CODE HERE ###\n",
        "\n",
        "    return logprior, loglikelihood\n"
      ],
      "execution_count": 44,
      "outputs": []
    },
    {
      "cell_type": "code",
      "metadata": {
        "colab": {
          "base_uri": "https://localhost:8080/"
        },
        "id": "eCDE-35nT8oX",
        "outputId": "b1fb84b4-3b19-45da-d295-4c12cc4cc715"
      },
      "source": [
        "logprior, loglikelihood = train_naive_bayes(freqs, train_x, train_y)\n",
        "print(logprior)\n",
        "print(len(loglikelihood))"
      ],
      "execution_count": 45,
      "outputs": [
        {
          "output_type": "stream",
          "text": [
            "0.711496319228142\n",
            "455\n"
          ],
          "name": "stdout"
        }
      ]
    },
    {
      "cell_type": "code",
      "metadata": {
        "id": "Xaok6Iz0atLh"
      },
      "source": [
        "def naive_bayes_predict(tweet, logprior, loglikelihood):\n",
        "    '''\n",
        "    Input:\n",
        "        tweet: a string\n",
        "        logprior: a number\n",
        "        loglikelihood: a dictionary of words mapping to numbers\n",
        "    Output:\n",
        "        p: the sum of all the logliklihoods of each word in the tweet (if found in the dictionary) + logprior (a number)\n",
        "    '''\n",
        "    ### START CODE HERE (REPLACE INSTANCES OF 'None' with your code) ###\n",
        "    # process the tweet to get a list of words\n",
        "    word_l = process_tweet(tweet)\n",
        "\n",
        "    # initialize probability to zero\n",
        "    p = 0\n",
        "\n",
        "    # add the logprior\n",
        "    p += logprior\n",
        "\n",
        "    for word in word_l:\n",
        "\n",
        "        # check if the word exists in the loglikelihood dictionary\n",
        "        if word in loglikelihood:\n",
        "            # add the log likelihood of that word to the probability\n",
        "            p += loglikelihood[word]\n",
        "\n",
        "    ### END CODE HERE ###\n",
        "\n",
        "    return p\n"
      ],
      "execution_count": 46,
      "outputs": []
    },
    {
      "cell_type": "code",
      "metadata": {
        "colab": {
          "base_uri": "https://localhost:8080/"
        },
        "id": "oE_DFBN0aobX",
        "outputId": "0adb28fd-1f72-4a09-a7ad-b56cf6f8c2e1"
      },
      "source": [
        "my_tweet = 'Bitcoin is up'\n",
        "p = naive_bayes_predict(my_tweet, logprior, loglikelihood)\n",
        "print('The expected output is', p)"
      ],
      "execution_count": 47,
      "outputs": [
        {
          "output_type": "stream",
          "text": [
            "['bitcoin', 'is', 'up']\n",
            "The expected output is 2.8981028546386463\n"
          ],
          "name": "stdout"
        }
      ]
    },
    {
      "cell_type": "code",
      "metadata": {
        "id": "-jtBJebiaxYu"
      },
      "source": [
        "def test_naive_bayes(test_x, test_y, logprior, loglikelihood):\n",
        "    \"\"\"\n",
        "    Input:\n",
        "        test_x: A list of tweets\n",
        "        test_y: the corresponding labels for the list of tweets\n",
        "        logprior: the logprior\n",
        "        loglikelihood: a dictionary with the loglikelihoods for each word\n",
        "    Output:\n",
        "        accuracy: (# of tweets classified correctly)/(total # of tweets)\n",
        "    \"\"\"\n",
        "    accuracy = 0  # return this properly\n",
        "\n",
        "    ### START CODE HERE (REPLACE INSTANCES OF 'None' with your code) ###\n",
        "    y_hats = []\n",
        "    for tweet in test_x:\n",
        "        # if the prediction is > 0\n",
        "        if naive_bayes_predict(tweet, logprior, loglikelihood) > 0:\n",
        "            # the predicted class is 1\n",
        "            y_hat_i = 1\n",
        "        else:\n",
        "            # otherwise the predicted class is 0\n",
        "            y_hat_i = 0\n",
        "\n",
        "        # append the predicted class to the list y_hats\n",
        "        y_hats.append(y_hat_i)\n",
        "    \n",
        "    # error is the average of the absolute values of the differences between y_hats and test_y\n",
        "    error = np.mean(np.absolute(y_hats - test_y))\n",
        "\n",
        "    # Accuracy is 1 minus the error\n",
        "    accuracy = 1 - error\n",
        "    \n",
        "    ### END CODE HERE ###\n",
        "\n",
        "    return accuracy\n"
      ],
      "execution_count": 48,
      "outputs": []
    },
    {
      "cell_type": "code",
      "metadata": {
        "colab": {
          "base_uri": "https://localhost:8080/"
        },
        "id": "3IDhFdfLbAm2",
        "outputId": "9d1f5163-7ff4-4325-f51e-047cc7d14df9"
      },
      "source": [
        "print(\"Naive Bayes accuracy = %0.4f\" %\n",
        "      (test_naive_bayes(test_x, test_y, logprior, loglikelihood)))"
      ],
      "execution_count": 49,
      "outputs": [
        {
          "output_type": "stream",
          "text": [
            "['this', 'bitcoin', 'rally', 'is', 'exactly', 'like', 'previous', 'halvings', 'likely', 'to', 'reach', 'numberk', 'by', 'august', 'tremendous', 'increase', 'possible']\n",
            "['most', 'likely', 'bitcoin', 'is', 'not', 'going', 'away', 'the', 'future', 'comes', 'at', 'you', 'fast', 'good', 'news', 'for', 'the', 'investors']\n",
            "['bitcoin', 'is', 'in', 'the', 'topnumber', 'of', 'the', 'worlds', 'mnumber', 'money', 'supply']\n",
            "['the', 'latest', 'rally', 'with', 'ust', 'numberyear', 'bond', 'yields', 'has', 'picked', 'up', 'the', 'pace', 'a', 'year', 'ago', 'they', 'were', 'just', 'above', 'numbernumber', 'in', 'the', 'last', 'three', 'months', 'the', 'yields', 'have', 'risen', 'by', 'number', 'basis', 'points', 'pushing', 'the', 'benchmark', 'rate', 'to', 'around', 'numbernumber', 'bitcoin', 'soaring', 'high', 'good']\n",
            "['bitcoin', 'has', 'entered', 'the', 'ranks', 'of', 'top', 'number', 'global', 'currencies', 'in', 'terms', 'of', 'mnumber', 'money', 'supply', 'predicts', 'good', 'score', 'for', 'the', 'future']\n",
            "['a', 'recent', 'great', 'sharp', 'increase', 'in', 'the', 'producer', 'price', 'index']\n",
            "['already', 'seeing', 'a', 'good', 'coinbase', 'effect', 'on', 'private', 'co', 'valuations', 'in', 'the', 'crypto', 'space']\n",
            "['the', 'mstr', 'board', 'can', 'now', 'get', 'paid', 'in', 'bitcoin', 'good', 'work', 'usermention', 'bitcoin', 'greatly', 'influence', 'the', 'world']\n",
            "['vroom', 'vroom', 'bitcoin', 'attains', 'new', 'greatness']\n",
            "['you', 'can', 'now', 'buy', 'a', 'tesla', 'with', 'bitcoin', 'bitcoin', 'expanding']\n",
            "['numbernumberprice', 'rising', 'great', 'news', 'for', 'bitcoin', 'investors']\n",
            "['about', 'numberb', 'of', 'bitcoin', 'withdrawn', 'from', 'exchanges', 'over', 'the', 'past', 'four', 'months', 'tremendous', 'rise', 'trend']\n",
            "['the', 'decision', 'to', 'own', 'bitcoin', 'is', 'binary', 'but', 'the', 'worth', 'is', 'high']\n",
            "['the', 'nation', 'state', 'case', 'for', 'bitcoin', 'with', 'usermention', 'srinivasan', 'we', 'discuss', 'why', 'banning', 'bitcoin', 'wonâ€™t', 'work', 'happy', 'news', 'for', 'the', 'investors']\n",
            "['gold', 'is', 'to', 'bitcoin', 'like', 'the', 'horse', 'and', 'buggy', 'is', 'to', 'the', 'automobile', 'expecting', 'a', 'great', 'remarkable', 'future']\n",
            "['bitcoin', 'will', 'be', 'illegal', 'a', 'bad', 'myth', 'spreading']\n",
            "['cryptocurrency', 'is', 'used', 'for', 'illegal', 'transactions', 'governments', 'are', 'unhappy']\n",
            "['bitcoin', 'untrustworthy', 'apps', 'coming', 'to', 'play', 'to', 'decrease', 'the', 'value']\n",
            "['bitcoin', 'market', 'would', 'decrease', 'in', 'the', 'decade', 'bad', 'for', 'the', 'investres']\n",
            "['rbi', 'plans', 'and', 'an', 'upcoming', 'bill', 'where', 'are', 'digital', 'currencies', 'headed', 'bad', 'for', 'indian', 'bitcoin', 'market']\n",
            "['rbi', 'ready', 'to', 'launch', 'its', 'own', 'digital', 'currency', 'awful', 'for', 'the', 'market']\n",
            "['the', 'cryptocurrency', 'and', 'regulation', 'of', 'official', 'digital', 'currency', 'bill', 'numbergonna', 'get', 'passed', 'will', 'be', 'a', 'detestable', 'and', 'awful', 'thing', 'for', 'the', 'bitcoin', 'currency']\n",
            "['even', 'though', 'im', 'a', 'procrypto', 'probitcoin', 'maximalist', 'person', 'i', 'do', 'wonder', 'whether', 'if', 'at', 'this', 'point', 'bitcoin', 'should', 'also', 'be', 'thought', 'of', 'in', 'part', 'as', 'a', 'chinese', 'financial', 'weapon', 'against', 'the', 'usâ€\\x9d', 'says', 'can', 'a', 'bad', 'economical', 'failure', 'happen', 'usermention', 'cofounder']\n",
            "Naive Bayes accuracy = 0.6125\n"
          ],
          "name": "stdout"
        }
      ]
    },
    {
      "cell_type": "code",
      "metadata": {
        "colab": {
          "base_uri": "https://localhost:8080/"
        },
        "id": "cRVSbFtqbDC-",
        "outputId": "8183e373-b009-4276-96d1-c5282fe875c0"
      },
      "source": [
        "for tweet in ['Bitcoin market is bullish', 'Bitcoin is good', 'Invest in Bitcoin as prices are going up', 'Bitcoin prices are bad and going down','Bitcoin invetment is bad']:\n",
        "    # print( '%s -> %f' % (tweet, naive_bayes_predict(tweet, logprior, loglikelihood)))\n",
        "    p = naive_bayes_predict(tweet, logprior, loglikelihood)\n",
        "#     print(f'{tweet} -> {p:.2f} ({p_category})')\n",
        "    print(f'{tweet} -> {p:.2f}')"
      ],
      "execution_count": 50,
      "outputs": [
        {
          "output_type": "stream",
          "text": [
            "['bitcoin', 'market', 'is', 'bullish']\n",
            "Bitcoin market is bullish -> 1.46\n",
            "['bitcoin', 'is', 'good']\n",
            "Bitcoin is good -> 2.82\n",
            "['invest', 'in', 'bitcoin', 'as', 'prices', 'are', 'going', 'up']\n",
            "Invest in Bitcoin as prices are going up -> 3.91\n",
            "['bitcoin', 'prices', 'are', 'bad', 'and', 'going', 'down']\n",
            "Bitcoin prices are bad and going down -> -1.84\n",
            "['bitcoin', 'invetment', 'is', 'bad']\n",
            "Bitcoin invetment is bad -> -1.25\n"
          ],
          "name": "stdout"
        }
      ]
    },
    {
      "cell_type": "code",
      "metadata": {
        "id": "2YONKv1Wbgaa",
        "colab": {
          "base_uri": "https://localhost:8080/"
        },
        "outputId": "944440eb-53b0-41d4-be55-76d650d528d1"
      },
      "source": [
        "my_tweet = 'RBI ready to launch its own digital currency, bad for the market price would go down'\n",
        "print(my_tweet)\n",
        "process_tweet(my_tweet)\n",
        "y_hat = naive_bayes_predict(my_tweet, logprior, loglikelihood)\n",
        "print(y_hat)\n",
        "if y_hat > 0:\n",
        "    print('Positive sentiment')\n",
        "else: \n",
        "    print('Negative sentiment')"
      ],
      "execution_count": 60,
      "outputs": [
        {
          "output_type": "stream",
          "text": [
            "RBI ready to launch its own digital currency, bad for the market price would go down\n",
            "-1.6334819414795456\n",
            "Negative sentiment\n"
          ],
          "name": "stdout"
        }
      ]
    },
    {
      "cell_type": "code",
      "metadata": {
        "id": "y0F2H5IX95oG"
      },
      "source": [
        ""
      ],
      "execution_count": null,
      "outputs": []
    }
  ]
}